{
 "cells": [
  {
   "cell_type": "markdown",
   "metadata": {},
   "source": [
    "# Homewok 2"
   ]
  },
  {
   "cell_type": "markdown",
   "metadata": {},
   "source": [
    "## Problem 1: Factorization of Integers\n",
    "\n",
    "Factor an integer greater than equal to 2 into primes.  Your output for `n` should be a list (of lists): `[ [p1, 21], [p2, e2], ... , [pk, ek] ]`, where the `pi`s are prime *in increasing order* and `ei`s are positive integers, with `n = p1^e1 * p2^e2 * ... * pk^ek`.\n",
    "\n",
    "So, if your input is $1008 = 2^4 \\cdot 3^2 \\cdot 7$, the output should be `[[2, 4], [3, 2], [7, 1]]`.\n",
    "\n",
    "**Note:** You are allowed to use the `next_prime` function in Sage, but no other \"advanced\" function.  Of course, you **cannot** use `factor`.\n",
    "\n",
    "**Hint:** Here is how one can do this:\n",
    "\n",
    "1) Initialize the prime with $p \\leftarrow 2$ and the result as an empty list.\n",
    "2) While $n > 1$:\n",
    "   1) Initialize $e \\leftarrow 0$.\n",
    "   2) While $p$ divides $n$, replace $n \\leftarrow n/p$ and $e \\leftarrow e + 1$.\n",
    "   3) If $e >0$, append the list $[p, e]$ to the result.\n",
    "   4) Replace $p$ by the next prime after $p$ (using `next_prime`).\n",
    "3) Return the result list."
   ]
  },
  {
   "cell_type": "code",
   "execution_count": null,
   "metadata": {
    "collapsed": false,
    "jupyter": {
     "outputs_hidden": false
    }
   },
   "outputs": [],
   "source": [
    "def my_fact(n):\n",
    "    \"\"\"\n",
    "    Given an integer n >= 2, returns the prime factorization of n.\n",
    "\n",
    "    INPUT:\n",
    "    n: an integer greater than or equal to 2 to be factorzied into primes.\n",
    "\n",
    "    OUTPUT:\n",
    "    A list containing lists with corresponding primes and powers, with primes\n",
    "    in incresing order.\n",
    "    \"\"\"\n",
    "    ..."
   ]
  },
  {
   "cell_type": "markdown",
   "metadata": {},
   "source": [
    "Let's test it:"
   ]
  },
  {
   "cell_type": "code",
   "execution_count": null,
   "metadata": {
    "collapsed": false,
    "jupyter": {
     "outputs_hidden": false
    },
    "scrolled": true
   },
   "outputs": [],
   "source": [
    "number_of_tests = 30\n",
    "minn = 1000\n",
    "maxn = 1000000\n",
    "\n",
    "for _ in range(number_of_tests):\n",
    "    n = randint(minn, maxn)\n",
    "    result = my_fact(n)\n",
    "    expected = [[p, e] for p, e in factor(n)]\n",
    "    if result != expected:\n",
    "        print(f\"Fails {n = }.\")\n",
    "        print(\n",
    "            f\"It gives {result}, while the correct answer is {expected}\"\n",
    "        )\n",
    "        break\n",
    "else:\n",
    "    print(\"It works!\")"
   ]
  },
  {
   "cell_type": "markdown",
   "metadata": {},
   "source": [
    "## Problem 2: Euler Phi Function\n",
    "\n",
    "Given positive integers $n$, compute the Euler-$\\phi$ function of $n$, as [defined in the book](https://luisfinotti.org/pcimc/05-Powers.html#def-euler_phi), i.e., the number of elements in $\\{1, 2, 3, \\ldots, n-1\\}$ relatively prime to $n$.  \n",
    "\n",
    "**Note:** You *can* use Sage's `gcd` function."
   ]
  },
  {
   "cell_type": "code",
   "execution_count": null,
   "metadata": {
    "collapsed": false,
    "jupyter": {
     "outputs_hidden": false
    }
   },
   "outputs": [],
   "source": [
    "def my_euler_phi(n):\n",
    "    \"\"\"\n",
    "    Given n, computes the Euler phi function of n.\n",
    "\n",
    "    INPUT:\n",
    "    n: a positive integer.\n",
    "\n",
    "    OUTPUT:\n",
    "    The Euler-phi function of n.\n",
    "    \"\"\"\n",
    "    ..."
   ]
  },
  {
   "cell_type": "markdown",
   "metadata": {},
   "source": [
    "Let's test it:"
   ]
  },
  {
   "cell_type": "code",
   "execution_count": null,
   "metadata": {
    "collapsed": false,
    "jupyter": {
     "outputs_hidden": false
    }
   },
   "outputs": [],
   "source": [
    "number_of_tests = 30\n",
    "minn = 1000\n",
    "maxn = 10000\n",
    "\n",
    "for _ in range(number_of_tests):\n",
    "    n = randint(minn, maxn)\n",
    "    result = my_euler_phi(n)\n",
    "    expected = euler_phi(n)\n",
    "    if result != expected:\n",
    "        print(\n",
    "            f\"Fails for {n = }.  It gives {result}, but it should be {expected}.\"\n",
    "        )\n",
    "        break\n",
    "else:\n",
    "    print(\"It works!\")"
   ]
  },
  {
   "cell_type": "markdown",
   "metadata": {},
   "source": [
    "## Problem 3: Representation in Base $b$\n",
    "\n",
    "Given positive integers $n$ and $b$, write $n$ in base $b$, i.e., as\n",
    "$$\n",
    "n = d_0 + d_1 \\cdot b + d_2 \\cdot b^2 + \\cdots + d_k \\cdot b^k\n",
    "$$\n",
    "where $d_i \\in \\{0, 1, \\ldots, b-1 \\}$.\n",
    "\n",
    "Your annswer should be a list $[d_0, d_1, \\ldots, d_k]$ *in this order!*\n",
    "\n",
    "**Hint:** You can use the [algorithm given in the book](https://luisfinotti.org/pcimc/05-Powers.html#al-base).  Also, `divmod` from Sage might be useful."
   ]
  },
  {
   "cell_type": "code",
   "execution_count": null,
   "metadata": {
    "collapsed": false,
    "jupyter": {
     "outputs_hidden": false
    }
   },
   "outputs": [],
   "source": [
    "def my_baseb(n, b):\n",
    "    \"\"\"\n",
    "    Given a positive integer n and an integer b >= 2, cpomputes\n",
    "    the b-adic digts of n.\n",
    "\n",
    "    INPUTS:\n",
    "    n: a positive integer to be represented in base b;\n",
    "    b: the base (integer greater than one).\n",
    "\n",
    "    OUTPUT:\n",
    "    A list containing the digits of n in base b, starting with the coefficient\n",
    "    of b^0.\n",
    "    \"\"\"\n",
    "    ..."
   ]
  },
  {
   "cell_type": "markdown",
   "metadata": {},
   "source": [
    "Let's test it using Sage's method `.digits(base=b)`.  Note that this a method for *Sage integers*, not for Python integers.  So, int the code below I need to convert the Python integer that `randint` spits out to a Sage integer.  Since Sage has the shortcut `ZZ` for the class of Sage integers, we can convert the Python integer `n` to a Sage integer with `ZZ(n)`.\n",
    "\n",
    "That's why below we have `ZZ(n).digits(base=b)`, as `n.digits(base=b)` does not work!"
   ]
  },
  {
   "cell_type": "code",
   "execution_count": null,
   "metadata": {
    "collapsed": false,
    "jupyter": {
     "outputs_hidden": false
    }
   },
   "outputs": [],
   "source": [
    "number_of_tests = 30\n",
    "\n",
    "for _ in range(number_of_tests):\n",
    "    b = randint(2, 100)\n",
    "    n = randint(300, 10000)\n",
    "    result = my_baseb(n, b)\n",
    "    expected = ZZ(n).digits(base=b)\n",
    "    if result != expected:\n",
    "        print(f\"Fails for {n = } and {b = }.\")\n",
    "        print(f\"It gives {result} when it should give {expected}.\")\n",
    "        break\n",
    "else:\n",
    "    print(\"It works!\")"
   ]
  },
  {
   "cell_type": "markdown",
   "metadata": {},
   "source": [
    "## Problem 4: Fast Exponentiation Modulo m\n",
    "\n",
    "In this problem you will implement fast exponentiation modulo $m$ with successive squaring, as [described in the book](https://luisfinotti.org/pcimc/05-Powers.html#al-fast_power).\n",
    "\n",
    "Given *integers* `a`, `n`, and `m` (with $n \\geq 0$ and $m > 1$) you will compute `a^n` (i.e. $a^n$) modulo `m` using successive squaring.\n",
    "\n",
    "**Notes:**\n",
    "\n",
    " - Remember to reduce modulo $m$ every time you do a multiplication!\n",
    " - Assume that $a^0=1$, even if $a=0$.\n",
    " - Compute powers using only squaring!\n",
    " - You *are* allowed to use `n.digits(base=2)`.  Remember that you need to use a *Sage integer* to use `.digits`.  To convert a Python integer `a` to a Sage integer, use `ZZ(a)`."
   ]
  },
  {
   "cell_type": "code",
   "execution_count": null,
   "metadata": {
    "collapsed": false,
    "jupyter": {
     "outputs_hidden": false
    }
   },
   "outputs": [],
   "source": [
    "def suc_sqr(a, n, m):\n",
    "    \"\"\"\n",
    "    Computes the remainder of a^n when divided by m.\n",
    "\n",
    "    INPUTS:\n",
    "    a: a base of the power (intger),\n",
    "    n: the power of a (positive integer),\n",
    "    m: the modulus (integer >= 1).\n",
    "\n",
    "    OUTPUT:\n",
    "    The reduction of a^n modulo m.\n",
    "    \"\"\"\n",
    "    # Using Sage for the binary representation\n",
    "    bits = ZZ(n).digits(base=2)\n",
    "    ..."
   ]
  },
  {
   "cell_type": "markdown",
   "metadata": {},
   "source": [
    "Test it:"
   ]
  },
  {
   "cell_type": "code",
   "execution_count": null,
   "metadata": {
    "collapsed": false,
    "jupyter": {
     "outputs_hidden": false
    }
   },
   "outputs": [],
   "source": [
    "number_of_tests = 30\n",
    "\n",
    "for _ in range(number_of_tests):\n",
    "    m = randint(10, 300)\n",
    "    n = randint(50, 100)\n",
    "    a = randint(0, m - 1)\n",
    "    result = ZZ(suc_sqr(a, n, m))\n",
    "    expected = ZZ((Mod(a, m))^n)\n",
    "    if result != expected:\n",
    "        print(f\"Fails for {a = }, {n = }, and {m = }.\")\n",
    "        print(\n",
    "            f\"It gives {result}, while the correct answer is {expected}.\"\n",
    "        )\n",
    "        break\n",
    "else:\n",
    "    print(\"It works!\")"
   ]
  },
  {
   "cell_type": "markdown",
   "metadata": {},
   "source": [
    "### Optional (and not graded): Test Speed\n",
    "\n",
    "Run the cells below to have an idea of how much faster the sucessive squaring is compared to simply multiplication.  First, let me make a function for naive exponentiation:"
   ]
  },
  {
   "cell_type": "code",
   "execution_count": null,
   "metadata": {
    "collapsed": false,
    "jupyter": {
     "outputs_hidden": false
    }
   },
   "outputs": [],
   "source": [
    "def my_power(a, n, m):\n",
    "    '''\n",
    "    Computes the remainder of a^n when divided by m the\n",
    "    naive way.\n",
    "\n",
    "    INPUTS:\n",
    "    a: a base of the power (intger),\n",
    "    n: the power of a (positive integer),\n",
    "    m: the modulus (integer >= 1).\n",
    "\n",
    "    OUTPUT:\n",
    "    The reduction of a^n modulo m.\n",
    "    '''\n",
    "    res = 1\n",
    "    for i in range(n):\n",
    "        res = (res * a) % m\n",
    "    return res"
   ]
  },
  {
   "cell_type": "markdown",
   "metadata": {},
   "source": [
    "Let's define $a$, $n$, and $m$:"
   ]
  },
  {
   "cell_type": "code",
   "execution_count": null,
   "metadata": {
    "collapsed": false,
    "jupyter": {
     "outputs_hidden": false
    }
   },
   "outputs": [],
   "source": [
    "a = 371\n",
    "n = 200000000\n",
    "m = 10000"
   ]
  },
  {
   "cell_type": "markdown",
   "metadata": {},
   "source": [
    "Run below to compare the times:"
   ]
  },
  {
   "cell_type": "code",
   "execution_count": null,
   "metadata": {
    "collapsed": false,
    "jupyter": {
     "outputs_hidden": false
    }
   },
   "outputs": [],
   "source": [
    "%%time\n",
    "my_power(a,n,m)"
   ]
  },
  {
   "cell_type": "code",
   "execution_count": null,
   "metadata": {
    "collapsed": false,
    "jupyter": {
     "outputs_hidden": false
    }
   },
   "outputs": [],
   "source": [
    "%%time\n",
    "suc_sqr(a,n,m)"
   ]
  },
  {
   "cell_type": "markdown",
   "metadata": {},
   "source": [
    "As to be expected, doing it directly is Sage is much more efficient!"
   ]
  },
  {
   "cell_type": "code",
   "execution_count": null,
   "metadata": {
    "collapsed": false,
    "jupyter": {
     "outputs_hidden": false
    }
   },
   "outputs": [],
   "source": [
    "%%time\n",
    "(Zmod(m)(a))^n"
   ]
  }
 ],
 "metadata": {
  "kernelspec": {
   "display_name": "SageMath 10.5",
   "language": "sage",
   "name": "sage-10.5"
  },
  "language_info": {
   "codemirror_mode": {
    "name": "ipython",
    "version": 3
   },
   "file_extension": ".py",
   "mimetype": "text/x-python",
   "name": "python",
   "nbconvert_exporter": "python",
   "pygments_lexer": "ipython3",
   "version": "3.12.5"
  }
 },
 "nbformat": 4,
 "nbformat_minor": 4
}
