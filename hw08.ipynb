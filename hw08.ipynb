{
 "cells": [
  {
   "cell_type": "markdown",
   "metadata": {},
   "source": [
    "# Homework 8"
   ]
  },
  {
   "cell_type": "markdown",
   "metadata": {},
   "source": [
    "## Problem 1:  Square Roots Modulo $p$\n",
    "\n",
    "In this problem you will implement the algorithm for computing square roots modulo an odd prime $p$, as [described in the book](https://luisfinotti.org/pcimc/13-Square_Roots.html#square-roots-module-odd-primes).  You can use Sage's `is_square` function to determine if your element has a square root (i.e., is a square).  If not, your function should return `None`.  (This is already done for you below.)\n",
    "\n",
    "The input is simply some $a \\in \\mathbb{F}_p$ (for some $p$), and the output should be some $b \\in \\mathbb{F}_p$ such that $b^2 = a$ (in $\\mathbb{F}_p$, if exists).  (Note that $b$ is not unique unless $a=0$.  But the only other possibility is $-b$.)\n",
    "\n",
    "**Note:** \n",
    "\n",
    "- Again, you can get $\\mathbb{F}_p$ from $a$ with `F = parent(a)` and $p$ from $\\mathbb{F}_p$ with `p = F.characteristic()`.\n",
    "- You hould do the cases of $p \\equiv 1  \\pmod{4}$ and $p \\equiv 3 \\pmod{4}$ separately.  For the former, use the [Tonelli-Shanks Algorithm](https://luisfinotti.org/pcimc/13-Square_Roots.html#al-TS).\n",
    "- You should also take care of the cases $a=0$ and $a=1$ separately."
   ]
  },
  {
   "cell_type": "code",
   "execution_count": null,
   "metadata": {},
   "outputs": [],
   "source": [
    "def sqrt_modp(a):\n",
    "    \"\"\"\n",
    "    Given a in F_p, computes one of its square roots if possible, or returns\n",
    "    None if there is none.\n",
    "\n",
    "    INPUT:\n",
    "    a: an element of FiniteField(p).\n",
    "\n",
    "    OUTPUT:\n",
    "    A square root of a (in F_p), if it exists, and None if it does not.\n",
    "    \"\"\"\n",
    "    if not is_square(a):\n",
    "        return None\n",
    "    ..."
   ]
  },
  {
   "cell_type": "markdown",
   "metadata": {},
   "source": [
    "Let's test it:"
   ]
  },
  {
   "cell_type": "code",
   "execution_count": null,
   "metadata": {},
   "outputs": [],
   "source": [
    "number_of_tests = 200\n",
    "min_p = 1000\n",
    "max_p = 2000\n",
    "\n",
    "for _ in range(number_of_tests):\n",
    "    p = random_prime(max_p, lbound = min_p)\n",
    "    F = FiniteField(p)\n",
    "    a = F(randint(0, p - 1))\n",
    "    result = sqrt_modp(a)\n",
    "    if is_square(a):\n",
    "        if result == None:\n",
    "            print(f\"Your function gave that {a} mod {p} has no square root, which is incorrect.\")\n",
    "            break\n",
    "        else:\n",
    "            if result^2 != a:\n",
    "                print(f\"Your function gave {result} as a square root of {a} mod {p}, which is incorrect.\")\n",
    "                break\n",
    "    else:\n",
    "        if result != None:\n",
    "            print(f\"Your function gave {result} as a square root of {a} mod {p}, but there is no square root in this case.\")\n",
    "            break\n",
    "else:\n",
    "    print(\"It works!\")"
   ]
  },
  {
   "cell_type": "markdown",
   "metadata": {},
   "source": [
    "## Problem 2: Square Roots Module $p^n$\n",
    "\n",
    "Given an *odd* prime $p$, a power $n \\geq 2$, and integers $a$ and $b$ with $p \\nmid a$ and $b^2 \\equiv a \\pmod{p}$, you will use *Hensel's Lemma*, more precisely, [its application to square roots](https://luisfinotti.org/pcimc/13-Square_Roots.html#th-hl-sqrt-odd) to find some integer $x$ such that $x^2 \\equiv a \\pmod{p^n}$.\n",
    "\n",
    "**We will skip the case $p=2$.**  (It is [done in the book](https://luisfinotti.org/pcimc/13-Square_Roots.html#implementation).)\n",
    "\n",
    "We will assume that every input is an integer.  Your (unique) solution should be also an *integer* in $\\{0, 1, \\ldots, (p^n-1)\\}$ (i.e., reduced modulo $p^n$).\n",
    "\n",
    "(You do *not* need to check that $p \\nmid a$ or $b^2 \\equiv a \\pmod{p}$.)\n",
    "\n",
    "**Hint:** You just need to follow the [algorithm in the book](https://luisfinotti.org/pcimc/13-Square_Roots.html#al-sqrt-power-p).  Also, see the [example done in the book](https://luisfinotti.org/pcimc/13-Square_Roots.html#id3)."
   ]
  },
  {
   "cell_type": "code",
   "execution_count": null,
   "metadata": {},
   "outputs": [],
   "source": [
    "def my_sqrt(a, b, p, n):\n",
    "    \"\"\"\n",
    "    Given b such that b^2 is a modulo p, returns x such that x^2 is a modulo\n",
    "    p^n.\n",
    "\n",
    "    INPUTS:\n",
    "    a, b, p (integers): p is a prime not dividing a and b^2 is congruent to a\n",
    "                        modulo p;\n",
    "    n: a power of p (integer greater than or equal to 2).\n",
    "\n",
    "    OUTPUT:\n",
    "    An integer x in 1, 2, ... , p^n - 1 such that x^2 is congruent to a modulo\n",
    "    p^n.\n",
    "    \"\"\"\n",
    "    if n == 1:\n",
    "        return b % p\n",
    "    ..."
   ]
  },
  {
   "cell_type": "markdown",
   "metadata": {},
   "source": [
    "Let's test it."
   ]
  },
  {
   "cell_type": "code",
   "execution_count": null,
   "metadata": {},
   "outputs": [],
   "source": [
    "number_of_tests = 30\n",
    "\n",
    "max_p = 100\n",
    "\n",
    "min_n = 10\n",
    "max_n = 20\n",
    "\n",
    "min_a = 2\n",
    "max_a = 1000\n",
    "\n",
    "\n",
    "for _ in range(number_of_tests):\n",
    "    p = random_prime(max_p, lbound=3)\n",
    "    n = randint(min_n, max_n)\n",
    "    R = Zmod(p)\n",
    "    a = ZZ(randint(min_a, max_a))\n",
    "    aa = R(a)\n",
    "    while (not is_square(aa)) or aa == 0:\n",
    "        a = ZZ(randint(min_a, max_a))\n",
    "        aa = R(a)\n",
    "    bb = sqrt(aa)\n",
    "    b = ZZ(bb)\n",
    "    x = my_sqrt(a, b, p, n)\n",
    "    if Mod(x, p^n)^2 != Mod(a, p^n):\n",
    "        print(f\"{x} is not a square root of {a} modulo {p}^{n}.\")\n",
    "        break\n",
    "else:\n",
    "    print(\"It works!\")"
   ]
  },
  {
   "cell_type": "markdown",
   "metadata": {},
   "source": [
    "## Problem 3: Quadratic Reciprocity"
   ]
  },
  {
   "cell_type": "markdown",
   "metadata": {},
   "source": [
    "In this problem, given an integer $a$ (maybe negative!) and a prime $p$, we check if $a$ is a square modulo $p$ using quadratic reciprocity.\n",
    "\n",
    "You can simply follow the [algorithm given in the book](https://luisfinotti.org/pcimc/13-Square_Roots.html#al-sqr-qr).\n",
    "\n",
    "Again, the function `valuation` is useful to remove powers of $2$."
   ]
  },
  {
   "cell_type": "code",
   "execution_count": null,
   "metadata": {},
   "outputs": [],
   "source": [
    "def my_is_sqr(a, p):\n",
    "    \"\"\"\n",
    "    Use quadratic reciprocity to determine if a is a square modulo p.\n",
    "\n",
    "    INPUT:\n",
    "    a: an integer;\n",
    "    p: a prime.\n",
    "\n",
    "    OUTPUT:\n",
    "    True if a is a square modulo p, False if not.\n",
    "    \"\"\"\n",
    "    ..."
   ]
  },
  {
   "cell_type": "markdown",
   "metadata": {},
   "source": [
    "Let's test it:"
   ]
  },
  {
   "cell_type": "code",
   "execution_count": null,
   "metadata": {},
   "outputs": [],
   "source": [
    "number_of_tests = 30\n",
    "\n",
    "min_p = 1000\n",
    "max_p = 2000\n",
    "\n",
    "for _ in range(number_of_tests):\n",
    "    p = random_prime(max_p, lbound = min_p)\n",
    "    a = (-1)^randint(0, 1) * randint(2 , p - 1)\n",
    "    R = Zmod(p)\n",
    "    if (is_square(R(a)) != my_is_sqr(a, p)):\n",
    "        if is_square(R(a)):\n",
    "            print(f\"{a} is a square mod {p}, but your function gives False.\")\n",
    "            break\n",
    "        else:\n",
    "            print(f\"{a} is not a square mod {p}, but your function gives True.\")\n",
    "            break\n",
    "else:\n",
    "    print(\"It works!\")"
   ]
  },
  {
   "cell_type": "markdown",
   "metadata": {},
   "source": [
    "## Problem 4: Quadratic Sieve (Relation Building)\n",
    "\n",
    "Given $N = pq$ (for large primes $p$ and $q$), bounds $b$ and $B$ (all positive integers), with $\\lfloor \\sqrt{N} \\rfloor + 1 < b < \\lfloor 2\\sqrt{N}\\rfloor$, you will find all $B$-smooth $x$'s such that $\\lfloor \\sqrt{N} \\rfloor + 1 \\leq x \\leq b$.\n",
    "\n",
    "The [algorithm is described in the book](https://luisfinotti.org/pcimc/14-Quad_Sieve_Index_Calc.html#al-rel-build), where you also find [an example](https://luisfinotti.org/pcimc/14-Quad_Sieve_Index_Calc.html#example).\n",
    "\n",
    "Note that the output must be *two* lists: the $x$'s themselves and the corresponding values of $x^2 - N$ (which are the reductions modulo $N$ of $x^2$)!\n",
    "\n",
    "**Hints:** \n",
    "1) To loop over primes less than or equal to $B$ you can do\n",
    "    ```python\n",
    "    # loop over primes between 2 and B (inclusive)\n",
    "    for p in primes(B + 1):\n",
    "        ...\n",
    "    ```\n",
    "2) To find the first element greater than or equal to `a0` that is congruent to `r` modulo `p^n`, you can do\n",
    "    ```python\n",
    "    # first integer >= a0 congruent to r mod p^n\n",
    "    r0 = r + ceil((a0 - r) / p^n) * p^n\n",
    "    ```\n",
    "    This is helpful when finding the first element of `list_a`, with elements from $\\lfloor \\sqrt{N} \\rfloor$ to $b$, congruent to some root `r`, by taking `a0 = list_a[0]`.\n",
    "3) Since `list_a` (as above) contains consecutive number, the index of an element `x` in `list_a`, assuming that `x` is indeed in the list, is `x - a0` (with `a0 = list_a[0]` again).\n",
    "4) If `v` and `w` are lists, to create a lists with elements of `v` in positions where `w` has ones, we can do\n",
    "    ```python\n",
    "    # elements of v where w is 1\n",
    "    [v[i] for i, x in enumerate(w) if x == 1]\n",
    "    ```\n",
    "5) Use the function `mod_sqrt` below to compute the square roots modulo powers of primes."
   ]
  },
  {
   "cell_type": "markdown",
   "metadata": {},
   "source": [
    "<hr />\n",
    "\n",
    "Part of what you have to do is find all solutions of equations $x^2 \\equiv N \\pmod{p^n}$.  We could use Problems 1 and 2, but 2 is incomplete, and this part should be independent of the previous ones, so we will use Sage's own routines."
   ]
  },
  {
   "cell_type": "code",
   "execution_count": null,
   "metadata": {},
   "outputs": [],
   "source": [
    "def mod_sqrt(N, m):\n",
    "    \"\"\"\n",
    "    Returns all (if any) square roots of N modulo m.\n",
    "\n",
    "    INPUTS:\n",
    "    N: an integer to take the square root (modulo m);\n",
    "    m: the modulus.\n",
    "\n",
    "    OUTPUT:\n",
    "    A list (perhaps empty) if integers containing all square roots of N modulo\n",
    "    m.\n",
    "    \"\"\"\n",
    "    R = Zmod(m)\n",
    "    PR.<x> = PolynomialRing(R)\n",
    "    f = x^2 - N\n",
    "    return [ZZ(x) for x in f.roots(multiplicities=False)]"
   ]
  },
  {
   "cell_type": "markdown",
   "metadata": {},
   "source": [
    "**IMPORTANT:** You cannot use the code of this function to help you with the previous parts!  You must use the methods discussed in the book and explicitly mentioned in the problem."
   ]
  },
  {
   "cell_type": "markdown",
   "metadata": {},
   "source": [
    "For instance, to find all roots of $x^2 = 111 \\pmod{11^5}$, we do:"
   ]
  },
  {
   "cell_type": "code",
   "execution_count": null,
   "metadata": {},
   "outputs": [],
   "source": [
    "N = 111\n",
    "p = 11\n",
    "n = 5\n",
    "mod_sqrt(N, p^n)"
   ]
  },
  {
   "cell_type": "markdown",
   "metadata": {},
   "source": [
    "So, two roots, $20756$ and $140295$."
   ]
  },
  {
   "cell_type": "markdown",
   "metadata": {},
   "source": [
    "In some cases, there are no roots, like $x^2 \\equiv 110 \\pmod{11^5}$:"
   ]
  },
  {
   "cell_type": "code",
   "execution_count": null,
   "metadata": {},
   "outputs": [],
   "source": [
    "p = 11\n",
    "n = 5\n",
    "N = 110\n",
    "mod_sqrt(N, p^n)"
   ]
  },
  {
   "cell_type": "markdown",
   "metadata": {},
   "source": [
    "Modulo $2^n$ we might have more than two roots, like in $x^2 \\equiv 113 \\pmod{2^7}$:"
   ]
  },
  {
   "cell_type": "code",
   "execution_count": null,
   "metadata": {},
   "outputs": [],
   "source": [
    "p = 2\n",
    "n = 7\n",
    "N = 113\n",
    "mod_sqrt(N, p^n)"
   ]
  },
  {
   "cell_type": "markdown",
   "metadata": {},
   "source": [
    "In your code, you will have loop over the entries of this list of roots for various $p$ and $n$.\n",
    "\n",
    "<hr />"
   ]
  },
  {
   "cell_type": "code",
   "execution_count": null,
   "metadata": {},
   "outputs": [],
   "source": [
    "def quad_sieve(N, b, B):\n",
    "    \"\"\"\n",
    "    Apply the quadratic sieve for relation building.  Given an N product of two\n",
    "    primes, returns the list of elements from floor(sqrt(N)) + 1 to b such that\n",
    "    their squares reduced modulo N are B-smooth and the list of these B-smooth\n",
    "    numbers.\n",
    "\n",
    "    INPUTS:\n",
    "    N: a product fo two primes;\n",
    "    b: an upper bound for a's;\n",
    "    B: upper bound for the prime divisors of the reduction modulo N of the\n",
    "       a's squared to be returned.\n",
    "\n",
    "    OUTPUTS:\n",
    "    A list containing elements from floor(sqrt(N)) + 1 to b such that their\n",
    "    squares reduced modulo N are B-smooth and the list of these B-smooth\n",
    "    numbers.\n",
    "    \"\"\"\n",
    "    ..."
   ]
  },
  {
   "cell_type": "markdown",
   "metadata": {},
   "source": [
    "If you want to test with the example from the book (and class):"
   ]
  },
  {
   "cell_type": "code",
   "execution_count": null,
   "metadata": {},
   "outputs": [],
   "source": [
    "quad_sieve(1073, 46, 19) == ([33, 35, 39, 41, 45], [16, 152, 448, 608, 952])"
   ]
  },
  {
   "cell_type": "markdown",
   "metadata": {},
   "source": [
    "More tests:"
   ]
  },
  {
   "cell_type": "code",
   "execution_count": null,
   "metadata": {},
   "outputs": [],
   "source": [
    "number_of_tests = 30\n",
    "\n",
    "min_p = 100\n",
    "max_p = 200\n",
    "\n",
    "min_q = 200\n",
    "max_q = 300\n",
    "\n",
    "min_B = 20\n",
    "max_B = 40\n",
    "\n",
    "for _ in range(number_of_tests):\n",
    "    p = random_prime(max_p, lbound = min_p)\n",
    "    q = p\n",
    "    while q == p:\n",
    "        q = random_prime(max_q, lbound = min_q)\n",
    "    N = p * q\n",
    "    b = floor(sqrt(2 * N)) - 1\n",
    "    B = randint(min_B, max_B)\n",
    "    # brute force to compare to sieve\n",
    "    a0 = floor(sqrt(N)) + 1\n",
    "    list_c = [x^2 - N for x in range(a0, b + 1)]\n",
    "    a_expected = []\n",
    "    c_expected = []\n",
    "    vprimes = prime_range(B + 1)\n",
    "    for i, c  in enumerate(list_c):\n",
    "        w = [p^valuation(c, p) for p in vprimes]\n",
    "        if c == prod(w):\n",
    "            a_expected.append(i + a0)\n",
    "            c_expected.append(c)\n",
    "    result = quad_sieve(N, b, B)\n",
    "    if result != (a_expected, c_expected):\n",
    "        if result[0] != a_expected:\n",
    "            print(f\"Failed.  The a's should be {a_expected}, not {result[0]}.\")\n",
    "        if result[1] != c_expected:\n",
    "            print(f\"Failed.  The c's should be {c_expected}, not {result[1]}.\")\n",
    "        break\n",
    "else:\n",
    "    print(\"It works!\")"
   ]
  },
  {
   "cell_type": "markdown",
   "metadata": {},
   "source": [
    "### Optional: Comparing Times\n",
    "\n",
    "Let's check how fast the quadratic sieve is in finding lists of smooth numbers.  We will increase the sizes to make more representative of cases with difficult computations."
   ]
  },
  {
   "cell_type": "code",
   "execution_count": null,
   "metadata": {},
   "outputs": [],
   "source": [
    "min_p = 10000000\n",
    "max_p = 20000000\n",
    "\n",
    "min_q = 20000000\n",
    "max_q = 30000000\n",
    "\n",
    "min_B = 200\n",
    "max_B = 400\n",
    "\n",
    "p = random_prime(max_p, lbound = min_p)\n",
    "q = p\n",
    "\n",
    "while q == p:\n",
    "    q = random_prime(max_q, lbound = min_q)\n",
    "\n",
    "N = p * q\n",
    "b = floor(sqrt(2*N)) - 1\n",
    "B = randint(min_B, max_B)"
   ]
  },
  {
   "cell_type": "markdown",
   "metadata": {},
   "source": [
    "Fist, we find the smooth numbers by dividing by all prime powers less than $B$ (it can take a few minutes):"
   ]
  },
  {
   "cell_type": "code",
   "execution_count": null,
   "metadata": {},
   "outputs": [],
   "source": [
    "%%time\n",
    "\n",
    "a0 = floor(sqrt(N)) + 1\n",
    "list_c = [x^2 - N for x in range(a0, b + 1)]\n",
    "a_result = []\n",
    "c_result = []\n",
    "vprimes = prime_range(B + 1)\n",
    "for i, c  in enumerate(list_c):\n",
    "    w = [p^valuation(c, p) for p in vprimes]\n",
    "    if c == prod(w):\n",
    "        a_result.append(i + a0)\n",
    "        c_result.append(c)\n",
    "\n",
    "res = (a_result, c_result)"
   ]
  },
  {
   "cell_type": "markdown",
   "metadata": {},
   "source": [
    "Now, using the quadratic sieve:"
   ]
  },
  {
   "cell_type": "code",
   "execution_count": null,
   "metadata": {},
   "outputs": [],
   "source": [
    "%%time\n",
    "res2 = quad_sieve(N, b, B)"
   ]
  },
  {
   "cell_type": "markdown",
   "metadata": {},
   "source": [
    "Checking that they are giving us the same results:"
   ]
  },
  {
   "cell_type": "code",
   "execution_count": null,
   "metadata": {},
   "outputs": [],
   "source": [
    "res == res2"
   ]
  },
  {
   "cell_type": "markdown",
   "metadata": {},
   "source": [
    "If you run those yourself, you will see different times, as the paramenters are random and we are running in different hardware, but the original example I ran gave a difference from 247 seconds to 5 seconds, a very considerable difference."
   ]
  }
 ],
 "metadata": {
  "kernelspec": {
   "display_name": "SageMath 10.5",
   "language": "sage",
   "name": "sage-10.5"
  },
  "language_info": {
   "codemirror_mode": {
    "name": "ipython",
    "version": 3
   },
   "file_extension": ".py",
   "mimetype": "text/x-python",
   "name": "python",
   "nbconvert_exporter": "python",
   "pygments_lexer": "ipython3",
   "version": "3.12.5"
  }
 },
 "nbformat": 4,
 "nbformat_minor": 4
}
