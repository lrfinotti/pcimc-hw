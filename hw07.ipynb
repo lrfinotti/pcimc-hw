{
 "cells": [
  {
   "cell_type": "markdown",
   "metadata": {},
   "source": [
    "# Homework 7"
   ]
  },
  {
   "cell_type": "markdown",
   "metadata": {},
   "source": [
    "## Problem 1: Finding Random Primes\n",
    "\n",
    "We will implement the method described in the section [Finding a Random Prime](https://luisfinotti.org/pcimc/11-Primality.html#finding-a-random-prime) from the book.\n",
    "\n",
    "Given $b$ (number of bits) and an integer $B$ (an upper bound for primes to exclude), your function should find a random $b$-bit prime, i.e., a prime between $2^{b-1}$ and $2^b$.  The upper bound $B$ is used to increase the chances that we find a prime by making sure that our \"random\" choice is not divisible prime less than or equal to $B$.  (In the example from the book, $B=11$ was used.)\n",
    "\n",
    "So, we let $a$ be the product of the primes less than or equal to $B$ (with `a = prod(primes(B + 1))`) and take $c$ as the next prime after $B$.  (You can use `next_prime` for that.)  To obtain our prime, we choose a *random* $k$ that gives $N = ak + c$ a number of the correct size, i.e., $2^{b-1} \\leq N < 2^b$ (with $b$ given in the function) and test if it is prime with `is_prime(N)`.  If so, return $N$, if not, we try another $k$.\n",
    "\n",
    "**Note:**  You should have `k = randint(x, y)` where $x$ and $y$ are the *right integers to guarantee that $2^{b-1} \\leq ak + c < 2^{b}$*.\n",
    "\n",
    "The output of this function should be the random prime you found *and* the number of $k$'s you had to try.  (So, something like `return N, tries`, where you store in `tries` the number of $k$'s used until you found a prime.)"
   ]
  },
  {
   "cell_type": "code",
   "execution_count": null,
   "metadata": {
    "collapsed": false,
    "jupyter": {
     "outputs_hidden": false
    }
   },
   "outputs": [],
   "source": [
    "def my_random_prime(b, B):\n",
    "    \"\"\"\n",
    "    Give the number of bits b and an upper bound B for primes to exclude in the\n",
    "    elements to search, gives a random b-bit prime and the number of tries used\n",
    "    to find this prime.\n",
    "\n",
    "    INPUT:\n",
    "    b: number of bits of the random prime,\n",
    "    B: upper bound for the primes to be excluded when taking random integers.\n",
    "\n",
    "    OUTPUTS:\n",
    "    A b-bit prime and the number of tries to obtain this prime.\n",
    "    \"\"\"\n",
    "    ..."
   ]
  },
  {
   "cell_type": "markdown",
   "metadata": {},
   "source": [
    "Test it:"
   ]
  },
  {
   "cell_type": "code",
   "execution_count": null,
   "metadata": {
    "collapsed": false,
    "jupyter": {
     "outputs_hidden": false
    }
   },
   "outputs": [],
   "source": [
    "number_of_tests = 30\n",
    "min_b = 200\n",
    "max_b = 500\n",
    "\n",
    "B = 30\n",
    "\n",
    "for _ in range(number_of_tests):\n",
    "    b = randint(min_b, max_b)\n",
    "    p, tries = my_random_prime(b, B)\n",
    "    if is_prime(p) and floor(log(p, 2)) == b - 1:\n",
    "        print(f\"Number of bits = {b}.  Prime {p} found in {tries} tries.\")\n",
    "    elif not is_prime(p):\n",
    "        print(\"\")\n",
    "        print(f\"Your function returned {p}, which is not prime.\")\n",
    "        break\n",
    "    else:\n",
    "        print(\"\")\n",
    "        print(f\"Your function returned {p}, but this number is not between 2^{b-1} and 2^{b}.\")\n",
    "        break\n",
    "else:\n",
    "    print(\"\")\n",
    "    print(\"It works!\")"
   ]
  },
  {
   "cell_type": "markdown",
   "metadata": {},
   "source": [
    "## Problem 2: Pollard's $p-1$ Factorization\n",
    "\n",
    "Here we will implement [*Pollard's $p-1$ factorization algorithm*](https://luisfinotti.org/pcimc/12-Factorization.html#al-pollard), with the improvement of computing the GCD only every $k$-steps, as in the *second part* of the [example in the book](https://luisfinotti.org/pcimc/12-Factorization.html#example).\n",
    "\n",
    "The input will be an integer $N$ of the form $N = pq$, with $p$ and $q$ distinct (unknown) primes, and three *optional*: the $a$, $k$, and $B$ described in the algorithm in the book.\n",
    "\n",
    "- The value of $a$, instead of being set to $2$, and increased when the process fails, here will be an argument with default value of $2$*\n",
    "- The argument $k$ gives the number of iterations between computations of the GCD.  The default value should be $1$, so we compute the GCD at every step, as in the original algorithm.\n",
    "- The optional argument $B$ is the maximum $j$ (for the loop, which is the maximum factorial), and it will have the default value of $1000$.\n",
    "\n",
    "The function should return the primes (as in `return p, q`).  If it cannot factor (with $j \\leq B$), then it should return `None` (with `return None`).\n",
    "\n",
    "**Notes:**  \n",
    "\n",
    "* You should convert integers to $\\mathbb{Z}/N\\mathbb{Z}$ so that the operations are faster!  But then, when computing GCDs, you might want to convert them back to integers, as in `gcd(ZZ(a)-1, N)`.  If not, the GCD itself will be in $\\mathbb{Z}/N\\mathbb{Z}$, which might give you trouble.\n",
    "\n",
    "* Note also that if you get get at some point $\\gcd(a-1 ,N)=N$, there is no point in continuing, as the GCD will always be $N$ from then on.  So, you should just return `None`.\n",
    "\n",
    "* Also, as I observed in the book, in practice if you do get $\\gcd(a-1, N)=N$, instead of returning `None` as above, you should try a different $a$.  **But you do not have to implement that here!**  Just return `None`."
   ]
  },
  {
   "cell_type": "markdown",
   "metadata": {},
   "source": [
    "<hr />\n",
    "\n",
    "The book shows how to use [optional arguments](https://luisfinotti.org/pcimc/02-Python.html#default-values) in Python/Sage, but here is a quick example.\n",
    "\n",
    "In the function below, the `extra = 0` gives an optional argument with default value $0$."
   ]
  },
  {
   "cell_type": "code",
   "execution_count": null,
   "metadata": {
    "collapsed": false,
    "jupyter": {
     "outputs_hidden": false
    }
   },
   "outputs": [],
   "source": [
    "def f(x, y, extra = 0):\n",
    "    return x + y + extra"
   ]
  },
  {
   "cell_type": "markdown",
   "metadata": {},
   "source": [
    "So, we don't need to enter any value for `extra`, and thus, for instance, we have:"
   ]
  },
  {
   "cell_type": "code",
   "execution_count": null,
   "metadata": {
    "collapsed": false,
    "jupyter": {
     "outputs_hidden": false
    }
   },
   "outputs": [],
   "source": [
    "f(2, 3)"
   ]
  },
  {
   "cell_type": "markdown",
   "metadata": {},
   "source": [
    "So, $f(2,3) = 2 + 3 + 0 = 5$.  But:"
   ]
  },
  {
   "cell_type": "code",
   "execution_count": null,
   "metadata": {
    "collapsed": false,
    "jupyter": {
     "outputs_hidden": false
    }
   },
   "outputs": [],
   "source": [
    "f(2, 3, extra=4)"
   ]
  },
  {
   "cell_type": "markdown",
   "metadata": {},
   "source": [
    "as $f(2,3,\\mathrm{extra} = 4) = 2+3+4 = 9$."
   ]
  },
  {
   "cell_type": "markdown",
   "metadata": {},
   "source": [
    "Note that if we know the order of optional arguments, their names can be omitted if they are given in the correct order:"
   ]
  },
  {
   "cell_type": "code",
   "execution_count": null,
   "metadata": {},
   "outputs": [],
   "source": [
    "f(2, 3, 4)  # 4 is the value for extra"
   ]
  },
  {
   "cell_type": "markdown",
   "metadata": {},
   "source": [
    "<hr />"
   ]
  },
  {
   "cell_type": "markdown",
   "metadata": {},
   "source": [
    "Enter your solution below:"
   ]
  },
  {
   "cell_type": "code",
   "execution_count": null,
   "metadata": {
    "collapsed": false,
    "jupyter": {
     "outputs_hidden": false
    }
   },
   "outputs": [],
   "source": [
    "def pollard(N, a=2, k=1, B=1000):\n",
    "    \"\"\"\n",
    "    Uses Pollard's (p-1) method to try to factor N.\n",
    "\n",
    "    INPUTS:\n",
    "    N: a product of two distinct primes to be factored;\n",
    "    a (default=2): the base of the factorial exponential (a postive\n",
    "                   integer);\n",
    "    k (default=1): number of steps between computations of the GCD.\n",
    "    B (default=1000): maximal value for the factorila exponent.\n",
    "\n",
    "    OUTPUT:\n",
    "    A pair of primes, if successful, or None if not.\n",
    "    \"\"\"\n",
    "    ..."
   ]
  },
  {
   "cell_type": "markdown",
   "metadata": {},
   "source": [
    "Now we can test the algorithm:"
   ]
  },
  {
   "cell_type": "code",
   "execution_count": null,
   "metadata": {
    "collapsed": false,
    "jupyter": {
     "outputs_hidden": false
    }
   },
   "outputs": [],
   "source": [
    "vprimes = [382719632655427,\n",
    " 785293713220501,\n",
    " 761759310937501,\n",
    " 7877559511537,\n",
    " 153019048115081,\n",
    " 758779633855951,\n",
    " 77337312819713,\n",
    " 47375888958473,\n",
    " 315401753690161,\n",
    " 768620133278581] # some primes with p-1 having small factors\n",
    "\n",
    "failed = False\n",
    "\n",
    "for i in range(9):\n",
    "    for j in range(i + 1,10):\n",
    "        p = vprimes[i]\n",
    "        q = vprimes[j]\n",
    "        A = {p, q}  # a set\n",
    "        result = pollard(p * q, k=3)\n",
    "        if result == None:\n",
    "            print(f\"Your algorithm should be able to factor {p}*{q}\")\n",
    "            failed = True\n",
    "            break\n",
    "        elif A != set(result):\n",
    "            print(f\"Your algorithm gives {result[0]} and {result[1]}, while it should give {p}, {q}.\")\n",
    "            failed = True\n",
    "            break\n",
    "    if failed:\n",
    "        break\n",
    "else:\n",
    "    print(\"It works!\")"
   ]
  },
  {
   "cell_type": "markdown",
   "metadata": {},
   "source": [
    "## Problem 3: Relation Building for Difference of Squares\n",
    "\n",
    "Here we will do the *Relation Building* step of the [factorization algorithm via difference of squares](https://luisfinotti.org/pcimc/12-Factorization.html#factorization-via-difference-of-squares).\n",
    "\n",
    "Given $N = pq$, as above, and integers $B$ and $r$, we need to find $r$ random integers $\\{a_1, a_2, \\ldots, a_r\\}$ with $a_i \\in \\left\\{\\lceil{\\sqrt{N} \\;}\\rceil + 1, \\ldots, N-1\\right\\}$ and such that $a_i^2$ reduced modulo $N$, i.e., the associated $c_i$, factors having the largest prime less than or equal to $B$.  So, you return the lists $[a_1, a_2, \\ldots , a_r]$ and $[c_1, c_2, \\ldots, c_r]$.  The $a_i$ and $c_i$ returned should be **integers**.\n",
    "\n",
    "You will do this very naively:\n",
    "\n",
    "1) Take a random $a$ of the correct size. making sure you haven't used it before.\n",
    "2) Set $c$ as the reduction modulo $N$ of the square of $a$.  **Important:** Compute the square in $\\mathbb{Z}/N\\mathbb{Z}$!\n",
    "3) Test if all prime factors of $c$ are less than or equal to $B$.  *You should not use the `factor` function!*  (It can take a long time.)  Instead, to test if `c` has all its primes factors less than or equal to $B$, you can do `c == prod(l^valuation(c, l) for l in primes(B + 1))`.\n"
   ]
  },
  {
   "cell_type": "code",
   "execution_count": null,
   "metadata": {
    "collapsed": false,
    "jupyter": {
     "outputs_hidden": false
    }
   },
   "outputs": [],
   "source": [
    "def rel_build(N, B, r):\n",
    "    \"\"\"\n",
    "    Relation building for the factorization of N using the difference of two\n",
    "    squares algorithm.  It should return two list of r elements, where the\n",
    "    second contains squares of the first reduced modulo N and B-smooth.\n",
    "\n",
    "    INPUTS:\n",
    "    N: a positive intger;\n",
    "    B: the second list should contain B-smooth numbers;\n",
    "    r: length of the lists.\n",
    "\n",
    "    OUTPUT:\n",
    "    A list of elements between the ceiling of sqrt(N) plus 1 and N and a\n",
    "    list with its squares reduced modulo N, all of which are B-smooth.\n",
    "    \"\"\"\n",
    "    ..."
   ]
  },
  {
   "cell_type": "markdown",
   "metadata": {},
   "source": [
    "Test it (it might take a minute or two):"
   ]
  },
  {
   "cell_type": "code",
   "execution_count": null,
   "metadata": {
    "collapsed": false,
    "jupyter": {
     "outputs_hidden": false
    }
   },
   "outputs": [],
   "source": [
    "number_of_tests = 20\n",
    "min_p = 10^2\n",
    "max_p = 10^4\n",
    "\n",
    "B = 50\n",
    "r = 5\n",
    "failed = False\n",
    "\n",
    "for _ in range(number_of_tests):\n",
    "    p = random_prime(max_p, lbound=min_p)\n",
    "    q = random_prime(max_p, lbound=min_p)\n",
    "    N = p * q\n",
    "    a_res, c_res = rel_build(N, B, r)\n",
    "    if len(a_res) != r or len(c_res) != r:\n",
    "        print(f\"Your lists should have length {r}, but they have lengths {len(a_res)} and {len(c_res)}.\")\n",
    "        break\n",
    "\n",
    "    for a, c in zip(a_res, c_res):\n",
    "        if ZZ(Mod(a, N)^2) != ZZ(c):\n",
    "            print(f\"Your c's is not a reduction modulo {N} of a^2.\")\n",
    "            print(f\"{a_res}\")\n",
    "            print(f\"{c_res}\")\n",
    "            failed = True\n",
    "            break\n",
    "\n",
    "    if failed:\n",
    "        break\n",
    "\n",
    "    for c in c_res:\n",
    "        lp = factor(c)[-1][0]\n",
    "        if lp > B:\n",
    "            print(f\"The element {c = } has a prime divisor {lp} which is larger than {B}.\")\n",
    "            failed = True\n",
    "            break\n",
    "    if failed:\n",
    "        break\n",
    "\n",
    "    for a in a_res:\n",
    "        if a >= N or a < ceil(sqrt(N)) + 1:\n",
    "            print(f\"The element {a = } is either larger than {N - 1} or smaller than {ceil(sqrt(N)) + 1}.\")\n",
    "            failed = True\n",
    "            break\n",
    "\n",
    "    if failed:\n",
    "        break\n",
    "else:\n",
    "    print(\"It works!\")"
   ]
  },
  {
   "cell_type": "markdown",
   "metadata": {},
   "source": [
    "## Problem 4: Elimination for Difference of Squares\n",
    "\n",
    "Now we will do the *Elimination* and GCD computation parts of the difference of squares algorithm.  You can see the an [example of the process](https://luisfinotti.org/pcimc/12-Factorization.html#id2) in the book and also part of it (the solution of the system) [using Sage](https://luisfinotti.org/pcimc/12-Factorization.html#solving-the-system-with-sage).\n",
    "\n",
    "The input is the same pair $N$ and $B$ as from the previous problem, plus the lists $[a_1, a_2, \\ldots, a_r]$ and $[c_1, c_2, \\ldots, c_r]$ that would be the output of `rel_build(N, B, r)`.\n",
    "\n",
    "(I will not ask you to just call your own `rel_build` function so that even those who could not do that problem can attempt to do this one, but that's how it would go in practice.)\n",
    "\n",
    "If the process fails to factor (although it should *not* fail in the test below), your function should output `None`.  If it works, it should return a pair $(p, q)$ such that $N = p \\cdot q$, with $1 < p, q < N$.\n",
    "\n",
    "**Note:** The elements of the output should be *integers* (not integers modulo $N$)."
   ]
  },
  {
   "cell_type": "code",
   "execution_count": null,
   "metadata": {
    "collapsed": false,
    "jupyter": {
     "outputs_hidden": false
    }
   },
   "outputs": [],
   "source": [
    "def elim(N, B, list_a, list_c):\n",
    "    \"\"\"\n",
    "    Factor N using the difference of squares method.\n",
    "    \"\"\"\n",
    "    ..."
   ]
  },
  {
   "cell_type": "markdown",
   "metadata": {},
   "source": [
    "To test this, we will load an example that I've worked out before hand, that contains $N$'s and $va$'s that should work:"
   ]
  },
  {
   "cell_type": "code",
   "execution_count": null,
   "metadata": {},
   "outputs": [],
   "source": [
    "vtest = [[1100032849, [1072431113, 909515750, 597536702, 513435497, 755190459, 570364015, 839154243, 893887231, 433166036, 242124792, 786827979, 599975672, 168609185, 572785782, 102679808, 590639975, 1038418080, 744568791, 761986108, 454020786]],  [96773273,   [19901315, 1286372, 65750564, 19673575, 19675257, 70662588, 22684271, 45148333, 59434966, 14943361, 37746559, 60612224, 8008539, 8913561, 85174147, 72644981, 77147290, 47984717, 88262728, 29259561]],  [2626012993,   [2370612455, 629913721, 1022627453, 1590029458, 2296365696, 450690377, 1624861701, 597890770, 558747817, 2561580931, 784746250, 857941244, 1564776337, 465274432, 215003674, 1930802499, 656018062, 1732640362, 559270936, 1969330289]],  [3336673139,   [292286133, 2377362982, 837685089, 515413635, 2082336571, 1895742535, 1778186686, 2631072142, 2125963778, 1758364225, 1533340821, 276802116, 1337672453, 2619321661, 491063954, 1183648189, 2546080519, 2426734256, 2932261934, 2728537934]],  [1289977721,   [848291699, 585061132, 795722759, 871758500, 1127266612, 181581073, 989592096, 1271153029, 1218400868, 1228297915, 425679217, 1011057066, 599037980, 830953030, 538199659, 885047190, 798550644, 779232764, 187449947, 829911241]],  [5878288069,   [3181590604, 439733783, 1782009381, 1478392789, 4967368349, 4271925105, 4842165484, 3403569179, 1166271715, 4514347326, 2403109359, 3933687875, 556519941, 4126988313, 2114797133, 332753466, 2088750206, 4421432138, 624175906, 2293424755]],  [860757949,   [505376262, 819270976, 427772575, 474905982, 129566366, 274513291, 388236821, 171501750, 621347766, 617748715, 415434314, 256615953, 399449331, 522721877, 10860455, 47261904, 66363406, 394866594, 560943243, 551152870]],  [4331776837,   [1635386072, 2437053174, 2390185394, 722256667, 1508098243, 1607310731, 2533600217, 1489690529, 4122678559, 1537449377, 2156086603, 1942849585, 1732210635, 3115704867, 3183676737, 4200282808, 1280525007, 3185269393, 3972886913, 213019927]],  [1708318361,   [367454533, 1670847264, 930816064, 345881956, 1225163589, 180568242, 219871545, 517071875, 1532332992, 362365926, 427545687, 850562997, 582953517, 657697670, 134889739, 1219620010, 1242686303, 217952350, 227452362, 1707727949]],  [1793037529,   [268792729, 455784668, 1113134043, 714370467, 148503059, 839479244, 1601113003, 778450184, 1174594637, 1030312025, 757081827, 871569080, 239349109, 1026407071, 34204650, 16786502, 1092888859, 601092909, 943403587, 735894620]]]\n",
    "\n",
    "B = 50\n",
    "r = 20\n",
    "\n",
    "for N, list_a in vtest:\n",
    "    list_a = [ZZ(a) for a in list_a]\n",
    "    list_c = [ZZ(Mod(a, N)^2) for a in list_a]\n",
    "    w = elim(N, B, list_a, list_c)\n",
    "    if w is None:\n",
    "        print(f\"You could not factor {N}, but you should be able to factor all these examples!\")\n",
    "        break\n",
    "    p, q = w\n",
    "    if p*q != N:\n",
    "        print(f\"{p} * {q} is not {N}!\")\n",
    "        break\n",
    "    if p <= 1 or q <= 1 or p == N or q == N:\n",
    "        print(f\"{N} = {p} * {q} is not a valid factorization.\")\n",
    "        break\n",
    "else:\n",
    "    print(\"It works!\")"
   ]
  },
  {
   "cell_type": "markdown",
   "metadata": {},
   "source": [
    "If your code works, you can check the factorizations:"
   ]
  },
  {
   "cell_type": "code",
   "execution_count": null,
   "metadata": {},
   "outputs": [],
   "source": [
    "vtest = [[1100032849, [1072431113, 909515750, 597536702, 513435497, 755190459, 570364015, 839154243, 893887231, 433166036, 242124792, 786827979, 599975672, 168609185, 572785782, 102679808, 590639975, 1038418080, 744568791, 761986108, 454020786]],  [96773273,   [19901315, 1286372, 65750564, 19673575, 19675257, 70662588, 22684271, 45148333, 59434966, 14943361, 37746559, 60612224, 8008539, 8913561, 85174147, 72644981, 77147290, 47984717, 88262728, 29259561]],  [2626012993,   [2370612455, 629913721, 1022627453, 1590029458, 2296365696, 450690377, 1624861701, 597890770, 558747817, 2561580931, 784746250, 857941244, 1564776337, 465274432, 215003674, 1930802499, 656018062, 1732640362, 559270936, 1969330289]],  [3336673139,   [292286133, 2377362982, 837685089, 515413635, 2082336571, 1895742535, 1778186686, 2631072142, 2125963778, 1758364225, 1533340821, 276802116, 1337672453, 2619321661, 491063954, 1183648189, 2546080519, 2426734256, 2932261934, 2728537934]],  [1289977721,   [848291699, 585061132, 795722759, 871758500, 1127266612, 181581073, 989592096, 1271153029, 1218400868, 1228297915, 425679217, 1011057066, 599037980, 830953030, 538199659, 885047190, 798550644, 779232764, 187449947, 829911241]],  [5878288069,   [3181590604, 439733783, 1782009381, 1478392789, 4967368349, 4271925105, 4842165484, 3403569179, 1166271715, 4514347326, 2403109359, 3933687875, 556519941, 4126988313, 2114797133, 332753466, 2088750206, 4421432138, 624175906, 2293424755]],  [860757949,   [505376262, 819270976, 427772575, 474905982, 129566366, 274513291, 388236821, 171501750, 621347766, 617748715, 415434314, 256615953, 399449331, 522721877, 10860455, 47261904, 66363406, 394866594, 560943243, 551152870]],  [4331776837,   [1635386072, 2437053174, 2390185394, 722256667, 1508098243, 1607310731, 2533600217, 1489690529, 4122678559, 1537449377, 2156086603, 1942849585, 1732210635, 3115704867, 3183676737, 4200282808, 1280525007, 3185269393, 3972886913, 213019927]],  [1708318361,   [367454533, 1670847264, 930816064, 345881956, 1225163589, 180568242, 219871545, 517071875, 1532332992, 362365926, 427545687, 850562997, 582953517, 657697670, 134889739, 1219620010, 1242686303, 217952350, 227452362, 1707727949]],  [1793037529,   [268792729, 455784668, 1113134043, 714370467, 148503059, 839479244, 1601113003, 778450184, 1174594637, 1030312025, 757081827, 871569080, 239349109, 1026407071, 34204650, 16786502, 1092888859, 601092909, 943403587, 735894620]]]\n",
    "\n",
    "B = 50\n",
    "r = 20\n",
    "\n",
    "for N, list_a in vtest:\n",
    "    list_a = [ZZ(a) for a in list_a]\n",
    "    list_c = [ZZ(Mod(a, N) ^ 2) for a in list_a]\n",
    "    p, q = elim(N, B, list_a, list_c)\n",
    "    if N == p * q:\n",
    "        print(f\"Factored {N} = {p} * {q}.\")\n",
    "    else:\n",
    "        print(\"Something went wrong!\")"
   ]
  }
 ],
 "metadata": {
  "kernelspec": {
   "display_name": "SageMath 10.5",
   "language": "sage",
   "name": "sage-10.5"
  },
  "language_info": {
   "codemirror_mode": {
    "name": "ipython",
    "version": 3
   },
   "file_extension": ".py",
   "mimetype": "text/x-python",
   "name": "python",
   "nbconvert_exporter": "python",
   "pygments_lexer": "ipython3",
   "version": "3.12.5"
  }
 },
 "nbformat": 4,
 "nbformat_minor": 4
}
