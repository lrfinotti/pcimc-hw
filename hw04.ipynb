{
 "cells": [
  {
   "cell_type": "markdown",
   "metadata": {},
   "source": [
    "# Homework 4"
   ]
  },
  {
   "cell_type": "markdown",
   "metadata": {},
   "source": [
    "## Problem 1: Random $k$-bit Prime\n",
    "\n",
    "Remember that an integer $n$ has $k$ bits if $2^{k-1} \\leq n < 2^k$.  In this problem, you need to give a *random* $k$-bit prime for a given $k$.\n",
    "\n",
    "**Note:**  This is a one-liner!  You *can* use Sage's built in function `random_prime`.  To get a prime between `A` and `B`, *including both*, you do `random_prime(B,lbound=A)`."
   ]
  },
  {
   "cell_type": "code",
   "execution_count": null,
   "metadata": {
    "collapsed": false,
    "jupyter": {
     "outputs_hidden": false
    }
   },
   "outputs": [],
   "source": [
    "def rand_kbit_prime(k):\n",
    "    \"\"\"\n",
    "    Given k, finds a random k-bit prime.\n",
    "\n",
    "    INPUT:\n",
    "    k: number of bits (positive integer).\n",
    "\n",
    "    OUTPUT:\n",
    "    A k-bit prime.\n",
    "    \"\"\"\n",
    "    ..."
   ]
  },
  {
   "cell_type": "markdown",
   "metadata": {},
   "source": [
    "Test it:"
   ]
  },
  {
   "cell_type": "code",
   "execution_count": null,
   "metadata": {
    "collapsed": false,
    "jupyter": {
     "outputs_hidden": false
    }
   },
   "outputs": [],
   "source": [
    "number_of_tests = 30\n",
    "mink = 10\n",
    "maxk = 20\n",
    "\n",
    "for _ in range(number_of_tests):\n",
    "    k = randint(mink, maxk + 1)\n",
    "    p = rand_kbit_prime(k)\n",
    "    if not is_prime(p):\n",
    "        print(f\"The output {p = } is not prime.\")\n",
    "        break\n",
    "    n_bits = floor(log(p, base=2)) + 1\n",
    "    if n_bits != k:\n",
    "        print(f\"The output {p = } does not have {k} bits, it has {n_bits} bits.\")\n",
    "        break\n",
    "else:\n",
    "    print(\"It works!\")"
   ]
  },
  {
   "cell_type": "markdown",
   "metadata": {},
   "source": [
    "## Problem 2: Naive Discrete Log\n",
    "\n",
    "Given $g$ and $h$ in a $\\mathbb{F}_p^{\\times}$, finds the *discrete log* $\\log_g(h)$, i.e., $x$ such that $g^x = h$.\n",
    "\n",
    "Here you should just \"brute force it\", i.e., compute $g^2$, $g^3$, etc., until you find a match.\n",
    "\n",
    "This is very simple, but there is one catch: there might not be such $x$, in which case your algorithm should say so!  **Let's convention that in this case, the output should be $-1$.**\n",
    "\n",
    "You can do this is as follows:\n",
    "\n",
    "1) If $h=1$, return $x=0$.\n",
    "2) If not, compute the powers $g$, $g^2$, $g^3$ until either we get $h$ or we get $1$.\n",
    "3) If we get $1$ before $h$, there is no such $x$.  (Can you see why?)  So, return $-1$.  If not, return the power that gave $h$.\n",
    "\n",
    "**Important:** You **have** to compute the powers efficiently, as described in the section [Computing Successive Powers](https://luisfinotti.org/pcimc/05-Powers.html#successive-powers) in the [book](https://luisfinotti.org/pcimc/).  *Points will be taken if you do not follow it!*\n",
    "\n",
    "**Note:** The inputs $h$ and $g$ will be assumed to already be elements in $\\mathbb{F}_p^{\\times}$ and not integers."
   ]
  },
  {
   "cell_type": "code",
   "execution_count": null,
   "metadata": {
    "collapsed": false,
    "jupyter": {
     "outputs_hidden": false
    }
   },
   "outputs": [],
   "source": [
    "def ndl(h, g):\n",
    "    \"\"\"\n",
    "    Given h and g in a multiplicative group, finds the discrete log of h base g\n",
    "    by brute force.\n",
    "\n",
    "    INPUTS:\n",
    "    h, g: units of Zmod(p).\n",
    "\n",
    "    OUTPUT:\n",
    "    The discrete log base g of h, i.e., the power x such that g^x = h (an integer\n",
    "    between 0 and the order of g minus one).  If no such power exists, returns -1.\n",
    "    \"\"\"\n",
    "    ..."
   ]
  },
  {
   "cell_type": "markdown",
   "metadata": {},
   "source": [
    "Testing (using Sage's own `discrete_log` function!):"
   ]
  },
  {
   "cell_type": "code",
   "execution_count": null,
   "metadata": {
    "collapsed": false,
    "jupyter": {
     "outputs_hidden": false
    }
   },
   "outputs": [],
   "source": [
    "# test when the log exists\n",
    "number_of_tests = 20\n",
    "minp = 20\n",
    "maxp = 1000\n",
    "\n",
    "for _ in range(number_of_tests):\n",
    "    p = random_prime(maxp, lbound=minp)\n",
    "    F = FiniteField(p)\n",
    "    h = F(randint(1, p - 1))\n",
    "    g = F.primitive_element() # a primitive element\n",
    "    result = ndl(h, g)\n",
    "    expected = discrete_log(h, g)\n",
    "    if result != expected:\n",
    "        print(f\"It fails for {p = }, {g = }, and {h = }.  It gives {result} when it should give {expected}.\")\n",
    "        break\n",
    "else:\n",
    "    print(\"It works when the discrete log exits!\")\n",
    "\n",
    "\n",
    "# test when the log does not exist\n",
    "number_of_tests = 5\n",
    "minp = 20\n",
    "maxp = 1000\n",
    "\n",
    "for _ in range(number_of_tests):\n",
    "    p = random_prime(maxp, lbound=minp)\n",
    "    F = FiniteField(p)\n",
    "    h = F.primitive_element()\n",
    "    g = h^2\n",
    "    result = ndl(h, g)\n",
    "    if result != -1:\n",
    "        print(f\"It fails for {p = }, {g = }, {h = }.  It gives {result} when it should give -1.\")\n",
    "        break\n",
    "else:\n",
    "    print(\"It works when the discrete log doesn't exit!\")"
   ]
  },
  {
   "cell_type": "markdown",
   "metadata": {},
   "source": [
    "## Problem 3: Elgamal Cryptosystem\n",
    "\n",
    "In this problem you will create *two* functions: one to encode and one to decode messages using the Elgamal cryptosystem.\n",
    "\n",
    "For the *encoding* function you are given a generator (`g`), a public key (`A`) in $\\mathbb{F}_p$ (remember that $A = g^a \\in \\mathbb{F}_p$, where $a$ is the *private* key) and a message (`m`), which will assume is also in $\\mathbb{F}_p$, and should output a *pair* `[c1, c2]` (as [described in the text](https://luisfinotti.org/pcimc/06-DH_and_ElGamal.html#steps-for-elgamal-encryption)).\n",
    "\n",
    "**Notes:**\n",
    "- You are not given $p$ explicitly, but, as before, you can find it using `parent(A).characteristic()` if you need it.\n",
    "- If you need $|g|$ (the order of $g$), you can use `g.multiplicative_order()`."
   ]
  },
  {
   "cell_type": "code",
   "execution_count": null,
   "metadata": {
    "collapsed": false,
    "jupyter": {
     "outputs_hidden": false
    }
   },
   "outputs": [],
   "source": [
    "def elgamal_enc(g, A, m):\n",
    "    \"\"\"\n",
    "    Elgamal encryption with generator g, public key A, and message m.\n",
    "\n",
    "    INPUTS:\n",
    "    g: the generator, a unit of Zmod(p) (for some prime p) of large prime order.\n",
    "    A: the public key (also unit of Zmod(p)).\n",
    "    m: the message  (also unit of Zmod(p)).\n",
    "\n",
    "    OUTPUT:\n",
    "    The encrypted message using ElGamal's cryptosystem (a list with two units in\n",
    "    Zmod(p)).\n",
    "    \"\"\"\n",
    "    ..."
   ]
  },
  {
   "cell_type": "markdown",
   "metadata": {},
   "source": [
    "Now we need a decode function: given a generator (`g`) a secret key (`a`) and an encoded message (that used the public key $A = g^a$) `enc_message`, where `enc_message = [c1, c2]` (so, the input is a list with two entries), it should output the (original) decoded message `m`."
   ]
  },
  {
   "cell_type": "code",
   "execution_count": null,
   "metadata": {
    "collapsed": false,
    "jupyter": {
     "outputs_hidden": false
    }
   },
   "outputs": [],
   "source": [
    "def elgamal_dec(g, a, enc_message):\n",
    "    \"\"\"\n",
    "    Decrypts the Elgamal encrypted message enc_message, with generator g and\n",
    "    private key a.\n",
    "\n",
    "    INPUTS:\n",
    "    g: the generator, a unit of Zmod(p) (for some prime p) of large prime order.\n",
    "    a: the private key (an integer between 2 and p-2).\n",
    "    enc_message: the encoded message (a list with two units of Zmod(p)).\n",
    "\n",
    "    OUTPUT:\n",
    "    The original decoded message.\n",
    "    \"\"\"\n",
    "    ..."
   ]
  },
  {
   "cell_type": "markdown",
   "metadata": {},
   "source": [
    "To test this, we will use *your* encryption and decryption functions.  I will check if those are correct, but note that, although unlikely, it could be possible you have the wrong methods and still pass the test below."
   ]
  },
  {
   "cell_type": "code",
   "execution_count": null,
   "metadata": {
    "collapsed": false,
    "jupyter": {
     "outputs_hidden": false
    },
    "scrolled": true
   },
   "outputs": [],
   "source": [
    "number_of_tests = 30\n",
    "k = 20  # number of bits\n",
    "\n",
    "for _ in range(number_of_tests):\n",
    "    while True:  # find p and q\n",
    "        q = random_prime(2^k - 1, lbound=2^(k - 1))\n",
    "        p = 2 * q + 1  # want (p-1)/2 to be prime\n",
    "        if is_prime(p):\n",
    "            break\n",
    "    g = FiniteField(p).primitive_element()^2\n",
    "    a = randint(floor(q / 4), q - 2)\n",
    "    A = g^a\n",
    "    m = randint(2, p - 2)\n",
    "    enc_message = elgamal_enc(g, A, m)\n",
    "    result = elgamal_dec(g, a, enc_message)\n",
    "    if result != m:\n",
    "        print(\n",
    "            f\"It fails for {p = }, {g = }, and {a = }.  When sending {m = }, encryption/decryption gives {result}\"\n",
    "        )\n",
    "        break\n",
    "else:\n",
    "    print(\"It works!\")"
   ]
  },
  {
   "cell_type": "markdown",
   "metadata": {},
   "source": [
    "## Problem 4: Babystep-Giantstep Algorithm\n",
    "\n",
    "Implement the [Shank's Babystep-Giantstep Algorithm](https://luisfinotti.org/pcimc/07-Computing_DL.html#al-bs_gs) described in our book to compute discrete logs.  The input/output are the same as from Problem 2: $h$ and $g$, and the output is $x$ such that $g^x=h$.\n",
    "\n",
    "As before, if there discrete log does not exist, return $-1$.\n",
    "\n",
    "The [example in the book](https://luisfinotti.org/pcimc/07-Computing_DL.html#baby-step-giant-step) should be quite helpful here!  Most of the work is done there and you just need to adapt the code to your function.\n",
    "\n",
    "**Important:** The output should be an *integer* between $0$ and $|g| - 1$."
   ]
  },
  {
   "cell_type": "code",
   "execution_count": null,
   "metadata": {
    "collapsed": false,
    "jupyter": {
     "outputs_hidden": false
    }
   },
   "outputs": [],
   "source": [
    "def bsgs(h, g):\n",
    "    \"\"\"\n",
    "    Given h and g in a multiplicative group, finds the discrete log of h base\n",
    "    using Shank's Babystep-Giantstep algorithm.\n",
    "\n",
    "    INPUTS:\n",
    "    h, g: units of Zmod(p).\n",
    "\n",
    "    OUTPUT:\n",
    "    The discrete log base g of h, i.e., the power x such that g^x = h (an integer\n",
    "    between 0 and the order of g minus one).  If no such power exists, returns -1.\n",
    "    \"\"\"\n",
    "    ..."
   ]
  },
  {
   "cell_type": "markdown",
   "metadata": {},
   "source": [
    "Testing:"
   ]
  },
  {
   "cell_type": "code",
   "execution_count": null,
   "metadata": {
    "collapsed": false,
    "jupyter": {
     "outputs_hidden": false
    }
   },
   "outputs": [],
   "source": [
    "# test when the log exists\n",
    "number_of_tests = 20\n",
    "minp = 20\n",
    "maxp = 1000\n",
    "\n",
    "for _ in range(number_of_tests):\n",
    "    p = random_prime(maxp, lbound=minp)\n",
    "    F = FiniteField(p)\n",
    "    h = F(randint(1, p - 1))\n",
    "    g = F.primitive_element() # a primitive element\n",
    "    result = bsgs(h, g)\n",
    "    expected = discrete_log(h, g)\n",
    "    if result != expected:\n",
    "        print(f\"It fails for {p = }, {g = }, and {h = }.  It gives {result} when it should give {expected}.\")\n",
    "        break\n",
    "else:\n",
    "    print(\"It works when the discrete log exits!\")\n",
    "\n",
    "\n",
    "# test when the log does not exist\n",
    "number_of_tests = 5\n",
    "minp = 20\n",
    "maxp = 1000\n",
    "\n",
    "for _ in range(number_of_tests):\n",
    "    p = random_prime(maxp, lbound=minp)\n",
    "    F = FiniteField(p)\n",
    "    h = F.primitive_element()\n",
    "    g = h^2\n",
    "    result = bsgs(h, g)\n",
    "    if result != -1:\n",
    "        print(f\"It fails for {p = }, {g = }, {h = }.  It gives {result} when it should give -1.\")\n",
    "        break\n",
    "else:\n",
    "    print(\"It works when the discrete log doesn't exit!\")"
   ]
  },
  {
   "cell_type": "markdown",
   "metadata": {},
   "source": [
    "### Optional: Comparison\n",
    "\n",
    "If you want, you can compare the efficiency of the algrithms by evaluating the cells below:"
   ]
  },
  {
   "cell_type": "code",
   "execution_count": null,
   "metadata": {
    "collapsed": false,
    "jupyter": {
     "outputs_hidden": false
    }
   },
   "outputs": [],
   "source": [
    "k = 23\n",
    "p = random_prime(2^(k+1), lbound=2^k)\n",
    "F = FiniteField(p)\n",
    "g = F.primitive_element()\n",
    "x = (p - 1)/2\n",
    "h = g^x"
   ]
  },
  {
   "cell_type": "markdown",
   "metadata": {},
   "source": [
    "Naive:"
   ]
  },
  {
   "cell_type": "code",
   "execution_count": null,
   "metadata": {
    "collapsed": false,
    "jupyter": {
     "outputs_hidden": false
    }
   },
   "outputs": [],
   "source": [
    "%%time\n",
    "x = ndl(h,g)"
   ]
  },
  {
   "cell_type": "markdown",
   "metadata": {},
   "source": [
    "Babystep-Giantstep:"
   ]
  },
  {
   "cell_type": "code",
   "execution_count": null,
   "metadata": {
    "collapsed": false,
    "jupyter": {
     "outputs_hidden": false
    }
   },
   "outputs": [],
   "source": [
    "%%time\n",
    "x = bsgs(h,g)"
   ]
  },
  {
   "cell_type": "markdown",
   "metadata": {},
   "source": [
    "Sage's own, of course, is faster!"
   ]
  },
  {
   "cell_type": "code",
   "execution_count": null,
   "metadata": {
    "collapsed": false,
    "jupyter": {
     "outputs_hidden": false
    }
   },
   "outputs": [],
   "source": [
    "%%time\n",
    "x = discrete_log(h,g)"
   ]
  }
 ],
 "metadata": {
  "kernelspec": {
   "display_name": "SageMath 10.5",
   "language": "sage",
   "name": "sage-10.5"
  },
  "language_info": {
   "codemirror_mode": {
    "name": "ipython",
    "version": 3
   },
   "file_extension": ".py",
   "mimetype": "text/x-python",
   "name": "python",
   "nbconvert_exporter": "python",
   "pygments_lexer": "ipython3",
   "version": "3.12.5"
  }
 },
 "nbformat": 4,
 "nbformat_minor": 4
}
