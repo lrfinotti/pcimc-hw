{
 "cells": [
  {
   "cell_type": "markdown",
   "metadata": {},
   "source": [
    "# Homework 1"
   ]
  },
  {
   "cell_type": "markdown",
   "metadata": {},
   "source": [
    "In all the problems below replace the `...` with the Sage code for your solution.\n",
    "\n",
    "**Make sure that the kernel for this notebook is SageMath.**"
   ]
  },
  {
   "cell_type": "markdown",
   "metadata": {},
   "source": [
    "## Problem 1: Naive GCD\n",
    "\n",
    "Define the function `my_gcd(a,b)` which computes the GCD in the \"naive way\", i.e., by checking for common divisors.  Here you **cannot** use any advanced Sage functions (not even `divisors`), only remainders (like `x%y` or `x.mod(y)`).  You may assume that $a,b>0$."
   ]
  },
  {
   "cell_type": "code",
   "execution_count": null,
   "metadata": {
    "collapsed": false,
    "jupyter": {
     "outputs_hidden": false
    }
   },
   "outputs": [],
   "source": [
    "def my_gcd(a, b):\n",
    "    \"\"\"\n",
    "    Given a and b, retunrs the GCD by checking common divisors.\n",
    "\n",
    "    INPUTS:\n",
    "    a, b: intergers.\n",
    "\n",
    "    OUTPUT:\n",
    "    The GCD of a and b.\n",
    "    \"\"\"\n",
    "    ..."
   ]
  },
  {
   "cell_type": "markdown",
   "metadata": {},
   "source": [
    "Check if your function works by running the code below.  It should print `It works!`\n",
    "\n",
    "**Note:** Since this naive approach is slow, this test may take a little while."
   ]
  },
  {
   "cell_type": "code",
   "execution_count": null,
   "metadata": {
    "collapsed": false,
    "jupyter": {
     "outputs_hidden": false
    }
   },
   "outputs": [],
   "source": [
    "fct = my_gcd  # you can assign a function to a variable (that becomes a function too)\n",
    "\n",
    "number_of_tests = 20  # max. number of tests\n",
    "mmin = 10000\n",
    "mmax = 2000000\n",
    "\n",
    "for _ in range(number_of_tests):\n",
    "    a = randint(mmin, mmax)\n",
    "    b = randint(mmin, mmax)\n",
    "    result = fct(a, b)\n",
    "    expected = gcd(a, b)\n",
    "    if result != expected:\n",
    "        print(f\"Fails for {a = } and {b = }.\")\n",
    "        print(f\"Your function gives {result}, while the real value is {expected}.\")\n",
    "        break  # stop the loop!\n",
    "else:  # if no break\n",
    "    print(\"It works!\")"
   ]
  },
  {
   "cell_type": "markdown",
   "metadata": {},
   "source": [
    "## Problem 2: GCD Using divisors\n",
    "\n",
    "Now you can use the builtin `divisors` function to improve it.  It just gives a list of divisors of the input:"
   ]
  },
  {
   "cell_type": "code",
   "execution_count": null,
   "metadata": {},
   "outputs": [],
   "source": [
    "divisors(18)"
   ]
  },
  {
   "cell_type": "code",
   "execution_count": null,
   "metadata": {},
   "outputs": [],
   "source": [
    "divisors(7)"
   ]
  },
  {
   "cell_type": "markdown",
   "metadata": {},
   "source": [
    "**Note:** You can check if a number is in a list in Sage/Python using `in`: so `2 in [1,2,3]` gives `True` and `4 in [1,2,3]` gives `False`.  *But try to do it in an efficient way!*  For instance, you can do it with a single call of `divisors` instead of one for each `a` and `b`!\n",
    "\n",
    "**Hint:** Note that `reversed(some_list)` outputs the list `some_list` in *reverse* order.  It might be helpful, depending on how you solve the problem."
   ]
  },
  {
   "cell_type": "code",
   "execution_count": null,
   "metadata": {
    "collapsed": false,
    "jupyter": {
     "outputs_hidden": false
    }
   },
   "outputs": [],
   "source": [
    "def my_impr_gcd(a, b):\n",
    "    \"\"\"\n",
    "    Given a and b, it computes the GCD using the function divisors from Sage.\n",
    "\n",
    "    INPUTS:\n",
    "    a, b: intergers.\n",
    "\n",
    "    OUTPUT:\n",
    "    The GCD of a and b.\n",
    "    \"\"\"\n",
    "    ..."
   ]
  },
  {
   "cell_type": "markdown",
   "metadata": {},
   "source": [
    "Check it again."
   ]
  },
  {
   "cell_type": "code",
   "execution_count": null,
   "metadata": {
    "collapsed": false,
    "jupyter": {
     "outputs_hidden": false
    }
   },
   "outputs": [],
   "source": [
    "fct = my_impr_gcd  # you can assign a function to a variable (that becomes a function too)\n",
    "\n",
    "number_of_tests = 30  # max. number of tests\n",
    "mmin = 10000\n",
    "mmax = 2000000\n",
    "\n",
    "for _ in range(number_of_tests):\n",
    "    a = randint(mmin, mmax)\n",
    "    b = randint(mmin, mmax)\n",
    "    result = fct(a, b)\n",
    "    expected = gcd(a, b)\n",
    "    if result != expected:\n",
    "        print(f\"Fails for {a = } and {b = }.\")\n",
    "        print(f\"Your function gives {result}, while the real value is {expected}.\")\n",
    "        break  # stop the loop!\n",
    "else:  # if no break\n",
    "    print(\"It works!\")"
   ]
  },
  {
   "cell_type": "markdown",
   "metadata": {},
   "source": [
    "## Problem 3: Euclidean Algorithm\n",
    "\n",
    "Now implement the [Euclidean Algorithm](https://luisfinotti.org/pcimc/03-Number_Theory.html#alg-ea) to compute the GCD of two integers.    (Follow the link for the description of the algorithm in our [book](https://luisfinotti.org/pcimc/).)"
   ]
  },
  {
   "cell_type": "code",
   "execution_count": null,
   "metadata": {
    "collapsed": false,
    "jupyter": {
     "outputs_hidden": false
    }
   },
   "outputs": [],
   "source": [
    "def ea(a, b):\n",
    "    \"\"\"\n",
    "    Given a and b, returns the GCD using the Euclidean Algorithm.\n",
    "\n",
    "    INPUTS:\n",
    "    a, b: intergers.\n",
    "\n",
    "    OUTPUT:\n",
    "    The GCD of a and b.\n",
    "    \"\"\"\n",
    "    ..."
   ]
  },
  {
   "cell_type": "markdown",
   "metadata": {},
   "source": [
    "Test it!"
   ]
  },
  {
   "cell_type": "code",
   "execution_count": null,
   "metadata": {
    "collapsed": false,
    "jupyter": {
     "outputs_hidden": false
    }
   },
   "outputs": [],
   "source": [
    "fct = ea  # you can assign a function to a variable (that becomes a function too)\n",
    "\n",
    "number_of_tests = 30  # max. number of tests\n",
    "mmin = 10000\n",
    "mmax = 2000000\n",
    "\n",
    "for _ in range(number_of_tests):\n",
    "    a = randint(mmin, mmax)\n",
    "    b = randint(mmin, mmax)\n",
    "    result = fct(a, b)\n",
    "    expected = gcd(a, b)\n",
    "    if result != expected:\n",
    "        print(f\"Fails for {a = } and {b = }.\")\n",
    "        print(f\"Your function gives {result}, while the real value is {expected}.\")\n",
    "        break  # stop the loop!\n",
    "else:  # if no break\n",
    "    print(\"It works!\")"
   ]
  },
  {
   "cell_type": "markdown",
   "metadata": {},
   "source": [
    "## Optional (not graded)\n",
    "\n",
    "Run the cells below for you see the improvement on the routines."
   ]
  },
  {
   "cell_type": "code",
   "execution_count": null,
   "metadata": {
    "collapsed": false,
    "jupyter": {
     "outputs_hidden": false
    }
   },
   "outputs": [],
   "source": [
    "a = 5697498\n",
    "b = 873449494"
   ]
  },
  {
   "cell_type": "code",
   "execution_count": null,
   "metadata": {
    "collapsed": false,
    "jupyter": {
     "outputs_hidden": false
    }
   },
   "outputs": [],
   "source": [
    "%%time\n",
    "trash = my_gcd(a, b)"
   ]
  },
  {
   "cell_type": "code",
   "execution_count": null,
   "metadata": {
    "collapsed": false,
    "jupyter": {
     "outputs_hidden": false
    }
   },
   "outputs": [],
   "source": [
    "%%time\n",
    "trash = my_impr_gcd(a, b)"
   ]
  },
  {
   "cell_type": "code",
   "execution_count": null,
   "metadata": {
    "collapsed": false,
    "jupyter": {
     "outputs_hidden": false
    }
   },
   "outputs": [],
   "source": [
    "%%time\n",
    "trash = ea(a, b)"
   ]
  },
  {
   "cell_type": "code",
   "execution_count": null,
   "metadata": {
    "collapsed": false,
    "jupyter": {
     "outputs_hidden": false
    }
   },
   "outputs": [],
   "source": [
    "%%time\n",
    "trash = gcd(a, b)"
   ]
  },
  {
   "cell_type": "markdown",
   "metadata": {},
   "source": [
    "Now, let's try some larger $a$ and $b$, but this means we have to drop `my_gcd`, which would take too long."
   ]
  },
  {
   "cell_type": "code",
   "execution_count": null,
   "metadata": {
    "collapsed": false,
    "jupyter": {
     "outputs_hidden": false
    }
   },
   "outputs": [],
   "source": [
    "a = 4782657234692576498564565443232322402\n",
    "b = 78457264975629472634334685454511"
   ]
  },
  {
   "cell_type": "code",
   "execution_count": null,
   "metadata": {
    "collapsed": false,
    "jupyter": {
     "outputs_hidden": false
    }
   },
   "outputs": [],
   "source": [
    "%%time\n",
    "trash = my_impr_gcd(a, b)"
   ]
  },
  {
   "cell_type": "code",
   "execution_count": null,
   "metadata": {
    "collapsed": false,
    "jupyter": {
     "outputs_hidden": false
    }
   },
   "outputs": [],
   "source": [
    "%%time\n",
    "trash = ea(a, b)"
   ]
  },
  {
   "cell_type": "code",
   "execution_count": null,
   "metadata": {
    "collapsed": false,
    "jupyter": {
     "outputs_hidden": false
    }
   },
   "outputs": [],
   "source": [
    "%%time\n",
    "trash = gcd(a, b)"
   ]
  },
  {
   "cell_type": "markdown",
   "metadata": {},
   "source": [
    "## Problem 4: Extended Euclidean Algorithm\n",
    "\n",
    "In this problem you will implement the [Extended Euclidean Algorithm](https://luisfinotti.org/pcimc/03-Number_Theory.html#al-eea).  (Follow the link for the description of the algorithm in our [book](https://luisfinotti.org/pcimc/).)  If you prefer, you can use a different algorithm, closer to what we do by hand.\n",
    "\n",
    "You may assume that $a,b>0$.\n",
    "\n",
    "The function will be named `xea` and the output of `xea(a, b)` **has** to be of the form $(g,u,v)$, where $g=\\gcd(a,b)$, $g=ua+vb$.  (*Careful with the order!*)\n",
    "\n",
    "**Hint:** You can use `divmod`.  If you do `q, r = divmod(a, b)`, then `q` gets the quotient of the long division of `a` by `b` and `r` gets the remainder."
   ]
  },
  {
   "cell_type": "code",
   "execution_count": null,
   "metadata": {},
   "outputs": [],
   "source": [
    "def xea(a, b):\n",
    "    \"\"\"\n",
    "    Given a and b, it computes (g, u, v) where g is the GCD and g = a*u + b*v\n",
    "    using the Extended Euclidean Agorithm.\n",
    "\n",
    "    INPUTS:\n",
    "    a, b: intergers.\n",
    "\n",
    "    OUTPUTs:\n",
    "    g: the GCD of a and b;\n",
    "    u, v: such that g = a*u + b*v.\n",
    "    \"\"\"\n",
    "    ..."
   ]
  },
  {
   "cell_type": "markdown",
   "metadata": {},
   "source": [
    "Now, again, test it by running the cell below:"
   ]
  },
  {
   "cell_type": "code",
   "execution_count": null,
   "metadata": {
    "collapsed": false,
    "jupyter": {
     "outputs_hidden": false
    }
   },
   "outputs": [],
   "source": [
    "number_of_tests = 30\n",
    "mmin = 10000\n",
    "mmax = 2000000\n",
    "\n",
    "for _ in range(number_of_tests):\n",
    "    a = randint(mmin, mmax)\n",
    "    b = randint(mmin, mmax)\n",
    "    g_res, u_res, v_res = xea(a, b)\n",
    "    g_exp = gcd(a, b)\n",
    "    if g_res != g_exp or g_res != u_res * a + v_res * b:\n",
    "        print(f\"Fails for {a = } and {b = }.\")\n",
    "        if g != g_exp:\n",
    "            print(f\"The function gives GCD {g_res}, while the real value is {g_exp}.\")\n",
    "        else:\n",
    "            print(f\"The u and v found give {u_res * a + v_res * b}, not {g_res},\")\n",
    "        break # stop the loop\n",
    "else: # no break\n",
    "    print(\"It works!\")"
   ]
  },
  {
   "cell_type": "markdown",
   "metadata": {},
   "source": [
    "## Problem 5: Selecting a Solution for the Extended Euclidean Algorithm\n",
    "\n",
    "Now, if you are given $u_0$ and $v_0$ such that $au_0 + bv_0 = g$ where $g = \\gcd(a,b)$, you must find $u, v \\in \\mathbb{Z}$ such that $g = a u + bv$, where $u$ is the *smallest non-negative integer possible*.  \n",
    "\n",
    "So, your function should return the pair $(u, v)$ only.\n",
    "\n",
    "**Hint:** The idea is to use the [theorem from the book](https://luisfinotti.org/pcimc/03-Number_Theory.html#pr-bezout_mult_sol) about the multiple solutions of $au + bv = g$.  You can use the [Example in the book](https://luisfinotti.org/pcimc/03-Number_Theory.html#finding-a-specific-solution) as a reference."
   ]
  },
  {
   "cell_type": "code",
   "execution_count": null,
   "metadata": {
    "collapsed": false,
    "jupyter": {
     "outputs_hidden": false
    }
   },
   "outputs": [],
   "source": [
    "def sel_xea(a, b, g, u0, v0):\n",
    "    \"\"\"\n",
    "    Given a, b, g, u0, and v0, where g = gcd(a, b) and g = a*u0 + b*v0, returns\n",
    "    u, v, where g = a*u + b*v, where u is the smallest non-negative possible\n",
    "    value.\n",
    "\n",
    "    INPUTS:\n",
    "    a, b: integers,\n",
    "    g: the GCD of a and b,\n",
    "    u0, v0: integers such that g = a*u0 + b*v0.\n",
    "\n",
    "    OUTPUTS:\n",
    "    u, v: integers such that a*u + b*v = g with u non-negative and as small as\n",
    "    possible.\n",
    "    \"\"\"\n",
    "    ..."
   ]
  },
  {
   "cell_type": "markdown",
   "metadata": {},
   "source": [
    "Let's test it:"
   ]
  },
  {
   "cell_type": "code",
   "execution_count": null,
   "metadata": {
    "collapsed": false,
    "jupyter": {
     "outputs_hidden": false
    }
   },
   "outputs": [],
   "source": [
    "number_of_tests = 30\n",
    "mmin = 10000\n",
    "mmax = 2000000\n",
    "\n",
    "for _ in range(number_of_tests):\n",
    "    a = randint(mmin, mmax)\n",
    "    b = randint(mmin, mmax)\n",
    "    g, u0, v0 = xgcd(a, b)\n",
    "    k = randint(10, 100)\n",
    "    k *= (-1) ^ randint(0, 1)\n",
    "    u0, v0 = u0 + k * b // g, v0 - k * a // g\n",
    "    u, v = sel_xea(a, b, g, u0, v0)\n",
    "    if g != u * a + v * b or u < 0 or u > b // g:\n",
    "        print(f\"Fails for {a = } and {b = }.\")\n",
    "        if u < 0:\n",
    "            print(f\"The function gives {u = }, which is negative.\")\n",
    "        elif u > b // g:\n",
    "            print(\n",
    "                f\"The {u = } is too large, as u = {u - b//g}, v = {v + a//g} would also work.\"\n",
    "            )\n",
    "        else:\n",
    "            print(f\"The u and v found give {u*a + v*b}, not {g}.\")\n",
    "        break\n",
    "else:  # no break\n",
    "    print(\"It works!\")"
   ]
  }
 ],
 "metadata": {
  "kernelspec": {
   "display_name": "SageMath 10.5",
   "language": "sage",
   "name": "sage-10.5"
  },
  "language_info": {
   "codemirror_mode": {
    "name": "ipython",
    "version": 3
   },
   "file_extension": ".py",
   "mimetype": "text/x-python",
   "name": "python",
   "nbconvert_exporter": "python",
   "pygments_lexer": "ipython3",
   "version": "3.12.5"
  }
 },
 "nbformat": 4,
 "nbformat_minor": 4
}
