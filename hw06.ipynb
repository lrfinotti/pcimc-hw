{
 "cells": [
  {
   "cell_type": "markdown",
   "metadata": {},
   "source": [
    "# Homework 6"
   ]
  },
  {
   "cell_type": "markdown",
   "metadata": {},
   "source": [
    "## Problem 1: RSA Encryption/Decryption\n",
    "\n",
    "### 1(a): Encryption\n",
    "\n",
    "Given a modulus $N = pq$ (for unknown $p$ and $q$ distinct primes), encryption exponent $e$, and message $m \\in \\{2, \\ldots , N-1\\}$, your function should output the encrypted message (to be sent).\n",
    "\n",
    "Note that $m \\in \\mathbb{Z}$, but your encrypted message should be in $\\mathbb{Z}/N\\mathbb{Z}$.\n",
    "\n",
    "Also, you *have* to use Sage's fast exponentiation modulo $N$ (i.e., perform powers in $\\mathbb{Z}/N\\mathbb{Z}$), as otherwise it is too slow.\n",
    "\n",
    "(This is really very simple!)"
   ]
  },
  {
   "cell_type": "code",
   "execution_count": null,
   "metadata": {
    "collapsed": false,
    "jupyter": {
     "outputs_hidden": false
    }
   },
   "outputs": [],
   "source": [
    "def rsa_encr(N, e, m):\n",
    "    \"\"\"\n",
    "    Given the modulus N, the encryption expoenent e, and a message m, uses RSA\n",
    "    to encrypt the message.\n",
    "\n",
    "    INPUTS:\n",
    "    N: the modulus (a product of two distinct primes),\n",
    "    e: the encryption exponent (a positive integer).\n",
    "    m: the message (positive integer).\n",
    "\n",
    "    OUTPUT:\n",
    "    The encrypted message (an integer modulo N).\n",
    "    \"\"\"\n",
    "    ..."
   ]
  },
  {
   "cell_type": "markdown",
   "metadata": {},
   "source": [
    "### 1(b): Decryption\n",
    "\n",
    "Here we will assume, for the decryption, that all the ingredients are known, so the input is simply an encoded message $x$ in $\\mathbb{Z}/N\\mathbb{Z}$ (so not an integer!) and the decryption exponent $d$.  It should return the decrypted message *as an integer* (and *not* in $\\mathbb{Z}/N\\mathbb{Z}$).\n",
    "\n",
    "Again, do all powers in $\\mathbb{Z}/N\\mathbb{Z}$!"
   ]
  },
  {
   "cell_type": "code",
   "execution_count": null,
   "metadata": {
    "collapsed": false,
    "jupyter": {
     "outputs_hidden": false
    }
   },
   "outputs": [],
   "source": [
    "def rsa_decr(x, d):\n",
    "    \"\"\"\n",
    "    Given a message x encrypted by the RSA and the decoding expoent d, gives\n",
    "    back the original message.\n",
    "\n",
    "    INPUTS:\n",
    "    x: the encrypted message (an integer modulo N).\n",
    "    d: the decryption exponent.\n",
    "\n",
    "    RETURN:\n",
    "    The decrypted message (a positive integer).\n",
    "    \"\"\"\n",
    "    ..."
   ]
  },
  {
   "cell_type": "markdown",
   "metadata": {},
   "source": [
    "### 1(c): Generating the Keys"
   ]
  },
  {
   "cell_type": "markdown",
   "metadata": {},
   "source": [
    "Given $b$, your function should generate two (*distinct!*) random $b$-bit primes ($p$ and $q$), the encryption exponent $e$, which for us will *always* be $e = 2^{16}+1$ (which is prime), and the corresponding decryption exponent $d$.\n",
    "\n",
    "**Note:** Since we are choosing $e = 2^{16}+1$, we have to make sure our primes $p$ and $q$ are such that $\\gcd(e,(p-1)(q-1)) = 1$!  If not, we must choose other primes.  (But note that $2^{16}+1$ is itself prime, so what we need is that $e \\nmid (p-1)$ and $e \\nmid (q-1)$.)\n",
    "\n",
    "The output has to be a pair of lists `v` and `w`, with $v = (p, q, d)$ (for decryption) and $w = (pq, e)$.  (So, $v$ is private and $w$ is public.)\n",
    "\n",
    "Note that $d$ must be an integer between $1$ and $(p-1)(q-1)$.  (You can always reduce it modulo $(p-1)(q-1)$!)\n",
    "\n",
    "**Hints:** \n",
    "1) Use Sage's `random_prime`.\n",
    "2) Make sure to test that $p$ does not divide $p-1$ nor $q-1$.\n",
    "3) Make sure $p \\neq q$."
   ]
  },
  {
   "cell_type": "code",
   "execution_count": null,
   "metadata": {
    "collapsed": false,
    "jupyter": {
     "outputs_hidden": false
    }
   },
   "outputs": [],
   "source": [
    "def rsa_keys(b):\n",
    "    \"\"\"\n",
    "    Given b, returns (p, q, d), (p*q, e), where p and q are two distinct random\n",
    "    b-bit primes, and e and d are the encryption/decryption exponent for RSA.\n",
    "\n",
    "    INPUT:\n",
    "    b: number of bits for the primes (positive integer).\n",
    "\n",
    "    OUTPUTS:\n",
    "    (p, q, d): p and q are two b-bit primes and d is a decryption exponent.\n",
    "    (p*q, e): e is the encryption exponent, so d*e is 1 modulo p*q.\n",
    "    \"\"\"\n",
    "    e = 2^16 + 1\n",
    "    ..."
   ]
  },
  {
   "cell_type": "markdown",
   "metadata": {},
   "source": [
    "We will test those, but keep in mind that if even only one of the functions above is incorrect, the whole test might be compromised!  (I will check it though!)"
   ]
  },
  {
   "cell_type": "code",
   "execution_count": null,
   "metadata": {
    "collapsed": false,
    "jupyter": {
     "outputs_hidden": false
    }
   },
   "outputs": [],
   "source": [
    "number_of_tests = 20\n",
    "minb = 20\n",
    "maxb = 30\n",
    "\n",
    "\n",
    "def test_key(b, v, w):\n",
    "    p, q, d = v\n",
    "    N, e = w\n",
    "    if N != p * q:\n",
    "        print(\"N must be p*q.\")\n",
    "        return False\n",
    "    if p == q:\n",
    "        print(\"p and q must be different.\")\n",
    "        return False\n",
    "    if ((p - 1) % e == 0) or ((q - 1) % e == 0):\n",
    "        print(\"e cannot divide p or q\")\n",
    "        return False\n",
    "    if not (is_prime(p) and is_prime(q)):\n",
    "        print(\"p and q must be primes.\")\n",
    "        return False\n",
    "    if p < 2 ^ (b - 1) or q < 2 ^ (b - 1):\n",
    "        print(\"p or q too small.\")\n",
    "        return False\n",
    "    if p >= 2 ^ b or q >= 2 ^ b:\n",
    "        print(\"p or q too large.\")\n",
    "        return False\n",
    "    phi = (p - 1) * (q - 1)\n",
    "    if Mod(d, phi) * Mod(e, phi) != Mod(1, phi):\n",
    "        print(\"d not the invese of e.\")\n",
    "        return False\n",
    "    if d >= phi or d < 0:\n",
    "        print(\"d is too large or too small.\")\n",
    "        return False\n",
    "    return True\n",
    "\n",
    "\n",
    "for _ in range(number_of_tests):\n",
    "    b = randint(minb, maxb + 1)\n",
    "    [p, q, d], [N, e] = rsa_keys(b)\n",
    "    if not test_key(b, [p, q, d], [N, e]):\n",
    "        print(\"The rsa_keys function failed!\")\n",
    "        break\n",
    "\n",
    "    v = [p, q, d]\n",
    "    w = [N, e]\n",
    "    m = randint(2, N)\n",
    "    decr_message = rsa_decr(rsa_encr(N, e, m), d)\n",
    "    if decr_message != m:\n",
    "        print(\n",
    "            f\"Fails for {v = }, {w = }, {m = }.  Decryption gave {decr_message}.\"\n",
    "        )\n",
    "        break\n",
    "else:\n",
    "    print(\"It works!\")"
   ]
  },
  {
   "cell_type": "markdown",
   "metadata": {},
   "source": [
    "## Problem 2: Carmichael Numbers\n",
    "\n",
    "In this problem you will test if a number greater than or equal to $2$ is composite or either prime or a [Carmichael number](https://luisfinotti.org/pcimc/11-Primality.html#def-carmichael) by using [Fermat's Little Theorem](https://luisfinotti.org/pcimc/11-Primality.html#th-flt-2).\n",
    "\n",
    "The output, for a given $n$ to be tested, is either\n",
    "\n",
    "- an *integer* that is either $a \\in \\{2, \\ldots , n-1\\}$ which is a witness for $n$ (if composite),\n",
    "- or $-1$ if $a$ is either prime or a Carmichael Number.\n",
    "\n",
    "**Important:** You cannot use any Sage function related to primality!  (You can use `Mod`, though, to work in $\\mathbb{Z}/n\\mathbb{Z}$.)\n",
    "\n",
    "Remember that a *witness* for the compositeness of $n$ is simply some $a \\in \\{1, 2, \\ldots, n-1\\}$ such that $a^n \\not\\equiv a \\pmod{n}$.\n",
    "\n",
    "**Note:** Use exponentiation in $\\mathbb{Z}/n\\mathbb{Z}$, not in $\\mathbb{Z}$!  (Points will be taken if you don't, as it slows down the algorithm immensely!)"
   ]
  },
  {
   "cell_type": "code",
   "execution_count": null,
   "metadata": {
    "collapsed": false,
    "jupyter": {
     "outputs_hidden": false
    }
   },
   "outputs": [],
   "source": [
    "def carm_test(n):\n",
    "    \"\"\"\n",
    "    Test if n is a Carmichael number.  Returns -1 if n is either prime or\n",
    "    Carmichael number, otherwise it should return a witness.\n",
    "\n",
    "    INPUT:\n",
    "    n: an integer greater than 1 to be tested.\n",
    "\n",
    "    OUTPUT:\n",
    "    A witness for the compositeness of n or -1 if n is either a prime or\n",
    "    a Carmichael number.\n",
    "    \"\"\"\n",
    "    if n == 2:\n",
    "        return -1\n",
    "    ..."
   ]
  },
  {
   "cell_type": "markdown",
   "metadata": {},
   "source": [
    "Let's test it (against my list of Carmichael numbers -- this can take a minute):"
   ]
  },
  {
   "cell_type": "code",
   "execution_count": null,
   "metadata": {
    "collapsed": false,
    "jupyter": {
     "outputs_hidden": false
    }
   },
   "outputs": [],
   "source": [
    "max_to_try = 10000\n",
    "carm_nos = {\n",
    "    561,\n",
    "    1105,\n",
    "    1729,\n",
    "    2465,\n",
    "    2821,\n",
    "    6601,\n",
    "    8911,\n",
    "}  # my set of Carmichael numbers up to 10,000\n",
    "\n",
    "for n in range(2, max_to_try):\n",
    "    result = carm_test(n)\n",
    "    if result == -1:\n",
    "        if (not is_prime(n)) and (n not in carm_nos):\n",
    "            print(\n",
    "                f\"{n} is neither prime nor a Carmichael number, while your function says it is.\"\n",
    "            )\n",
    "            break\n",
    "    else:\n",
    "        if is_prime(n) or n in carm_nos:\n",
    "            print(\n",
    "                f\"{n} is either prime or a Carmichael number, while your function says it is not.\"\n",
    "            )\n",
    "            break\n",
    "        if Mod(result, n)^n == Mod(result, n):\n",
    "            print(f\"You gave {result} as a witness, but it is not.\")\n",
    "            break\n",
    "else:\n",
    "    print(\"It works!\")"
   ]
  },
  {
   "cell_type": "markdown",
   "metadata": {},
   "source": [
    "### Some Remarks (Optional)"
   ]
  },
  {
   "cell_type": "markdown",
   "metadata": {},
   "source": [
    "Note that there are only seven Carmichael numbers between $2$ and $10{,}000$.  So, the probability our test gives that $n$ is either Carmichael number or prime (i.e., output $-1$), and it is not prime (and so a Carmichael number) for any $n$ in this range is: "
   ]
  },
  {
   "cell_type": "code",
   "execution_count": null,
   "metadata": {
    "collapsed": false,
    "jupyter": {
     "outputs_hidden": false
    }
   },
   "outputs": [],
   "source": [
    "n = prime_pi(10000)\n",
    "7/(7 + n), 7.0/(7 + n)"
   ]
  },
  {
   "cell_type": "markdown",
   "metadata": {},
   "source": [
    "So, less than 0.6% chance."
   ]
  },
  {
   "cell_type": "markdown",
   "metadata": {},
   "source": [
    "We can also see how fast we can find a witness for the non-primes/non-Carmichael numbers.  The routine below (*if your function is correct!*) should give you and idea of how small the first witness is.  The smallest it is, the quickest the test tells that he number is composite.\n",
    "\n",
    "The output is an average of the size of first witness $a$ (output of the function) compared to (i.e., divided by) $n-1$ (the maximal possible output), for the first $10{,}000$ non-prime/non-Carmichael numbers:"
   ]
  },
  {
   "cell_type": "code",
   "execution_count": null,
   "metadata": {},
   "outputs": [],
   "source": [
    "carm_nos = {\n",
    "    561,\n",
    "    1105,\n",
    "    1729,\n",
    "    2465,\n",
    "    2821,\n",
    "    6601,\n",
    "    8911,\n",
    "}  # my set of Carmichael numbers up to 10,000\n",
    "\n",
    "sum_of_values = 0\n",
    "total = 0\n",
    "\n",
    "for n in range(2, 10000 + 1):\n",
    "    if (not is_prime(n)) and (n not in carm_nos):\n",
    "        witness = carm_test(n)\n",
    "        if witness == -1:\n",
    "            print(\"Something is wrong!\")\n",
    "            break\n",
    "        sum_of_values += witness / (n - 1)\n",
    "        total += 1\n",
    "\n",
    "numerical_approx(sum_of_values / total)"
   ]
  },
  {
   "cell_type": "markdown",
   "metadata": {},
   "source": [
    "The correct value is about 0.15%, so, on average, the first witness is about 0.15% for $n-1$."
   ]
  },
  {
   "cell_type": "markdown",
   "metadata": {},
   "source": [
    "## Problem 3: Miller-Rabin Test\n",
    "\n",
    "In this problem you will implement the [Miller-Rabin algorithm](https://luisfinotti.org/pcimc/11-Primality.html#al-mr).  (See also the [example in the book](https://luisfinotti.org/pcimc/11-Primality.html#id1).)\n",
    "\n",
    "Given $a$ and $n > 2$, two integers, your function should return $1$ if the test tells you that $a$ is a Miller-Rabin witness for the compositeness of $n$, and $-1$ otherwise (so the test would fail to determine if $n$ is composite).\n",
    "\n",
    "**Notes:** \n",
    "- To determine $k$ such that $n-1 = 2^k \\cdot q$, with $q$ odd, use Sage's `valuation(n - 1, 2)`.  (You definitely should not use `factor`, as it does a lot more than you need!)\n",
    "- Make sure to work in $\\mathbb{Z}/n\\mathbb{Z}$."
   ]
  },
  {
   "cell_type": "code",
   "execution_count": null,
   "metadata": {
    "collapsed": false,
    "jupyter": {
     "outputs_hidden": false
    }
   },
   "outputs": [],
   "source": [
    "def mr(n, a):\n",
    "    \"\"\"\n",
    "    Given n and a, checks if a is a Miller Rabin witness for n.  If so, it\n",
    "    should return 1.  If not, it should return -1.\n",
    "\n",
    "    INPUTS:\n",
    "    n: an integer greater than 2 to test for compositeness.\n",
    "    a: a possible Miller-Rabin witness.\n",
    "\n",
    "    OUTPUT:\n",
    "    1 if a is a Miller-Rabin witness, and -1 if not.\n",
    "    \"\"\"\n",
    "    if n == 2:\n",
    "        return -1\n",
    "    ..."
   ]
  },
  {
   "cell_type": "markdown",
   "metadata": {},
   "source": [
    "Test it:"
   ]
  },
  {
   "cell_type": "code",
   "execution_count": null,
   "metadata": {
    "collapsed": false,
    "jupyter": {
     "outputs_hidden": false
    }
   },
   "outputs": [],
   "source": [
    "number_of_tests = 20\n",
    "min_n = 20\n",
    "max_n = 10^4\n",
    "\n",
    "# test specific example\n",
    "witness_25 = [2, 3, 4, 5, 6, 8, 9, 10, 11, 12, 13, 14, 15, 16, 17, 19, 20, 21, 22, 23]\n",
    "\n",
    "cont = True  # continue after first test?\n",
    "for a in range(1, 25):\n",
    "    if (mr(25, a) == 1) and (a not in witness_25):\n",
    "        print(f\"{a} should not be a witness for 25.\")\n",
    "        cont = False\n",
    "        break\n",
    "    if (mr(25, a) == -1) and (a in witness_25):\n",
    "        print(f\"{a} should be a witness for 25.\")\n",
    "        cont = False\n",
    "        break\n",
    "\n",
    "if cont:\n",
    "    for _ in range(number_of_tests):\n",
    "        # test composite numbers first\n",
    "        n = ZZ(randint(min_n, max_n))\n",
    "        while is_prime(n):\n",
    "            n = ZZ(randint(min_n, max_n))\n",
    "        a = 2\n",
    "        while mr(n, a) == -1 and a < n:\n",
    "            a += 1\n",
    "        if a == n:\n",
    "            print(f\"{n} is composite, but your test fails!\")\n",
    "            break\n",
    "\n",
    "        # now test for primes\n",
    "        n = random_prime(max_n, lbound = min_n)\n",
    "        a = 2\n",
    "        while mr(n, a) == -1 and a < n:\n",
    "            a += 1\n",
    "        if a < n:\n",
    "            print(f\"{n} is prime, but your test says it's composite!\")\n",
    "            break\n",
    "    else:\n",
    "        print(\"It works!\")"
   ]
  },
  {
   "cell_type": "markdown",
   "metadata": {},
   "source": [
    "## Problem 4: Miller-Rabin Witness\n",
    "\n",
    "As [stated in the book](https://luisfinotti.org/pcimc/11-Primality.html#th-mr_witness):\n",
    "\n",
    "**Theorem:** If $n$ is odd and composite, at least $3/4$ of $a \\in \\{2, 3, 4, \\ldots, n-1\\}$ should be Miller-Rabin witnesses of $n$.\n",
    "\n",
    "This was not proved, so we verify it numerically here."
   ]
  },
  {
   "cell_type": "markdown",
   "metadata": {},
   "source": [
    "### 4(a): Number of Witnesses\n",
    "\n",
    "Given an odd composite number $n$ (you do not need to verify it), the output of your function should be the total number of Miller-Rabin witnesses (between $2$ and $n-1$) for that $n$.\n",
    "\n",
    "**Note:** Use your Miller-Rabin function `mr` above.  If your Miller-Rabin function is incorrect or does not work, the tests below will fail, but I will check the correctness independently of the test results.  So, if the code for this part is correct, you can get full credit even if `mr` is incorrect."
   ]
  },
  {
   "cell_type": "code",
   "execution_count": null,
   "metadata": {
    "collapsed": false,
    "jupyter": {
     "outputs_hidden": false
    }
   },
   "outputs": [],
   "source": [
    "def mrws(n):\n",
    "    \"\"\"\n",
    "    Given n, it gives how many Miller-Rabin witnesses n has.\n",
    "\n",
    "    INPUT:\n",
    "    n: an integer greater than 2.\n",
    "\n",
    "    OUTPUT:\n",
    "    Number of Miller-Rabin witnesess for n.\n",
    "    \"\"\"\n",
    "    ..."
   ]
  },
  {
   "cell_type": "markdown",
   "metadata": {},
   "source": [
    "Test it (for some few examples I've computed beforehand):"
   ]
  },
  {
   "cell_type": "code",
   "execution_count": null,
   "metadata": {
    "collapsed": false,
    "jupyter": {
     "outputs_hidden": false
    }
   },
   "outputs": [],
   "source": [
    "list_n = [63, 195, 357, 753, 979 ]\n",
    "list_count = [60, 192, 354, 750, 976]\n",
    "\n",
    "for n, count in zip(list_n, list_count):\n",
    "    res_count = mrws(n)\n",
    "    if res_count != count:\n",
    "        print(f\"Your function gave {res_count} MR-witnesses for {n}, while mine gave {count}.\")\n",
    "        break\n",
    "else:\n",
    "    print(\"It seems to work!\")"
   ]
  },
  {
   "cell_type": "markdown",
   "metadata": {},
   "source": [
    "### 4(b): Average Proportion of Witnessess\n",
    "\n",
    "Here you will find the average proportion if Miller-Rabin witnesses for all *odd* composite numbers from $9$ to (and including) $1007$.  In other words, you compute the average of `mrws(n)/(n-2)` for all **composite odd** numbers `n` between $9$ and $1007$.\n",
    "\n",
    "**Hint:** I've done some averages for you in the problem about Carmichael numbers.  If you are not sure how to do it, maybe looking at it might help."
   ]
  },
  {
   "cell_type": "code",
   "execution_count": null,
   "metadata": {
    "collapsed": false,
    "jupyter": {
     "outputs_hidden": false
    }
   },
   "outputs": [],
   "source": [
    "..."
   ]
  },
  {
   "cell_type": "markdown",
   "metadata": {},
   "source": [
    "According to my computation, the result should be `0.986696208654307`.\n",
    "\n",
    "I've done it up to $10005$ (which would take a bit too long to ask you to do), and the average was `0.996304578975721`, so even higher.  The [theorem above](https://luisfinotti.org/pcimc/11-Primality.html#th-mr_witness) says that *at least* 75% of the $a$'s are MR-witnesses, but in practice it seems that a lot more than 75% are (in most cases).  The computation above says that the average is closer to 99.6%!\n",
    "\n",
    "As [stated in the book](https://luisfinotti.org/pcimc/11-Primality.html#proportion-of-witnesses), with the 75% chance from the theorem, we can *guarantee* that if $n$ is odd composite and we pick 10 integers to try to find the witness, the probability that none would be a witness is *at most* one in a million.  But, in practice, it is *a lot* more unlikely!"
   ]
  },
  {
   "cell_type": "markdown",
   "metadata": {},
   "source": [
    "## Problem 5: Probabilistic Primality Test\n",
    "\n",
    "In this problem we will use the Miller-Rabin test to do a probabilisitc primality test.\n",
    "\n",
    "Given $n$, a number to test if prime or not, and $k$ the number of witnesses to try, apply the Miller-Rabin test `mr(n,a)` for $k$ `a`'s chosen *randomly* in $\\{2, \\ldots, n-1\\}$.  (**Hint:** You can use `randint`.)\n",
    "\n",
    "If for any `a` we get `mr(n,a) = 1`, return `False` (as `n` is composite).  If you try `k` *different* (make sure to not repeat!) `a`'s, and for all of them get `mr(n,a) = -1`, return `True`, as `n` is *probably* prime (with a chance of only *at most* $1$ in $4^k$ that it is not).\n",
    "\n",
    "**Hint:** To make sure you do not pick a repeated $a$ create an empty set, with `set_of_as = set()`, and create a while loop to get new $a$'s: while $a$ is in the set, choose a new $a$.  When you are done with the look, add this new $a$ to the set (with `set_of_as.add(a)`).\n",
    "\n",
    "**Note:** Again, this will not work if your `mr` function is incorrect, but I will grade this part independent of `mr`."
   ]
  },
  {
   "cell_type": "code",
   "execution_count": null,
   "metadata": {
    "collapsed": false,
    "jupyter": {
     "outputs_hidden": false
    }
   },
   "outputs": [],
   "source": [
    "def mrpt(n, k):\n",
    "    \"\"\"\n",
    "    Use at most k numbers with the Miller-Rabin test to see if n is probably\n",
    "    prime or definitely composite.\n",
    "\n",
    "    INPUTS:\n",
    "    n: the number to test for compositeness (positive integer).\n",
    "    k: number of tries with the Miller-Rabin test.\n",
    "\n",
    "    OUTPUT:\n",
    "    False if n is composite and True if n is likely prime.\n",
    "    \"\"\"\n",
    "    set_of_as = set()\n",
    "    ..."
   ]
  },
  {
   "cell_type": "markdown",
   "metadata": {},
   "source": [
    "Test it!  (I will use a high `k`, and thus just check your function with `is_prime`.)"
   ]
  },
  {
   "cell_type": "code",
   "execution_count": null,
   "metadata": {
    "collapsed": false,
    "jupyter": {
     "outputs_hidden": false
    }
   },
   "outputs": [],
   "source": [
    "number_of_tests = 30\n",
    "k = 20\n",
    "min_n = 10^3\n",
    "max_n = 10^5\n",
    "\n",
    "for _ in range(number_of_tests):\n",
    "    # test composite numbers first\n",
    "    n = ZZ(randint(min_n, max_n))\n",
    "    while is_prime(n):\n",
    "        n = ZZ(randint(min_n, max_n))\n",
    "    if mrpt(n,k):\n",
    "        print(f\"{n} is composite, but your test says it's (likely) prime.\")\n",
    "        break\n",
    "    # test primes\n",
    "    n = random_prime(max_n, lbound = min_n)\n",
    "    if not mrpt(n, k):\n",
    "        print(f\"{n} is prime, but your test says it's composite!\") \n",
    "        break\n",
    "else:\n",
    "    print(\"It works!\")"
   ]
  },
  {
   "cell_type": "markdown",
   "metadata": {},
   "source": [
    "### Efficiency (Optional)\n",
    "\n",
    "Let's test the efficiency of some algorithms to test primality.\n",
    "\n",
    "First, let's define the \"naive method\": seach for a divisor less than or equal to $\\lfloor \\sqrt{n} \\rfloor$."
   ]
  },
  {
   "cell_type": "code",
   "execution_count": null,
   "metadata": {
    "collapsed": false,
    "jupyter": {
     "outputs_hidden": false
    }
   },
   "outputs": [],
   "source": [
    "def naive_pt(n):\n",
    "    \"\"\"\n",
    "    Naive primality test.  Given n, returns True if prime and False if\n",
    "    composite.\n",
    "\n",
    "    INPUT:\n",
    "    n: positive integer to be tested for primality.\n",
    "\n",
    "    OUTPUT:\n",
    "    True if n is prime, False if it is composite.\n",
    "    \"\"\"\n",
    "    if n == 2:\n",
    "        return True\n",
    "    if n % 2 == 0:\n",
    "        return False\n",
    "    for d in range(3, floor(sqrt(n)) + 1, 2):  # only odds!\n",
    "        if n % d == 0:\n",
    "            return False  # found proper divisor\n",
    "    return True"
   ]
  },
  {
   "cell_type": "markdown",
   "metadata": {},
   "source": [
    "Let's fix a prime to test:"
   ]
  },
  {
   "cell_type": "code",
   "execution_count": null,
   "metadata": {
    "collapsed": false,
    "jupyter": {
     "outputs_hidden": false
    }
   },
   "outputs": [],
   "source": [
    "p = next_prime(10^17)"
   ]
  },
  {
   "cell_type": "markdown",
   "metadata": {},
   "source": [
    "First the naive (it might take a little while):"
   ]
  },
  {
   "cell_type": "code",
   "execution_count": null,
   "metadata": {
    "collapsed": false,
    "jupyter": {
     "outputs_hidden": false
    }
   },
   "outputs": [],
   "source": [
    "%%time\n",
    "naive_pt(p)"
   ]
  },
  {
   "cell_type": "markdown",
   "metadata": {},
   "source": [
    "Now, we could try the Carmichael (probabilistic) test `carm_test`, but it is *very* slow.  (You can try it yourself, if you want, but be prepared to wait!)  \n",
    "\n",
    "So, let's skip it and compare it to the Miller-Rabin, with `k=20`."
   ]
  },
  {
   "cell_type": "code",
   "execution_count": null,
   "metadata": {
    "collapsed": false,
    "jupyter": {
     "outputs_hidden": false
    }
   },
   "outputs": [],
   "source": [
    "%%time\n",
    "mrpt(p, 20)"
   ]
  },
  {
   "cell_type": "markdown",
   "metadata": {},
   "source": [
    "It's very fast!\n",
    "\n",
    "We can go even farther:"
   ]
  },
  {
   "cell_type": "code",
   "execution_count": null,
   "metadata": {
    "collapsed": false,
    "jupyter": {
     "outputs_hidden": false
    }
   },
   "outputs": [],
   "source": [
    "p = next_prime(10^30)"
   ]
  },
  {
   "cell_type": "code",
   "execution_count": null,
   "metadata": {
    "collapsed": false,
    "jupyter": {
     "outputs_hidden": false
    }
   },
   "outputs": [],
   "source": [
    "%%time\n",
    "mrpt(p, 20)"
   ]
  },
  {
   "cell_type": "markdown",
   "metadata": {},
   "source": [
    "Indeed, *very* fast!"
   ]
  }
 ],
 "metadata": {
  "kernelspec": {
   "display_name": "SageMath 10.5",
   "language": "sage",
   "name": "sage-10.5"
  },
  "language_info": {
   "codemirror_mode": {
    "name": "ipython",
    "version": 3
   },
   "file_extension": ".py",
   "mimetype": "text/x-python",
   "name": "python",
   "nbconvert_exporter": "python",
   "pygments_lexer": "ipython3",
   "version": "3.12.5"
  }
 },
 "nbformat": 4,
 "nbformat_minor": 4
}
