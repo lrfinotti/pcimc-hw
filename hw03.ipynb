{
 "cells": [
  {
   "cell_type": "markdown",
   "metadata": {},
   "source": [
    "# Homework 3"
   ]
  },
  {
   "cell_type": "markdown",
   "metadata": {},
   "source": [
    "## Problem 1: Order of an Element\n",
    "\n",
    "In this problem, given a unit $a \\in (\\Z/m\\Z)^\\times$, for some $m >1$ not necessarily prime, we will compute the order $|a|$ of $a$ in $\\Z /m \\Z$.  **Of course, you cannot use Sage's** `.multiplicative_order()`!  (But only in this problem.  You can and should use it in the other problems!)\n",
    "\n",
    "A few observations are necessary.\n",
    "\n",
    "First, your input will be already in $\\Z / m\\Z$ and not an integer.  You *will* need to check it is a unit, but that is already in the code below (you can simply use the method `.is_unit()`.).  In that case the function will return $-1$.\n",
    "\n",
    "You will also need to find the $m$, as we are only given an element *already* in $\\Z/m \\Z$.  This can be done with the function `parent` (that given $a$ gives back its \"parent\" structure, namely $\\Z/m\\Z$ in this case) and the method `.characteristic()` (which given $\\Z / m\\Z$ returns the $m$), and it is also done below.\n",
    "\n",
    "Here is an example of the use of `parent` and `.characteristic`:"
   ]
  },
  {
   "cell_type": "code",
   "execution_count": null,
   "metadata": {},
   "outputs": [],
   "source": [
    "a = Mod(7, 18)  # 7 in Z/8Z\n",
    "a"
   ]
  },
  {
   "cell_type": "code",
   "execution_count": null,
   "metadata": {},
   "outputs": [],
   "source": [
    "parent(a)"
   ]
  },
  {
   "cell_type": "code",
   "execution_count": null,
   "metadata": {},
   "outputs": [],
   "source": [
    "parent(a).characteristic()"
   ]
  },
  {
   "cell_type": "markdown",
   "metadata": {},
   "source": [
    "**Hint:** Remember that the order of a unit in $(\\Z/m\\Z)^{\\times}$ is a *divisor* of $\\phi(m)$.  This can simplify the computation *if computing $\\phi(m)$ is easy*.  If not, \"brute force\" (i.e., checking powers of $a$ until we get $1$) is probably better.  You can implement either method here.\n",
    "\n",
    "**Important:** If you use the brute force method, you **have** to compute the powers efficiently, as described in the section [Computing Successive Powers](https://luisfinotti.org/pcimc/05-Powers.html#successive-powers) in the [book](https://luisfinotti.org/pcimc/).  *Points will be taken if you do not follow it!*"
   ]
  },
  {
   "cell_type": "code",
   "execution_count": null,
   "metadata": {
    "collapsed": false,
    "jupyter": {
     "outputs_hidden": false
    }
   },
   "outputs": [],
   "source": [
    "def my_order(a):\n",
    "    \"\"\"\n",
    "    Given a unit a of Zmod(m), returns the multiplicative order of a.\n",
    "\n",
    "    INPUT:\n",
    "    a: a unit of Zmod(m).\n",
    "\n",
    "    OUTPUT:\n",
    "    The order of a as a unit.\n",
    "    \"\"\"\n",
    "    if not a.is_unit():\n",
    "        return -1\n",
    "    ..."
   ]
  },
  {
   "cell_type": "markdown",
   "metadata": {},
   "source": [
    "Let's test it:"
   ]
  },
  {
   "cell_type": "code",
   "execution_count": null,
   "metadata": {
    "collapsed": false,
    "jupyter": {
     "outputs_hidden": false
    }
   },
   "outputs": [],
   "source": [
    "number_of_tests = 30\n",
    "minm = 100\n",
    "maxm = 200\n",
    "\n",
    "\n",
    "# to compare with Sage's\n",
    "def check_order(a):\n",
    "    if not a.is_unit():\n",
    "        return -1\n",
    "    return a.multiplicative_order()\n",
    "\n",
    "\n",
    "for _ in range(number_of_tests):\n",
    "    m = randint(minm, maxm)\n",
    "    R = Zmod(m)\n",
    "\n",
    "    result = my_order(a)\n",
    "    expected = check_order(a)\n",
    "\n",
    "    stop = True\n",
    "    for a in R:\n",
    "        if result != expected:\n",
    "            print(\n",
    "                f\"Fails for {a = } and {m = }.  It give {result}, but it should be {expected}.\"\n",
    "            )\n",
    "            break  # break out of the inner loop\n",
    "    else:\n",
    "        stop = False  # did not break, so keep testing\n",
    "    if stop:\n",
    "        break  # break out of the outer/main loop\n",
    "else:\n",
    "    print(\"It works!\")"
   ]
  },
  {
   "cell_type": "markdown",
   "metadata": {},
   "source": [
    "## Problem 2: Find All Primitive Roots\n",
    "\n",
    "Now, given a $p$ prime, find *all* primitive roots, i.e., elements of order $p-1$.  The output should be a list in *increasing order*.  (You can use the function `sorted` to return a sorted version of a list.)\n",
    "\n",
    "**Important:** Note that the entries should be in $\\Z/p\\Z$, not in $\\Z$.\n",
    "\n",
    "Use Sage's method `.multiplicative_order()` instead of your own `my_order` function."
   ]
  },
  {
   "cell_type": "code",
   "execution_count": null,
   "metadata": {
    "collapsed": false,
    "jupyter": {
     "outputs_hidden": false
    }
   },
   "outputs": [],
   "source": [
    "def find_prim_roots(p):\n",
    "    \"\"\"\n",
    "    Given a prime number p, gives the list of primitive roots of Zmod(p)\n",
    "    in increasing order.\n",
    "\n",
    "    INPUT:\n",
    "    p: a prime.\n",
    "\n",
    "    OUTPUT:\n",
    "    A sorted list of integers modulo p with all primitive roots of Zmod(p).\n",
    "    \"\"\"\n",
    "    ..."
   ]
  },
  {
   "cell_type": "markdown",
   "metadata": {},
   "source": [
    "Testing:"
   ]
  },
  {
   "cell_type": "code",
   "execution_count": null,
   "metadata": {
    "collapsed": false,
    "jupyter": {
     "outputs_hidden": false
    }
   },
   "outputs": [],
   "source": [
    "number_of_tests = 30\n",
    "minp = 100\n",
    "maxp = 2000\n",
    "\n",
    "for _ in range(number_of_tests):\n",
    "    p = random_prime(maxp, lbound=minp)\n",
    "    result = find_prim_roots(p)\n",
    "\n",
    "    stop = False\n",
    "\n",
    "    # test if sorted\n",
    "    if result != sorted(result):\n",
    "        print(f\"Result is not sorted: {result}.\")\n",
    "        stop = True\n",
    "        break\n",
    "\n",
    "    # test if elements in Zmod(p)\n",
    "    for x in result:\n",
    "        if parent(x) != Zmod(p):\n",
    "            print(\"Entries of the output not in Zmod(p)!\")\n",
    "            stop = True\n",
    "            break\n",
    "\n",
    "    if len(result) != euler_phi(p - 1):  # missing any?\n",
    "        print(f\"Fails for {p =  }.  The result has the wrong number of elements: {result}.\")\n",
    "        stop = True\n",
    "        break\n",
    "\n",
    "    if stop:\n",
    "        break  # break out main loop\n",
    "\n",
    "    stop = True\n",
    "    for x in result:\n",
    "        x_order = x.multiplicative_order()\n",
    "        if x_order != p - 1:  # false positives?\n",
    "            print(\n",
    "                f\"Fails for {p = }.  Element {x} is has order {x_order}, not {p - 1}.\"\n",
    "            )\n",
    "            break  # break out of the inner loop\n",
    "    else:  # did not break\n",
    "        stop = False\n",
    "    if stop:\n",
    "        break  # break out of the outer/main loop\n",
    "else:\n",
    "    print(\"It works!\")"
   ]
  },
  {
   "cell_type": "markdown",
   "metadata": {},
   "source": [
    "## Problem 3: Proportion of Elements of Order $q$\n",
    "\n",
    "In this problem we verify computationally the a [proposition from the book](https://luisfinotti.org/pcimc/06-DH_and_ElGamal.html#find_g), restated below:\n",
    "\n",
    "**Proposition:** Given primes $p$ and $q$, with $q$ dividing $p-1$, and a random element $a \\in \\mathbb{F}_p^{\\times}$, then the probability that $a^{\\frac{p-1}{q}}$ has order $q$ is $(q-1)/q$.\n",
    "\n",
    "So, given $p$ and $q$ primes with $q \\mid (p-1)$, and remembering that if $S$ is a set, then $|S|$ is the *number of elements* of $S$, compute the proportion (a rational number)\n",
    "$$\n",
    "\\frac{|\\{ a \\in \\mathbb{F}_p^{\\times} \\; : \\; a^{(p-1)/q} \\neq 1 \\}|}{|\\mathbb{F}_p^{\\times}|}.\n",
    "$$\n",
    "(This proportion is the probability above!)\n",
    "\n",
    "**Notes:**\n",
    "  - You do *not* need to check that the $p$ and $q$ given are prime or that $q \\mid p-1$.\n",
    "  - You can work, in your computation, with either $\\mathbb{F}_p$ (`Zmod(p)`, or `FiniteField(p)`, or `GF(p)`) itself or with $\\mathbb{F}_p^{\\times}$ (e.g., `Zmod(p).unit_group()`).\n",
    "  - We know that the answer should be $(q-1) / q$, but, of course, you have to compute this number without assuming that!\n",
    "\n",
    "(This problem is really simple!)"
   ]
  },
  {
   "cell_type": "code",
   "execution_count": null,
   "metadata": {
    "collapsed": false,
    "jupyter": {
     "outputs_hidden": false
    }
   },
   "outputs": [],
   "source": [
    "def ord_q_prop(p, q):\n",
    "    \"\"\"\n",
    "    Given p and q primes, with q dividing p, gives the proportion of elements\n",
    "    whose (p-1)/q-th power is not 1, inside the unit group.\n",
    "\n",
    "    INPUTS:\n",
    "    p: a prime.\n",
    "    q: a prime dividing (p - 1).\n",
    "\n",
    "    OUTPUT:\n",
    "    The proportion of elments that raised to the power (p - 1)/q is equal to\n",
    "    one in the units of Zmod(p).\n",
    "    \"\"\"\n",
    "    ..."
   ]
  },
  {
   "cell_type": "markdown",
   "metadata": {},
   "source": [
    "Let's run a few examples:"
   ]
  },
  {
   "cell_type": "code",
   "execution_count": null,
   "metadata": {
    "collapsed": false,
    "jupyter": {
     "outputs_hidden": false
    }
   },
   "outputs": [],
   "source": [
    "number_of_tests = 20\n",
    "minq = 2\n",
    "maxq = 1000\n",
    "\n",
    "prev_qs = [] # avoid repeated q's\n",
    "\n",
    "for _ in range(number_of_tests):\n",
    "    # find p and q\n",
    "    found_q = False\n",
    "    while not found_q: # find q (not in found_q)\n",
    "        q = random_prime(maxq, lbound=minq)\n",
    "        found_q = (q not in prev_qs)\n",
    "    prev_qs.append(q)\n",
    "    p = q + 1\n",
    "    while not is_prime(p): # find p\n",
    "        p += q\n",
    "\n",
    "    result = ord_q_prop(p, q)\n",
    "    expected = (q - 1) / q\n",
    "    if result != expected:\n",
    "        print(f\"Failed for {p = }, {q = }.  The result was {result} when it should have been {expected}.\")\n",
    "        break\n",
    "else:\n",
    "    print(\"It works!\")"
   ]
  },
  {
   "cell_type": "markdown",
   "metadata": {},
   "source": [
    "## Problem 4: Find Random Element of Order $q$\n",
    "\n",
    "This is related to the previous problem and the section [\"Finding $q$ and $q$\"](https://luisfinotti.org/pcimc/06-DH_and_ElGamal.html#finding-q-and-g) from the book.\n",
    "\n",
    "Given $p$ and $q$ primes with $q \\mid (p-1)$, we will need to find a **random** element of order $q$ in $\\Z/p\\Z$ using the following method:\n",
    "\n",
    "1) Take a *random* element $a$ of $\\mathbb{F}_p^{\\times}$.\n",
    "2) If $a^{(p-1)/q}$ is $1$ (in $\\mathbb{F}_p$), then return $a$.  If not, go back to step 1.\n",
    "\n",
    "You can use Sage's `randint` function.  Remember `randint(a, b)` gives a random integer between `a` and `b` (with `a` and `b` being possible outputs).  In Python, this function would have to be imported, but in Sage it is built in.\n",
    "\n",
    "**Note:** Your output has to be in $\\mathbb{F}_p$ (i.e., in `Zmod(p)` or `FiniteFiled(p)` or `GF(p)`)."
   ]
  },
  {
   "cell_type": "code",
   "execution_count": null,
   "metadata": {
    "collapsed": false,
    "jupyter": {
     "outputs_hidden": false
    }
   },
   "outputs": [],
   "source": [
    "def find_elem_ord_q(p, q):\n",
    "    \"\"\"\n",
    "    Given primes p and q with q dividing (p-1), finds a random element of order\n",
    "    q in unit group of Zmod(p).\n",
    "\n",
    "    INPUTS:\n",
    "    p: a prime.\n",
    "    q: a prime dividing (p - 1).\n",
    "\n",
    "    OUTPUT:\n",
    "    A random element of Zmod(p) of order q.\n",
    "    \"\"\"\n",
    "    ..."
   ]
  },
  {
   "cell_type": "markdown",
   "metadata": {},
   "source": [
    "Let's test it:"
   ]
  },
  {
   "cell_type": "code",
   "execution_count": null,
   "metadata": {
    "collapsed": false,
    "jupyter": {
     "outputs_hidden": false
    }
   },
   "outputs": [],
   "source": [
    "number_of_primes = 20\n",
    "number_of_tests = 20\n",
    "minq = 2000\n",
    "maxq = 10000\n",
    "\n",
    "for _ in range(number_of_primes):\n",
    "    # find p and q\n",
    "    q = random_prime(maxq, lbound=minq)\n",
    "    p = q + 1\n",
    "    while not is_prime(p):\n",
    "        p += q\n",
    "    stop = True\n",
    "    for _ in range(number_of_tests):\n",
    "        a = find_elem_ord_q(p, q)\n",
    "        result = a.multiplicative_order()\n",
    "        if result != q:\n",
    "            print(f\"It gives that {a} modulo {p} has order {q}, but it actually has order {result}.\")\n",
    "            break\n",
    "    else:\n",
    "        stop = False\n",
    "    if stop:\n",
    "        break\n",
    "else:\n",
    "    print(\"It works!\")"
   ]
  },
  {
   "cell_type": "markdown",
   "metadata": {},
   "source": [
    "## Problem 5: Find Primitive Root (Special Case)\n",
    "\n",
    "We have the following theoretical result:\n",
    "\n",
    "**Proposition:** Let $p$ be a prime such that $q = (p-1)/2$ is also prime, and $g \\in \\mathbb{F}_p^{\\times}$ such that $g \\neq 1, -1$ and $g^q \\neq 1$.  Then $g$ is a primitive root (i.e., $|g| = p - 1$).\n",
    "\n",
    "Given $p$ a prime such that $q = (p-1)/2$ is also prime, write a function that tests if the proposition is true.  So, given such $p$ it must check if *all* $g$'s satisfying the conditions in the statement are primitive roots.\n",
    "\n",
    "The output of your function should be `True` if it is true, or `False` if it finds a counter-example.\n",
    "\n",
    "**Notes:**\n",
    "\n",
    "1) Of course, the proposition *tells* you that the output should always be `True`.  This just verifies it.\n",
    "2) In your function you do *not* need to check that $(p-1)/2$ is prime."
   ]
  },
  {
   "cell_type": "code",
   "execution_count": null,
   "metadata": {
    "collapsed": false,
    "jupyter": {
     "outputs_hidden": false
    }
   },
   "outputs": [],
   "source": [
    "def check_prim_root(p):\n",
    "    \"\"\"\n",
    "    Given p a prime such that q=(p-1)/2 is also prime, checks if every element\n",
    "    in the unit group different from 1 and -1 and whose q-th power is not 1 is\n",
    "    a primitive root.\n",
    "\n",
    "    INPUT:\n",
    "    p: a prime such that (p-1)/2 is also prime.\n",
    "\n",
    "    OUTPUT:\n",
    "    True if *every* element g in the unit group of Zmod(p) different from 1 and\n",
    "    -1 and such that g^((p-1)/2) is not 1 is a primitive root, and False\n",
    "    otherwise.\n",
    "    \"\"\"\n",
    "    ..."
   ]
  },
  {
   "cell_type": "markdown",
   "metadata": {},
   "source": [
    "Test it:"
   ]
  },
  {
   "cell_type": "code",
   "execution_count": null,
   "metadata": {
    "collapsed": false,
    "jupyter": {
     "outputs_hidden": false
    }
   },
   "outputs": [],
   "source": [
    "number_of_tests = 30\n",
    "minq = 100\n",
    "maxq = 1000\n",
    "\n",
    "tried_qs = []  # avoid repeated q's\n",
    "\n",
    "for _ in range(number_of_tests):\n",
    "    # find p and q\n",
    "    q = random_prime(maxq, lbound=minq)\n",
    "    p = 2 * q + 1\n",
    "    while not is_prime(p) and (q not in tried_qs):\n",
    "        q = random_prime(maxq, lbound=minq)\n",
    "        p = 2 * q + 1\n",
    "    tried_qs.append(q)\n",
    "    result = check_prim_root(p)\n",
    "    if not result:\n",
    "        print(f\"Something went wrong for {p = }, as it returned False.\")\n",
    "        break\n",
    "else:\n",
    "    print(\"It works!\")"
   ]
  }
 ],
 "metadata": {
  "kernelspec": {
   "display_name": "SageMath 10.5",
   "language": "sage",
   "name": "sage-10.5"
  },
  "language_info": {
   "codemirror_mode": {
    "name": "ipython",
    "version": 3
   },
   "file_extension": ".py",
   "mimetype": "text/x-python",
   "name": "python",
   "nbconvert_exporter": "python",
   "pygments_lexer": "ipython3",
   "version": "3.12.5"
  }
 },
 "nbformat": 4,
 "nbformat_minor": 4
}
