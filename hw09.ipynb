{
 "cells": [
  {
   "cell_type": "markdown",
   "metadata": {},
   "source": [
    "# Homework 9"
   ]
  },
  {
   "cell_type": "markdown",
   "metadata": {},
   "source": [
    "## Problem 1: Index Calculus\n",
    "\n",
    "We will do an incomplete implementation of the index calculus algorithm, [described in the book](https://luisfinotti.org/pcimc/14-Quad_Sieve_Index_Calc.html#index-calculus)."
   ]
  },
  {
   "cell_type": "markdown",
   "metadata": {},
   "source": [
    "### 1(a): Using Sage to Compute Logs of Primes\n",
    "\n",
    "In this part we will do the whole algorithm: given $g$ a primitive element of $\\mathbb{F}_p^{\\times}$ and $h \\in \\mathbb{F}_p^{\\times}$, as well as upper bounds $B$ and $M$, we will find $x$ such that $g^x = h$ (i.e., $x = \\log_g(h)$).\n",
    "\n",
    "**But we will cheat:** part of the problem is to find $\\log_g(\\ell)$ for all primes $\\ell \\leq B$.  You will compute those using Sage's own `discrete_log` function.  (On part 3(b) we will take the first steps in computing those without cheating.)  Of course, you can only use `discrete_log` in this part.\n",
    "\n",
    "Here the argument $M$ is simply an upper bound for $k$, when computing $h \\cdot g^{-k}$ (so, we compute it only for $k=0,1,2, \\ldots, M$ at most).\n",
    "\n",
    "Your output should be an *integer* in $\\{0, 1, 2, \\ldots, p-2\\}$.\n",
    "\n",
    "If our algorithm fails to find the discrete log (which means that $B$ or $M$ were too small), return $-1$.\n",
    "\n",
    "**Remember:** To find what is the highest power of `l` dividing `n` we use `valuation(n, l)`."
   ]
  },
  {
   "cell_type": "code",
   "execution_count": null,
   "metadata": {},
   "outputs": [],
   "source": [
    "def indcalc(g, h, B, M):\n",
    "    \"\"\"\n",
    "    Index Calculus computation of log_g(h), using B-smooth numbers.\n",
    "\n",
    "    INPUTS:\n",
    "    g, h: units of a Zmod(p) for some prime p;\n",
    "    B: upper bound for the prime factors to be used;\n",
    "    M: upper bound for k in h * g^(-k) to be used.\n",
    "\n",
    "    OUTPUT:\n",
    "    Either the discrete log of h base g, or -1 if it failed to compute it.\n",
    "    \"\"\"\n",
    "    ..."
   ]
  },
  {
   "cell_type": "markdown",
   "metadata": {},
   "source": [
    "Let's test it:"
   ]
  },
  {
   "cell_type": "code",
   "execution_count": null,
   "metadata": {},
   "outputs": [],
   "source": [
    "number_of_tests = 30\n",
    "\n",
    "min_p = 1000\n",
    "max_p = 2000\n",
    "\n",
    "min_B = 100\n",
    "max_B = 200\n",
    "\n",
    "for _ in range(number_of_tests):\n",
    "    p = random_prime(max_p, lbound=min_p)\n",
    "    B = randint(min_B, max_B)\n",
    "    M = ceil(sqrt(p))\n",
    "    F = GF(p)\n",
    "    h = F(randint(2, p - 1))\n",
    "    g = F.multiplicative_generator()\n",
    "    result = indcalc(g, h, B, M)\n",
    "    expected = discrete_log(h, g)\n",
    "    if result != expected:\n",
    "        print(f\"Failed.  The answer should be {expected}, not {result}.\")\n",
    "        break\n",
    "else:\n",
    "    print(\"It works!\")"
   ]
  },
  {
   "cell_type": "markdown",
   "metadata": {},
   "source": [
    "### 1(b): Computing Logs of Primes (First Steps)\n",
    "\n",
    "Now, given $g \\in \\mathbb{F}_p^{\\times}$ a primitive root and an upper bound $B$, we will take the first step in computing $\\log_g(\\ell)$ for all primes $\\ell \\leq B$.\n",
    "\n",
    "Your output should be a square matrix $M$ with $\\pi(B)$ lines and columns (remember that $\\pi(B)$ denotes the number of primes less than or equal to $B$) and a vector $\\vec{a}$ of length $\\pi(B)$, all of which have entries in $\\{0,1,2, \\ldots, p-2\\}$ (don't forget to reduce modulo $p-1$!), such that a solution $\\vec{x}$ of $M \\cdot \\vec{x} = \\vec{a}$ would contain the desired logs.  (See the [corresponding section of the book](https://luisfinotti.org/pcimc/14-Quad_Sieve_Index_Calc.html#discrete-logs-of-small-primes) for more detail.)\n",
    "\n",
    "(The last step, which we will skip, would be to find this solution.  It's a bit more involved than simple linear algebra since $\\mathbb{Z}/(p-1)\\mathbb{Z}$ is not a field.)\n",
    "\n",
    "**Hint:** Most of the work is done in [the example in the book](https://luisfinotti.org/pcimc/14-Quad_Sieve_Index_Calc.html#id2).  You just need to adapt it to the function.\n",
    "\n",
    "The \"matrix\" you will output is a list containing the rows as lists.  (No need to use Sage's `matrix` function.)  Similarly, the vector is simply a list.  (No need to use Sage's `vector` function.)"
   ]
  },
  {
   "cell_type": "code",
   "execution_count": null,
   "metadata": {},
   "outputs": [],
   "source": [
    "def dll(g, B):\n",
    "    \"\"\"\n",
    "    Given g, a unit in Zmod(p), computes the matrix and vector that can be used\n",
    "    to compute the discrete logs of all primes less than or equal to B.\n",
    "\n",
    "    INPUTS:\n",
    "    g: a unit of Zmod(p);\n",
    "    B: an upper bound for the primes we want to compute the discrete logs base\n",
    "       g of.\n",
    "\n",
    "    OUTPUTS:\n",
    "    A matrix M, meaning a list containg the rows (as a list) and list, and a vector\n",
    "    a such that the solution of M * x = a in Zmod(p - 1) would give all the discrete\n",
    "    logs base g of primes less than or equal to B.\n",
    "    \"\"\"\n",
    "    ..."
   ]
  },
  {
   "cell_type": "markdown",
   "metadata": {},
   "source": [
    "Let's test it:"
   ]
  },
  {
   "cell_type": "code",
   "execution_count": null,
   "metadata": {},
   "outputs": [],
   "source": [
    "number_of_tests = 30\n",
    "\n",
    "min_p = 1000\n",
    "max_p = 2000\n",
    "\n",
    "min_B = 100\n",
    "max_B = 200\n",
    "\n",
    "for _ in range(number_of_tests):\n",
    "    p = random_prime(max_p, lbound=min_p)\n",
    "    B = randint(min_B, max_B)\n",
    "    F = FiniteField(p)\n",
    "    g = F.multiplicative_generator()\n",
    "    M, a = dll(g, B)\n",
    "    v = [discrete_log(l, g) for l in primes(B + 1)]\n",
    "    MM = matrix(Zmod(p - 1), M)\n",
    "    vv = vector(Zmod(p - 1), v)\n",
    "    aa = vector(Zmod(p - 1), a)\n",
    "    if MM*vv != aa:\n",
    "        print(\"Your matrix and vector do not have the logs as solution.\")\n",
    "        break\n",
    "else:\n",
    "    print(\"It works!\")"
   ]
  },
  {
   "cell_type": "markdown",
   "metadata": {},
   "source": [
    "## Problem 2: RSA Digital Signature\n",
    "\n",
    "In this problem we implement the RSA Digital Signature, [as described in the book](https://luisfinotti.org/pcimc/15-Digital_Signatures.html#rsa-digital-signature)."
   ]
  },
  {
   "cell_type": "markdown",
   "metadata": {},
   "source": [
    "### 2(a): Sign\n",
    "\n",
    "Given a modulus $N$ (with $N=pq$), the signing exponent $d$, and a \"document\" $D$ (i.e., a number in $\\{2, \\ldots, N-1\\}$), the function below should produce the pair $(D,S)$ where $S$ is the signature for the document $D$ (which was given as input).\n",
    "\n",
    "**Note:** The signature $S$ should be in $\\mathbb{Z}/N \\mathbb{Z}$.  We will assume $D$ is given in $\\mathbb{Z}$."
   ]
  },
  {
   "cell_type": "code",
   "execution_count": null,
   "metadata": {
    "collapsed": false,
    "jupyter": {
     "outputs_hidden": false
    }
   },
   "outputs": [],
   "source": [
    "def RSA_sign(N, d, D):\n",
    "    \"\"\"\n",
    "    Use RSA to sign document D with signing key d.\n",
    "\n",
    "    INPUTS:\n",
    "    N: the modulus, a product of two distinct primes;\n",
    "    d: the signing key;\n",
    "    D: the document to be signed.\n",
    "\n",
    "    OUTPUTS:\n",
    "    A pair with D itseld and the signature.\n",
    "    \"\"\"\n",
    "    ..."
   ]
  },
  {
   "cell_type": "markdown",
   "metadata": {},
   "source": [
    "### 2(b): Verify\n",
    "\n",
    "Given a modulus $N$, a verifictation exponent $e$, a document $D$ (in $\\{2, \\ldots , N-1\\}$) and a signature $S$ (in $\\mathbb{Z}/N\\mathbb{Z}$), the function should return `True` if the singnature $S$ is valid, and `False` otherwise."
   ]
  },
  {
   "cell_type": "code",
   "execution_count": null,
   "metadata": {
    "collapsed": false,
    "jupyter": {
     "outputs_hidden": false
    }
   },
   "outputs": [],
   "source": [
    "def RSA_ver(N, e, D, S):\n",
    "    \"\"\"\n",
    "    Verifies if the S is a valid signature for the document D with verification\n",
    "    key e.\n",
    "\n",
    "    INPUTS:\n",
    "    N: the modulus, a product of two distinct primes;\n",
    "    e: the verification key;\n",
    "    D: the document that was signed;\n",
    "    S: the signature for D.\n",
    "\n",
    "    OUTPUT:\n",
    "    True if the signature is valid, False if not.\n",
    "    \"\"\"\n",
    "    ..."
   ]
  },
  {
   "cell_type": "markdown",
   "metadata": {},
   "source": [
    "### 2(c): Key Generation\n",
    "\n",
    "I will not ask you to do the key generation here since it is exactly the same as for the RSA cryptosystem.\n",
    "\n",
    "My own key generation function appears in the test below."
   ]
  },
  {
   "cell_type": "markdown",
   "metadata": {},
   "source": [
    "So, let's test it.  (Note that if one of the functions is correct, but the other isn't, the test will not know.)"
   ]
  },
  {
   "cell_type": "code",
   "execution_count": null,
   "metadata": {
    "collapsed": false,
    "jupyter": {
     "outputs_hidden": false
    }
   },
   "outputs": [],
   "source": [
    "def rsa_keys(b):\n",
    "    \"\"\"\n",
    "    Generates b-bits RSA keys.\n",
    "\n",
    "    INPUT:\n",
    "    b: number of bits for the primes.\n",
    "\n",
    "    OUTPUTS:\n",
    "    A private key [p, q, d] and a public key [p * q, e], with p and q distinct\n",
    "    b-bit primes and e * d congruent to 1 modulo (p-1)*(q-1).  So, p * q is the\n",
    "    modulus, d is the signing key and e the verification key.\n",
    "    \"\"\"\n",
    "    e = 2^16 + 1\n",
    "    p = random_prime(2^b, lbound=2^(b - 1))\n",
    "    while (p - 1) % e == 0:\n",
    "        p = random_prime(2^b, lbound=2^(b - 1))\n",
    "    q = p\n",
    "    while q == p or (q - 1) % e == 0:\n",
    "        q = random_prime(2^b, lbound=2^(b - 1))\n",
    "    g, d, _ = xgcd(e, (p - 1) * (q - 1))\n",
    "    return [p, q, d], [p * q, e]\n",
    "\n",
    "\n",
    "number_of_tests = 30\n",
    "min_b = 30\n",
    "max_b = 40\n",
    "\n",
    "for _ in range(number_of_tests):\n",
    "    b = randint(min_b, max_b)\n",
    "    v, w = rsa_keys(b)\n",
    "    d = v[2]\n",
    "    N = w[0]\n",
    "    e = w[1]\n",
    "    D = randint(2, N - 1)\n",
    "    signv = RSA_sign(N, d, D)\n",
    "    if not RSA_ver(N, e, signv[0], signv[1]):\n",
    "        print(\"The signature was valid, but you couldn't verify.\")\n",
    "        break\n",
    "    DD = randint(2, N - 1)\n",
    "    while D == DD:\n",
    "        DD = randint(2, N - 1)\n",
    "    if RSA_ver(N, e, DD, signv[1]):\n",
    "        print(\"The document was altered, but you verified it.\")\n",
    "        break\n",
    "    SS = mod(randint(2, N - 1), N)\n",
    "    while SS == signv[1]:\n",
    "        SS = Mod(randint(2, N - 1), N)\n",
    "    if RSA_ver(N, e, signv[0], SS):\n",
    "        print(\"The signature is false, but you verified it.\")\n",
    "        break\n",
    "else:\n",
    "    print(\"It works!\")"
   ]
  },
  {
   "cell_type": "markdown",
   "metadata": {},
   "source": [
    "## Problem 3: ElGamal Digital Signature\n",
    "\n",
    "In this problem we implement the ElGamal Digita Signature, as [described in the book](https://luisfinotti.org/pcimc/15-Digital_Signatures.html#elgamal-digital-signature)."
   ]
  },
  {
   "cell_type": "markdown",
   "metadata": {},
   "source": [
    "### 3(a): Sign\n",
    "\n",
    "Here given a prime $p$, a primitive root $g$ of $\\mathbb{F}_p$, a secret exponent $a$ (in $\\{2, \\ldots , p-1\\}$), and a document $D$ (an integer in $\\{2, \\ldots, p-1\\}$), it should return $(D,S_1,S_2)$, where $D$ is the original document (an integer), and $S_1 \\in \\mathbb{F}_p$, $S_2 \\in \\mathbb{Z}/(p-1)\\mathbb{Z}$ are the ElGamal signature for $D$."
   ]
  },
  {
   "cell_type": "code",
   "execution_count": null,
   "metadata": {
    "collapsed": false,
    "jupyter": {
     "outputs_hidden": false
    }
   },
   "outputs": [],
   "source": [
    "def elgamal_sign(p, g, a, D):\n",
    "    \"\"\"\n",
    "    Use ElGamal to sign document D with signing key a.\n",
    "\n",
    "    INPUTS:\n",
    "    p: a prime (the modulus);\n",
    "    g: a primitive root in Zmop(p);\n",
    "    a: the signing key;\n",
    "    D: the document to be signed.\n",
    "\n",
    "    OUTPUTS:\n",
    "    The original document D, plus the two items of the signature.\n",
    "    \"\"\"\n",
    "    ..."
   ]
  },
  {
   "cell_type": "markdown",
   "metadata": {},
   "source": [
    "### 3(b): Verify\n",
    "\n",
    "Now, given $p$, $g$ and $D$ as above, plus $A = g^a$ (public) and $S_1$ (in $\\mathbb{F}_p$) and $S_2$ (in $\\mathbb{Z}/(p-1)\\mathbb{Z}$), the function below should return `True` if the signature $(S_1,S_2)$ is a valid signature for the document $D$ and `False` otherwise.\n",
    "\n",
    "**Note:** When using elements of $\\mathbb{Z}/m\\mathbb{Z}$ (for some $m$) as exponent, you probably want to convert it to an integer, for instance, using `ZZ`, like `ZZ(<your exponent>)`."
   ]
  },
  {
   "cell_type": "code",
   "execution_count": null,
   "metadata": {
    "collapsed": false,
    "jupyter": {
     "outputs_hidden": false
    }
   },
   "outputs": [],
   "source": [
    "def elgamal_ver(p, g, A, D, S1, S2):\n",
    "    \"\"\"\n",
    "    Verifies if the (S1, S2) is a valid signature for the document D with\n",
    "    verification key A.\n",
    "\n",
    "    INPUTS:\n",
    "    p: a prime (the modulus);\n",
    "    g: a primitive root in Zmop(p);\n",
    "    A: the verification key;\n",
    "    D: the document that was signed;\n",
    "    S1, S2: the supposed signature for D.\n",
    "\n",
    "    OUTPUT:\n",
    "    True if the signature is valid, False if not.\n",
    "    \"\"\"\n",
    "    ..."
   ]
  },
  {
   "cell_type": "markdown",
   "metadata": {},
   "source": [
    "### 3(c): Key Generation\n",
    "\n",
    "Given $b$, you function should return two vectors: $v_{\\mathrm{priv}} = (p,g,a)$ and $v_{\\mathrm{pub}} = (p,g,g^a)$, where $p$ is a random prime with $b$-bits, $g$ is a primitive unit modulo $p$, and $a$ is a secret exponent in $\\{2, \\ldots, p-2\\}$.\n",
    "\n",
    "**You *can* use Sage's own functions for all the steps.**\n",
    "\n",
    "**Note:** In practice you would most likely just copy the $p$ (large enough) and $g$ from someone and choose your $a$. "
   ]
  },
  {
   "cell_type": "code",
   "execution_count": null,
   "metadata": {
    "collapsed": false,
    "jupyter": {
     "outputs_hidden": false
    }
   },
   "outputs": [],
   "source": [
    "def elgamal_keys(b):\n",
    "    \"\"\"\n",
    "    Find a b-bit prime, a primitive element, and a random signing key.\n",
    "\n",
    "    INPUTS:\n",
    "    b: the number of bits for the the prime modulus.\n",
    "\n",
    "    OUTPUTS:\n",
    "    (p, g, a) and (p, g, g^a), where p is a b-bit prime, g a primitive\n",
    "    root in Zmod(p), and a is random element between 2 and p-2.\n",
    "    \"\"\"\n",
    "    ..."
   ]
  },
  {
   "cell_type": "markdown",
   "metadata": {},
   "source": [
    "OK, so let's test them."
   ]
  },
  {
   "cell_type": "code",
   "execution_count": null,
   "metadata": {
    "collapsed": false,
    "jupyter": {
     "outputs_hidden": false
    }
   },
   "outputs": [],
   "source": [
    "number_of_tests = 30\n",
    "min_b = 30\n",
    "max_b = 40\n",
    "\n",
    "for _ in range(number_of_tests):\n",
    "    b = randint(min_b, max_b)\n",
    "    v, w = elgamal_keys(b)\n",
    "    p, g, a = v\n",
    "    pp, gg, AA = w\n",
    "    if (pp != p) or (gg != g) or (AA != g^a):\n",
    "        print(\"The private and public keys are not matching!\")\n",
    "        if pp != p:\n",
    "            print(f\"Different p's: {p} and {pp}.\")\n",
    "        if gg != g:\n",
    "            print(f\"Different g's: {g} and {gg}.\")\n",
    "        if AA != g^a:\n",
    "            print(f\"{AA = } but g^a = {g^a}.\")\n",
    "        break\n",
    "    D = randint(2, p - 1)\n",
    "    signv = elgamal_sign(p, g, a, D)\n",
    "    DD = signv[0]\n",
    "    S1 = signv[1]\n",
    "    S2 = signv[2]\n",
    "    if not elgamal_ver(pp, gg, AA, DD, S1, S2):\n",
    "        print(\"The signature was valid (from your function), but you couldn't verify.\")\n",
    "        break\n",
    "    DDD = randint(2, p - 1)\n",
    "    while D == DDD:\n",
    "        DDD = randint(2, p - 1)\n",
    "    if elgamal_ver(pp, gg, AA, DDD, S1, S2):\n",
    "        print(\"The document was altered, but you verified it.\")\n",
    "        break\n",
    "    SS1 = Mod(randint(2, p - 1), p)\n",
    "    SS2 = Mod(randint(2, p - 2), p - 1)\n",
    "    while (S1, S2) == (SS1, SS2):\n",
    "        SS1 = Mod(randint(2, p - 1), p)\n",
    "        SS2 = Mod(randint(2, p - 2), p - 1)\n",
    "    if elgamal_ver(pp, gg, AA, DD, SS1, SS2):\n",
    "        print(\"The signature is false, but you verified it.\")\n",
    "        break\n",
    "else:\n",
    "    print(\"It works!\")"
   ]
  },
  {
   "cell_type": "markdown",
   "metadata": {},
   "source": [
    "## Problem 4: DSA\n",
    "\n",
    "In this problem we implement the Digital Signature Algorithm (DSA), as [described in the book](https://luisfinotti.org/pcimc/15-Digital_Signatures.html#digital-signature-algorithm)."
   ]
  },
  {
   "cell_type": "markdown",
   "metadata": {},
   "source": [
    "### 4(a): Sign\n",
    "\n",
    "Given a prime $p$, a prime $q$ such that $q \\mid (p-1)$, and element $g \\in \\mathbb{F}_p$ with $|g| = q$, a signing exponent $a$, and a document $D \\in \\{2, \\ldots, q-1\\}$, your function should return $D$, $S_1$, $S_2$ (with $S_1, S_2 \\in \\mathbb{F}_q$), where $(S_1, S_2)$ is the DSA signature for $D$."
   ]
  },
  {
   "cell_type": "markdown",
   "metadata": {},
   "source": [
    "<hr />\n",
    "\n",
    "**Note:** It seems that you can directly convert an element of $\\mathbb{Z}/p\\mathbb{Z}$ to an element of $\\mathbb{Z}/q\\mathbb{Z}$ and vice-versa:"
   ]
  },
  {
   "cell_type": "code",
   "execution_count": null,
   "metadata": {
    "collapsed": false,
    "jupyter": {
     "outputs_hidden": false
    }
   },
   "outputs": [],
   "source": [
    "p, q = 23, 11\n",
    "R, S = Zmod(p), Zmod(q)\n",
    "a, b = R.random_element(), S.random_element()\n",
    "a, b"
   ]
  },
  {
   "cell_type": "markdown",
   "metadata": {},
   "source": [
    "Now convert:"
   ]
  },
  {
   "cell_type": "code",
   "execution_count": null,
   "metadata": {
    "collapsed": false,
    "jupyter": {
     "outputs_hidden": false
    }
   },
   "outputs": [],
   "source": [
    "aa, bb = S(a), R(b)\n",
    "aa, aa.parent(), bb, bb.parent()"
   ]
  },
  {
   "cell_type": "markdown",
   "metadata": {},
   "source": [
    "On the other hand, I remember having trouble with this in the past.  You can always first convert to an integer and then convert to the other, like: "
   ]
  },
  {
   "cell_type": "code",
   "execution_count": null,
   "metadata": {
    "collapsed": false,
    "jupyter": {
     "outputs_hidden": false
    }
   },
   "outputs": [],
   "source": [
    "aa, bb = S(ZZ(a)), R(ZZ(b))\n",
    "aa, aa.parent(), bb, bb.parent()"
   ]
  },
  {
   "cell_type": "markdown",
   "metadata": {},
   "source": [
    "But, since it seems to work, you can do it either way.\n",
    "\n",
    "<hr />"
   ]
  },
  {
   "cell_type": "code",
   "execution_count": null,
   "metadata": {
    "collapsed": false,
    "jupyter": {
     "outputs_hidden": false
    }
   },
   "outputs": [],
   "source": [
    "def DSA_sign(p, q, g, a, D):\n",
    "    \"\"\"\n",
    "    Use DSA to sign document D with signing key a.\n",
    "\n",
    "    INPUTS:\n",
    "    p: a prime (the modulus);\n",
    "    q: another prime dividing (p-1), the order of g;\n",
    "    g: an element of order g in Zmod(p);\n",
    "    a: the signing key;\n",
    "    D: the document to be signed.\n",
    "\n",
    "    OUTPUTS:\n",
    "    The original document D, plus the two items of the signature.\n",
    "    \"\"\"\n",
    "    ..."
   ]
  },
  {
   "cell_type": "markdown",
   "metadata": {},
   "source": [
    "### 4(b): Verify\n",
    "\n",
    "Given a prime $p$, a prime $q$ such that $q \\mid (p-1)$, and element $g \\in \\mathbb{F}_p^{\\times}$ with $|g| = q$, a public key $A$ in $\\mathbb{F}_p^{\\times}$, a document $D \\in \\{2, \\ldots, q-1\\}$, and a signature $(S_1, S_2)$ (with $S_1, S_2 \\in \\mathbb{F}_q$), your function should return  `True` if the signature $(S_1,S_2)$ is a valid signature for the document $D$ and `False` otherwise."
   ]
  },
  {
   "cell_type": "code",
   "execution_count": null,
   "metadata": {
    "collapsed": false,
    "jupyter": {
     "outputs_hidden": false
    }
   },
   "outputs": [],
   "source": [
    "def DSA_ver(p, q, g, A, D, S1, S2):\n",
    "    \"\"\"\n",
    "    Verifies if the (S1, S2) is a valid signature for the document D with\n",
    "    verification key alpha.\n",
    "\n",
    "    INPUTS:\n",
    "    p: a prime (the modulus);\n",
    "    q: another prime dividing (p-1), the order of g;\n",
    "    g: an element of order g in Zmod(p);\n",
    "    A: the verification key;\n",
    "    D: the document to be signed;\n",
    "    S1, S2: the supposed signature for D.\n",
    "\n",
    "    OUTPUTS:\n",
    "    True if the signature is valid, False if not.\n",
    "    \"\"\"\n",
    "    ..."
   ]
  },
  {
   "cell_type": "markdown",
   "metadata": {},
   "source": [
    "### 4(c): Key generation\n",
    "\n",
    "Again, in practice we would just copy the parameters from someone else, but let's do it here for the sake of practice.  This can take a long time to generate, and so using someone else's parameter is a much better idea, but we will stick with small sizes for testing.\n",
    "\n",
    "Given $B$ and $b$, you function should return two vectors: $v_{\\mathrm{priv}} = (p,q,g,a)$ and $v_{\\mathrm{pub}} = (p,q,g,g^a)$, where $p$ and $q$ are random primes with $B$-bits and $b$-bits respectively, with $q \\mid (p-1)$ (so $B>b$), $g \\in \\mathbb{F}_p$ with $|g| = q$, and $a$ is a secret exponent in $\\{2, \\ldots, q-1\\}$.\n",
    "\n",
    "You *can* use Sage's own functions for all the steps.\n",
    "\n",
    "**Hints:** \n",
    "\n",
    "1) I think the most efficient way to find $p$ and $q$ (primes with $q \\mid (p - 1)$) is to find $q$ first and then loop:\n",
    "    ```python\n",
    "    for k in range(ceil(2^(B - 1) / q), floor(2^B / q)):\n",
    "        p = q * k + 1\n",
    "        if is_prime(p):\n",
    "            break  # this p-works\n",
    "    ```\n",
    "    If this loop finishes without finding $p$, then try another $q$ and repeat.\n",
    "2) To find $g$ of order $q$, we could use a primitive root in $\\mathbb{F}_p^{\\times}$, but Problem 4 from Homework 3 gives an efficient method!"
   ]
  },
  {
   "cell_type": "code",
   "execution_count": null,
   "metadata": {},
   "outputs": [],
   "source": [
    "def DSA_keys(b, B):\n",
    "    \"\"\"\n",
    "    Find a B-bit prime p, a b-bit prime q dividing p-1,\n",
    "    an element g of order q, and a random signing key.\n",
    "    \"\"\"\n",
    "    ..."
   ]
  },
  {
   "cell_type": "markdown",
   "metadata": {},
   "source": [
    "Let's first just test the key generation (this might take a minute, especially if your implementation is not efficient):"
   ]
  },
  {
   "cell_type": "code",
   "execution_count": null,
   "metadata": {
    "collapsed": false,
    "jupyter": {
     "outputs_hidden": false
    }
   },
   "outputs": [],
   "source": [
    "number_of_tests = 15\n",
    "\n",
    "min_b = 25\n",
    "max_b = 50\n",
    "\n",
    "for _ in range(number_of_tests):\n",
    "    b = randint(min_b, max_b)\n",
    "    B = 3 * b\n",
    "    v, w = DSA_keys(b, B)\n",
    "    p, q, g, a = v\n",
    "    if (v[:-1] != w[:-1]) or (g ^ a != w[3]):\n",
    "        print(\n",
    "            f\"The lists {v} and {w} do not match the necessary structure.\"\n",
    "        )\n",
    "        break\n",
    "    if not is_prime(p):\n",
    "        print(f\"{p = } is not prime.\")\n",
    "        break\n",
    "    if not is_prime(q):\n",
    "        print(f\"{q = } is not prime.\")\n",
    "        break\n",
    "    BB = len(p.bits())\n",
    "    # if (BB > B + 1) or (BB < B):\n",
    "    if BB != B:\n",
    "        print(f\"Prime {p = } does not have {B} bits.  It has {BB} bits.\")\n",
    "        break\n",
    "    bb = len(q.bits())\n",
    "    # if (bb > b + 1) or (bb < b):\n",
    "    if bb != b:\n",
    "        print(f\"Prime {q = } does not have {b} bits.  It has {bb} bits.\")\n",
    "        break\n",
    "    if g.multiplicative_order() != q:\n",
    "        print(f\"The element {g = } (module {p}) does not have order {q}.\")\n",
    "        break\n",
    "else:\n",
    "    print(\"It works!\")"
   ]
  },
  {
   "cell_type": "markdown",
   "metadata": {},
   "source": [
    "Now let's test them all:"
   ]
  },
  {
   "cell_type": "code",
   "execution_count": null,
   "metadata": {
    "collapsed": false,
    "jupyter": {
     "outputs_hidden": false
    }
   },
   "outputs": [],
   "source": [
    "number_of_tests = 15\n",
    "min_b = 25\n",
    "max_b = 50\n",
    "\n",
    "for _ in range(number_of_tests):\n",
    "    b = randint(min_b, max_b)\n",
    "    B = 3 * b\n",
    "    v, w = DSA_keys(b, B)\n",
    "    p, q, g, a = v\n",
    "    A = w[3]\n",
    "    D = randint(2, q - 1)\n",
    "    signv = DSA_sign(p, q, g, a, D)\n",
    "    DD, S1, S2 = signv\n",
    "    if not DSA_ver(p, q, g, A, DD, S1, S2):\n",
    "        print(\"The signature was valid, but you couldn't verify.\")\n",
    "        break\n",
    "    DDD = randint(2, q - 1)\n",
    "    while D == DDD:\n",
    "        DDD = randint(2, q - 1)\n",
    "    if DSA_ver(p, q, g, A, DDD, S1, S2):\n",
    "        print(\"The document was altered, but you verified it.\")\n",
    "        break\n",
    "    SS1 = Mod(randint(2, q - 1), q)\n",
    "    SS2 = Mod(randint(2, q - 2), q)\n",
    "    while (S1, S2) == (SS1, SS2):\n",
    "        SS1 = Mod(randint(2, q - 1), q)\n",
    "        SS2 = Mod(randint(2, q - 2), q)\n",
    "    if DSA_ver(p, q, g, A, DD, SS1, SS2):\n",
    "        print(\"The signature is false, but you verified it.\")\n",
    "        break\n",
    "else:\n",
    "    print(\"It works!\")"
   ]
  }
 ],
 "metadata": {
  "kernelspec": {
   "display_name": "SageMath 10.5",
   "language": "sage",
   "name": "sage-10.5"
  },
  "language_info": {
   "codemirror_mode": {
    "name": "ipython",
    "version": 3
   },
   "file_extension": ".py",
   "mimetype": "text/x-python",
   "name": "python",
   "nbconvert_exporter": "python",
   "pygments_lexer": "ipython3",
   "version": "3.12.5"
  }
 },
 "nbformat": 4,
 "nbformat_minor": 4
}
