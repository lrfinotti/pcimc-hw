{
 "cells": [
  {
   "cell_type": "markdown",
   "metadata": {},
   "source": [
    "# Homework 10"
   ]
  },
  {
   "cell_type": "markdown",
   "metadata": {},
   "source": [
    "## Problem 1: Adding Points on Elliptic Curves\n",
    "\n",
    "*You cannot use Sage's own implementation of elliptic curves in this problem!*\n",
    "\n",
    "Given the coefficients `vE = [a, b]` of an elliptic curve (so, the curve is given by the equation $y^2 = x^3 + ax + b$) and a pair of points $P$, $Q$, compute the sum $P+Q$.  Here we will use the convention that the point infinity $\\mathcal{O}$ is given by $0$ (zero), in both input and output.\n",
    "\n",
    "**Your output should be a list `[x,y]`, not a tuple `(x,y)`!**\n",
    "\n",
    "*You do not need to check that the points are on the curve!*  We will also assume that $a$, $b$ and the coordinates of $P$ and $Q$ are all in the same field.\n",
    "\n",
    "**Hint:** The algorithm is [given in the book](https://luisfinotti.org/pcimc/16-Elliptic_Curves.html#al-sum)."
   ]
  },
  {
   "cell_type": "code",
   "execution_count": null,
   "metadata": {},
   "outputs": [],
   "source": [
    "def add_EC(vE, P, Q):\n",
    "    \"\"\"\n",
    "    Given points P and Q in an elliptic curve given by vE = [a, b], give the\n",
    "    sum of the points.\n",
    "\n",
    "    INPUTS:\n",
    "    vE: a pair of elements [a, b] with -16 * (4 * a^3 + 26 * b^2) not zero and\n",
    "         giving the coefficients of the Weirestrass equation y^2 = x^3 + a*x + b\n",
    "         of the curve;\n",
    "    P: a point in the curve: either a pair of elements satisfying the equation\n",
    "       or 0, for the point at infinity;\n",
    "    Q: another point (perhaps the same as P).\n",
    "\n",
    "    OUTPUT:\n",
    "    The result of P + Q, so another point on the curve (a pair or 0).\n",
    "    \"\"\"\n",
    "    ..."
   ]
  },
  {
   "cell_type": "markdown",
   "metadata": {},
   "source": [
    "Let's test it:"
   ]
  },
  {
   "cell_type": "code",
   "execution_count": null,
   "metadata": {},
   "outputs": [],
   "source": [
    "def random_EC_gen(p):\n",
    "    F = FiniteField(p)\n",
    "    a = 0\n",
    "    b = 0\n",
    "    while -16 * (4*a^3 + 27*b^2) == 0:\n",
    "        a = F.random_element()\n",
    "        b = F. random_element()\n",
    "    return [a, b]\n",
    "\n",
    "number_of_tests = 30\n",
    "min_b = 30\n",
    "max_b = 40\n",
    "failed = False\n",
    "\n",
    "for _ in range(number_of_tests):\n",
    "    # create EC\n",
    "    p = random_prime(2^max_b, lbound=2^min_b)\n",
    "    vE = random_EC_gen(p)\n",
    "    E = EllipticCurve(vE)\n",
    "\n",
    "    # random point != O\n",
    "    PP = E.random_element()\n",
    "    while PP == E(0):\n",
    "        PP = E.random_element()\n",
    "    P = [PP[0], PP[1]]\n",
    "\n",
    "    # Q = 0\n",
    "    result = add_EC(vE, P, 0)\n",
    "    expected = P\n",
    "    if result != expected:\n",
    "        print(\"Failed test 1\")\n",
    "        failed = True\n",
    "        Q = 0\n",
    "        break\n",
    "\n",
    "    # P = 0\n",
    "    result = add_EC(vE, 0, P)\n",
    "    expected = P\n",
    "    if result != expected:\n",
    "        print(\"Failed test 2\")\n",
    "        failed = True\n",
    "        Q = P\n",
    "        P = 0\n",
    "        break\n",
    "\n",
    "    # Q = -P\n",
    "    result = add_EC(vE, P, [P[0], -P[1]])\n",
    "    expected = 0\n",
    "    if result != expected:\n",
    "        print(\"Failed test 3\")\n",
    "        failed = True\n",
    "        Q = [P[0], -P[1]]\n",
    "        break\n",
    "\n",
    "    # Q = P\n",
    "    RR = PP + PP\n",
    "    expected = [RR[0], RR[1]]\n",
    "    result = add_EC(vE, P, P)\n",
    "    if result != expected:\n",
    "        print(\"Failed test 4\")\n",
    "        failed = True\n",
    "        Q = P\n",
    "        break\n",
    "\n",
    "    # generate new random point != P and O\n",
    "    QQ = E.random_element()\n",
    "    while QQ == PP or QQ == E(0) or QQ == -PP:\n",
    "        QQ = E.random_element()\n",
    "    Q = [QQ[0], QQ[1]]\n",
    "\n",
    "    # Q != P, -P, O\n",
    "    RR = PP + QQ\n",
    "    expected = [RR[0], RR[1]]\n",
    "    result = add_EC(vE, P, Q)\n",
    "    if result != expected:\n",
    "        print(\"Failed test 5\")\n",
    "        failed = True\n",
    "        break\n",
    "\n",
    "    # if there is a point of order 2, test it!\n",
    "    PR.<x> = PolynomialRing(GF(p))\n",
    "    f = x^3 + vE[0]*x + vE[1]\n",
    "    v = f.roots()\n",
    "    if len(v) != 0:  # if there is P with 2*P = O\n",
    "        x1 = v[0][0]\n",
    "        result = add_EC(vE, [x1, 0], [x1, 0])\n",
    "        expected = 0\n",
    "        if result != expected:\n",
    "            print(\"Failed test 6\")\n",
    "            failed = True\n",
    "            P = Q = [x1, 0]\n",
    "\n",
    "if failed:\n",
    "    print(f\"For {p = }, {vE = }, {P = }, {Q = }.  It should return {expected}, but it returned {result}.\")\n",
    "else:\n",
    "    print(\"It works!\")"
   ]
  },
  {
   "cell_type": "markdown",
   "metadata": {},
   "source": [
    "## Problem 2: Ternary Expansion\n",
    "\n",
    "Given a positive integer $n$, give its *ternary expansion* as [explained in the book](https://luisfinotti.org/pcimc/16-Elliptic_Curves.html#ternary-expansion), i.e., express it as $n = e_0 + e_1 \\cdot 2 + e_2 \\cdot 2^2 + \\cdots + e_k \\cdot 2^k$, where $e_i \\in \\{0,1,-1\\}$, $e_k = 1$, and at most $\\lceil (k+1)/2\\rceil$ of them are not $0$.\n",
    "\n",
    "Your output should be simply the list/vector `[e0, e1, e2,..., ek]`.\n",
    "\n",
    "**Hints:** \n",
    "- To get the digits in base $2$ of `n`, you can use `ZZ(n).bits()`.\n",
    "- The algorithm is [described in the book](https://luisfinotti.org/pcimc/16-Elliptic_Curves.html#al:ternary).\n"
   ]
  },
  {
   "cell_type": "code",
   "execution_count": null,
   "metadata": {},
   "outputs": [],
   "source": [
    "def tern_exp(n):\n",
    "    \"\"\"\n",
    "    Gives the ternary expansion of a positive integer n.\n",
    "\n",
    "    INPUT:\n",
    "    n: a positive integer.\n",
    "\n",
    "    OUTPUT:\n",
    "    A list of 0's, 1's and -1's, with no consecutive non-zero elements, ending\n",
    "    with 1, and when multiplies by the powers of two (from 0) add to n.\n",
    "    \"\"\"\n",
    "    ternary = ZZ(n).bits()\n",
    "    ..."
   ]
  },
  {
   "cell_type": "markdown",
   "metadata": {},
   "source": [
    "Let's test it.  Here is the example from class:"
   ]
  },
  {
   "cell_type": "code",
   "execution_count": null,
   "metadata": {},
   "outputs": [],
   "source": [
    "tern_exp(3545) == [1, 0, 0, -1, 0, -1, 0, 0, 0, -1, 0, 0, 1]"
   ]
  },
  {
   "cell_type": "markdown",
   "metadata": {},
   "source": [
    "More tests:"
   ]
  },
  {
   "cell_type": "code",
   "execution_count": null,
   "metadata": {},
   "outputs": [],
   "source": [
    "def consecutive_non_zero(v):\n",
    "    \"\"\"\n",
    "    Tests if v has consecutive non-zero entries.\n",
    "\n",
    "    INPUT:\n",
    "    v: a list of numbers.\n",
    "\n",
    "    OUTPUT:\n",
    "    True if there no non-zero consecutive numbers, False otherwise.\n",
    "    \"\"\"\n",
    "    length = len(v)\n",
    "    i = 0\n",
    "    while True:\n",
    "        while i < length and v[i] == 0:\n",
    "            i += 1\n",
    "        if i >= length - 1:\n",
    "            return True\n",
    "        if v[i + 1] != 0:\n",
    "            return False\n",
    "        i += 1\n",
    "\n",
    "\n",
    "number_of_tests = 20\n",
    "min_n = 2000\n",
    "max_n = 5000\n",
    "\n",
    "for _ in range(number_of_tests):\n",
    "    n = randint(min_n, max_n)\n",
    "    e = tern_exp(n)\n",
    "    k = len(e)\n",
    "\n",
    "    if e[-1] != 1:\n",
    "        print(f\"For {n = }, your expansion {e} had the last digit {e[-1]}, while it must be 1.\")\n",
    "        break\n",
    "\n",
    "    if not set(e).issubset({0, 1, -1}):\n",
    "        print(f\"Your expansion {e}, contained numbers other than 0, 1, -1.\")\n",
    "        break\n",
    "\n",
    "    if not consecutive_non_zero(e):\n",
    "        print(f\"For n = {0}, your expansion {e} had consecutive non-zero entries, which is not allowed.\")\n",
    "        break\n",
    "\n",
    "    nn = sum(e[i]*2^i for i in range(k))\n",
    "    if nn != n:\n",
    "        print(f\"For {n = }, your expansion {e} adds to {nn}, not n.\")\n",
    "        break\n",
    "\n",
    "else:\n",
    "    print(\"It works!\")"
   ]
  },
  {
   "cell_type": "markdown",
   "metadata": {},
   "source": [
    "## Problem 3: Menezes-Vanstone Elliptic Curve ElGamal\n",
    "\n",
    "In this problem we implement the [Menezes-Vanstone Elliptic Curve ElGamal cryptosystem](https://luisfinotti.org/pcimc/16-Elliptic_Curves.html#menezes-vanstone-elgamal-cryptography).  The book also has [an example](https://luisfinotti.org/pcimc/16-Elliptic_Curves.html#id1).\n",
    "\n",
    "We will assume we have an elliptic curve $E/\\mathbb{F}_p$ and a point $P \\in E(\\mathbb{F}_p)$ of order $M$ chosen."
   ]
  },
  {
   "cell_type": "markdown",
   "metadata": {},
   "source": [
    "### 3(a): Encryption\n",
    "\n",
    "Given $P$ (in $E(\\mathbb{F}_p)$) of order $M$, a public key $Q$ (denoted $Q_A$ in the book) and a message consisting of $m_1, m_2 \\in \\mathbb{F}_p$, this function should produce the encrypted message $(R,c_1,c_2)$ as [described in the book](https://luisfinotti.org/pcimc/16-Elliptic_Curves.html#menezes-vanstone-elgamal-cryptography) (so $R \\in E(\\mathbb{F}_p)$, $c_1, c_2 \\in \\mathbb{F}_p$).\n",
    "\n",
    "**Note:** Chose the random integer $n_B$ (in the algorithm) between $2$ and $M-1$.  ($M$ should be known, so it is one of the arguments of the function.)\n",
    "\n",
    "**Hints:** \n",
    "- To check if some point $P$ is equal to $\\mathcal{O}$ in Sage, you can do `P.is_zero()`.\n",
    "- To check if either coordinate of $P \\neq \\mathcal{O}$ is zero, you can do `0 in P.xy()`."
   ]
  },
  {
   "cell_type": "code",
   "execution_count": null,
   "metadata": {},
   "outputs": [],
   "source": [
    "def MV_EC_enc(P, M, Q, m1, m2):\n",
    "    \"\"\"\n",
    "    Menezes-Vanstone EC ElGamal encryption.\n",
    "\n",
    "    INPUTS:\n",
    "    P: a point in some elliptic curve over a finite field;\n",
    "    M: the order of the point P;\n",
    "    Q: the public ecnryption key;\n",
    "    m1, m2: the message (in the base field of the curve).\n",
    "\n",
    "    OUTPUT:\n",
    "    The encoded message, a triple (R, c1, c2), where R is a point on the same\n",
    "    curve, and c1, c2 are on the base field of the curve.\n",
    "    \"\"\"\n",
    "    ..."
   ]
  },
  {
   "cell_type": "markdown",
   "metadata": {},
   "source": [
    "### 3(b): Decryption\n",
    "\n",
    "Given $E$, $P$, a private key $n$ (denoted $n_A$ in the text), and cyphertext `v = (R, c1, c2)` (as above), it should output the original message `[m1, m2]`."
   ]
  },
  {
   "cell_type": "code",
   "execution_count": null,
   "metadata": {},
   "outputs": [],
   "source": [
    "def MV_EC_dec(P, n, v):\n",
    "    \"\"\"\n",
    "    Menezes-Vanstone EC ElGamal decryption.\n",
    "\n",
    "    INPUTS:\n",
    "    P: a point in some elliptic curve over a finite field;\n",
    "    n: the private ecnryption key;\n",
    "    v = [R, c1, c2]: an encrypted message (R in the same curve as P and c1 and\n",
    "                     c2 in the base field of the curve).\n",
    "\n",
    "    OUTPUT:\n",
    "    The decoded message, i.e., a pair [m1, m2] with both entries in the base field\n",
    "    of the elliptic curve.\n",
    "    \"\"\"\n",
    "    ..."
   ]
  },
  {
   "cell_type": "markdown",
   "metadata": {},
   "source": [
    "Let's now test both.  (We will use the same elliptic curve as used for bitcoin ECDSA.)"
   ]
  },
  {
   "cell_type": "code",
   "execution_count": null,
   "metadata": {},
   "outputs": [],
   "source": [
    "p = 2^256 - 2^32 - 977\n",
    "F = GF(p)\n",
    "E = EllipticCurve([F(0), F(7)])\n",
    "\n",
    "number_of_tests = 30\n",
    "\n",
    "for _ in range(number_of_tests):\n",
    "    P = E.random_element()\n",
    "    M = P.order()\n",
    "    n = randint(2, M - 1)\n",
    "    Q = n * P\n",
    "    m1 = F(randint(2, p - 2))\n",
    "    m2 = F(randint(2, p - 2))\n",
    "    v = MV_EC_enc(P, M, Q, m1, m2)\n",
    "    m = MV_EC_dec(P, n, v)\n",
    "    if m != [m1, m2]:\n",
    "        print(f\"The original message was {[m1, m2]}, but the decryption gave {m}.\")\n",
    "        break\n",
    "else:\n",
    "    print(\"It works!\")"
   ]
  },
  {
   "cell_type": "markdown",
   "metadata": {},
   "source": [
    "## Problem 4: ECDSA\n",
    "\n",
    "In this problem we implement the ECDSA, as [described in the book](https://luisfinotti.org/pcimc/16-Elliptic_Curves.html#elliptic-curve-dsa).  We assume we have some elliptic curve $E/\\mathbb{F}_p$ and a point $G$ of large (known) prime order $q$."
   ]
  },
  {
   "cell_type": "markdown",
   "metadata": {},
   "source": [
    "### 4(a): Signature\n",
    "\n",
    "Given $G \\in E(\\mathbb{F}_p)$, $q$ (both as above), a document $D \\in \\mathbb{F}_q$, and a (secret) signing key $s$, it should return $(D,s_1,s_2)$ (with $(s_1,s_2) \\in \\mathbb{F}_q^2$ being the signature).\n",
    "\n",
    "**Notes:** \n",
    "- Even though $|G|=q$, Sage does *not* allow you to multiply $G$ by an element in $\\mathbb{F}_q = \\mathbb{Z}/q\\mathbb{Z}$.  You can only multiply $G$ by integers.  So, if $a \\in \\mathbb{F}_q$, to compute $a \\cdot G$, you need to do `ZZ(a) * G`, not `a * G`.\n",
    "- Again, to convert an element from $\\mathbb{F}_p$ to $\\mathbb{F}_q$, it is safer to first convert it to an *integer*."
   ]
  },
  {
   "cell_type": "code",
   "execution_count": null,
   "metadata": {},
   "outputs": [],
   "source": [
    "def ECDSA_sign(G, q, D, s):\n",
    "    \"\"\"\n",
    "    ECDSA signing algorithm.\n",
    "\n",
    "    INPUTS:\n",
    "    G: a point on an elliptic curve over a finite field;\n",
    "    q: a prime, order of G;\n",
    "    D: a document to be signed (in Zmod(q));\n",
    "    s: the private signing key.\n",
    "\n",
    "    OUTPUT:\n",
    "    A triple (D, s1, s2), where D is the original document and (s1, s2) its\n",
    "    signature, with both entries in Zmod(q) as well.\n",
    "    \"\"\"\n",
    "    ..."
   ]
  },
  {
   "cell_type": "markdown",
   "metadata": {},
   "source": [
    "### 4(b): Verification\n",
    "\n",
    "Now, given the point $G$, a verification key $V$, the signed document $v = (D,s_1,s_2)$, your function should return `True` if it can be verified, and `False` otherwise.\n",
    "\n",
    "**Notes:**\n",
    "\n",
    "- Again, even though $|G|=q$, Sage does *not* allow you to multiply $G$ by an element in $\\mathbb{F}_q = \\mathbb{Z}/q\\mathbb{Z}$.  You can only multiply $G$ by integers.  So, if $a \\in \\mathbb{F}_q$, to compute $a \\cdot G$, you need to do `ZZ(a) * G`, not `a * G`.\n",
    "- To get the field of definition $\\mathbb{F}_q$ from $s_1$, we can do `Fq = parent(s1)`."
   ]
  },
  {
   "cell_type": "code",
   "execution_count": null,
   "metadata": {},
   "outputs": [],
   "source": [
    "def ECDSA_ver(G, V, v):\n",
    "    \"\"\"\n",
    "    ECDSA verification algorithm.\n",
    "    \"\"\"\n",
    "    ..."
   ]
  },
  {
   "cell_type": "markdown",
   "metadata": {},
   "source": [
    "Again, let's test both:"
   ]
  },
  {
   "cell_type": "code",
   "execution_count": null,
   "metadata": {},
   "outputs": [],
   "source": [
    "p = 2^256 - 2^32 - 977\n",
    "F = GF(p)\n",
    "E = EllipticCurve([F(0), F(7)])\n",
    "q = E.count_points()\n",
    "\n",
    "number_of_tests = 30\n",
    "\n",
    "for _ in range(number_of_tests):\n",
    "    G = E.random_element()\n",
    "    s = randint(2, q - 1)\n",
    "    V = s * G\n",
    "    D = randint(2, q - 1)\n",
    "\n",
    "    signed_D = ECDSA_sign(G, q, D, s)\n",
    "\n",
    "    if not ECDSA_ver(G, V, signed_D):\n",
    "        print(\"Signature was valid, but failed to authenticate.\")\n",
    "        break\n",
    "\n",
    "    DD = D + randint(2, q - 1)\n",
    "    faked_D = [DD, signed_D[1], signed_D[2]]\n",
    "\n",
    "    if ECDSA_ver(G, V, faked_D):\n",
    "        print(\"Document was altered, but passed authentication.\")\n",
    "        break\n",
    "\n",
    "    Fq = FiniteField(q)\n",
    "    faked_sign = [D, signed_D[1] + Fq(randint(2, q - 1)), signed_D[2] + Fq(randint(2, q - 1))]\n",
    "    if ECDSA_ver(G, V, faked_sign):\n",
    "        print(\"Signature was fake, but passed authentication.\")\n",
    "        break\n",
    "else:\n",
    "    print(\"It works!\")"
   ]
  }
 ],
 "metadata": {
  "kernelspec": {
   "display_name": "SageMath 10.5",
   "language": "sage",
   "name": "sage-10.5"
  },
  "language_info": {
   "codemirror_mode": {
    "name": "ipython",
    "version": 3
   },
   "file_extension": ".py",
   "mimetype": "text/x-python",
   "name": "python",
   "nbconvert_exporter": "python",
   "pygments_lexer": "ipython3",
   "version": "3.12.5"
  }
 },
 "nbformat": 4,
 "nbformat_minor": 4
}
