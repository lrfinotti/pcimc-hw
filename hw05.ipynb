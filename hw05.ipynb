{
 "cells": [
  {
   "cell_type": "markdown",
   "metadata": {},
   "source": [
    "# Homework 5"
   ]
  },
  {
   "cell_type": "markdown",
   "metadata": {},
   "source": [
    "## Note on Lists\n",
    "\n",
    "As [observed in the book](https://luisfinotti.org/pcimc/08-CRT_Bezout.html#scope-of-variables), one has to be careful when a functions takes a list as an argument, as it might, unintentionally, alter the original.  If that is not the intent, one should make a *copy* of the list with either\n",
    "\n",
    "```python\n",
    "new_list = old_list.copy()\n",
    "```\n",
    "\n",
    "or, with the advantage of making other objects like tuples into lists, with\n",
    "\n",
    "```python\n",
    "new_list = list(old_list)\n",
    "```"
   ]
  },
  {
   "cell_type": "markdown",
   "metadata": {},
   "source": [
    "## Problem 1: Chinese Remainder Theorem\n",
    "\n",
    "Given a lists $a = (a_1, \\ldots, a_k)$ and $m = (m_1, \\ldots , m_k)$, with all $m_i$'s pairwise relatively prime find an integer $x$ between $0$ and $n = \\mathrm{lcm}(m_1, \\ldots, m_k)$ such that\n",
    "$$\n",
    "    x \\equiv a_1 \\pmod{m_1}, \\\\\n",
    "    x \\equiv a_2 \\pmod{m_2}, \\\\ \n",
    "    \\vdots \\\\\n",
    "    x \\equiv a_k \\pmod{m_k}.\n",
    "$$\n",
    "Note that by the [Chinese Remainder Theorem](https://luisfinotti.org/pcimc/08-CRT_Bezout.html#th-crt) we know such $x$ exists (since the $m_i$'s are pairwise relatively prime).\n",
    "\n",
    "Since it should be unique in $\\Z/n\\Z$, where $n = \\mathrm{lcm}(m_1, \\ldots , m_k)$, as above, give your solution in $\\mathbb{Z}/n\\mathbb{Z}$, **not** in $\\mathbb{Z}$.\n",
    "\n",
    "**Hint:** The process is [described in the book](https://luisfinotti.org/pcimc/08-CRT_Bezout.html#the-chinese-remainder-theorem) and an [Example](https://luisfinotti.org/pcimc/08-CRT_Bezout.html#example) is given.  But note that we can use the list method [pop](https://www.w3schools.com/Python/ref_list_pop.asp) to remove elements from the end, and the method [append](https://www.w3schools.com/python/ref_list_append.asp) to add elements to the end of the list.  So, one can use them to replace the *last* two congruences with a single one, instead of the first two."
   ]
  },
  {
   "cell_type": "code",
   "execution_count": null,
   "metadata": {
    "collapsed": false,
    "jupyter": {
     "outputs_hidden": false
    }
   },
   "outputs": [],
   "source": [
    "def my_crt(a, m):\n",
    "    \"\"\"\n",
    "    Given lists a = [a1, a2, ...] and m = [m1, m2, ...] find x such that x is\n",
    "    congruent to ao mod ai for each i.\n",
    "\n",
    "    INPUTS:\n",
    "    a: a list of integers.\n",
    "    m: a list of pairwise relatively prime integers greater than or equal to 2\n",
    "       of the same length as a.  (The moduli.)\n",
    "\n",
    "    OUTPUT:\n",
    "    Some interger x between 0 and the prodcut of entries of m minus 1 such that\n",
    "    x is congruent to ai modulo mi for each i.\n",
    "    \"\"\"\n",
    "    a = list(a)  # copy of a\n",
    "    m = list(m)  # copy of m\n",
    "    ..."
   ]
  },
  {
   "cell_type": "markdown",
   "metadata": {},
   "source": [
    "Test it:"
   ]
  },
  {
   "cell_type": "code",
   "execution_count": null,
   "metadata": {
    "collapsed": false,
    "jupyter": {
     "outputs_hidden": false
    }
   },
   "outputs": [],
   "source": [
    "number_of_tests = 30\n",
    "max_length = 10\n",
    "max_mod = 10000\n",
    "\n",
    "\n",
    "for _ in range(number_of_tests):\n",
    "    length = randint(1, max_length + 1)\n",
    "    m = []\n",
    "    while len(m) < length:\n",
    "        mi = ZZ(randint(2, max_mod))\n",
    "        stop = False\n",
    "        for mj in m:\n",
    "            if gcd(mi, mj) != 1:\n",
    "                stop = True\n",
    "                break\n",
    "        if not stop:\n",
    "            m.append(mi)\n",
    "\n",
    "    a = [ZZ(randint(0, mi)) for mi in m]\n",
    "\n",
    "    # let's create copies to be safe\n",
    "    cm = list(m)\n",
    "    ca = list(a)\n",
    "\n",
    "    res_mod = prod(m)\n",
    "    result = my_crt(ca, cm)\n",
    "    expected = Mod(crt(a, m), res_mod)\n",
    "\n",
    "    if ca != a or cm != m:\n",
    "        print(f\"Your function changed the lists!\")\n",
    "        print(f\"Original a: {a}.  After: {ca}.\")\n",
    "        print(f\"Original m: {m}.  After: {cm}.\")\n",
    "        break\n",
    "\n",
    "    n = parent(result).characteristic()\n",
    "\n",
    "    if n != res_mod:\n",
    "        print(f\"Failed for {a = } and {m = }.\")\n",
    "        print(f\"Your solution should be modulo {res_mod}Z, not modulo {n}.\")\n",
    "        break\n",
    "\n",
    "    if result != Mod(expected, n):\n",
    "        print(f\"Failed for {a = } and {m = }.\")\n",
    "        print(f\"The solution should be {expected}, not {result}.\")\n",
    "        break\n",
    "else:\n",
    "    print(\"It works!\")"
   ]
  },
  {
   "cell_type": "markdown",
   "metadata": {},
   "source": [
    "## Problem 2: Extended Euclidean Algorithm for Many Integers\n",
    "\n",
    "In this problem we will compute the $\\gcd(a_1,a_2,\\ldots, a_n)$ and find $r_1, r_2, \\ldots , r_n$ such that $\\gcd(a_1,a_2,\\ldots, a_n) = r_1 \\cdot a_1 + r_2 \\cdot a_2 + \\cdots + r_n \\cdot a_n$.  This is [discussed in the book](https://luisfinotti.org/pcimc/08-CRT_Bezout.html#generalized-bezout-s-lemma) and the [algorithm is given](https://luisfinotti.org/pcimc/08-CRT_Bezout.html#al-geea).  (We also have [an example](https://luisfinotti.org/pcimc/08-CRT_Bezout.html#id2).)\n",
    "\n",
    "The input then is a list `v` (with $v = (a_1, \\ldots , a_n)$) and the output is a pair `d, w`, where $d$ is the GCD of the $a_i$'s and $w = (r_1, \\ldots, r_n)$ as above.  (After you find `d` and `w`, you just do `return d, w` in your function.)\n",
    "\n",
    "**Hints:**\n",
    "\n",
    "  * Make sure to make a copy of `v` instead of working directly with it!\n",
    "  * To remove the the last element of a list, use the method `.pop()`.  It gives as *output* the last element of the list **and** removes this last element from the list itself (thus changing the list.)\n",
    "  * To add an element, say `a`, to the beginning of a vector/list `v`, you can do `v.insert(0, a)`, or `[a] + v`.  \n",
    "  * To multiply all elements of a list `v` by a number `a`, you can do `[x * a for x in v]`.\n",
    "\n",
    "**Note:**  One could also do this using a [recursion](https://en.wikipedia.org/wiki/Recursion_(computer_science)), but it is not as efficient."
   ]
  },
  {
   "cell_type": "code",
   "execution_count": null,
   "metadata": {
    "collapsed": false,
    "jupyter": {
     "outputs_hidden": false
    }
   },
   "outputs": [],
   "source": [
    "def xea2(v):\n",
    "    \"\"\"\n",
    "    Extended Euclidean Algorithm for a vector v.  If v = [a1, a2, ... , an], then\n",
    "    retruns the GCD d of the ai's and [r1, r2, ... , rn] such that \n",
    "      d = r1 * a1 + r2 * a2 + ... + rn * an.\n",
    "\n",
    "    INPUT:\n",
    "    v: a list of integers.\n",
    "\n",
    "    OUTPUT:\n",
    "    d: the GCD of the elements of v.\n",
    "    w: a list [r1, r2, ..., rn] that coordinatewise multiplied by v and added\n",
    "       gives d.\n",
    "    \"\"\"\n",
    "    v = list(v)  # make a copy to not alter original!\n",
    "    ..."
   ]
  },
  {
   "cell_type": "markdown",
   "metadata": {},
   "source": [
    "Test it:"
   ]
  },
  {
   "cell_type": "code",
   "execution_count": null,
   "metadata": {
    "collapsed": false,
    "jupyter": {
     "outputs_hidden": false
    }
   },
   "outputs": [],
   "source": [
    "number_of_tests = 30\n",
    "max_length = 10  # max length of v\n",
    "max_a = 10000  # max number\n",
    "\n",
    "for _ in range(number_of_tests):\n",
    "    v = [randint(1, max_a) for i in range(randint(2, max_length + 1))]\n",
    "    vv = list(v)  # to make sure the function doesn't mess v up\n",
    "    d_res, w_res = xea2(v)\n",
    "    d_exp = gcd(v)\n",
    "\n",
    "    if v != vv:\n",
    "        print(f\"You've changed the original v.  Original: {vv}.  After the function: {v}.\")\n",
    "        break\n",
    "\n",
    "    if len(w_res) != len(v):\n",
    "        print(f\"Your w has length {len(w_res)}, but it should have the same length {len(vv)}, the same as v.\")\n",
    "        print(f\"{w_res = }\")\n",
    "        print(f\"{v = }\")\n",
    "        break\n",
    "\n",
    "    if d_res != d_exp:\n",
    "        print(f\"It gives GCD {d_res} when it should be {d_exp}.\")\n",
    "        print(f\"{w_res = }\")\n",
    "        break\n",
    "\n",
    "    res_sum = sum([vv[i] * w_res[i] for i in range(len(vv))])\n",
    "    if res_sum != d_res:\n",
    "        print(f\"It adds to {res_sum}, not to the GCD {d_res}.\")\n",
    "        print(f\"{w_res = }\")\n",
    "        print(f\"{v = }\")\n",
    "        break\n",
    "else:\n",
    "    print(\"It works!\")"
   ]
  },
  {
   "cell_type": "markdown",
   "metadata": {},
   "source": [
    "### Alternative (but worse!) Solution: Recursion\n",
    "\n",
    "**You cannot use this (recursion) in your solution!**\n",
    "\n",
    "Here is the idea: If `v` has length 2, just use Sage's built in `xgcd` to get the GCD of the two elements and the two entries of the ouptut vector.\n",
    "\n",
    "For *larger length* (all that comes now assumes that `v` has length greater than 2), we can use a [recursion](https://en.wikipedia.org/wiki/Recursion_(computer_science)): we have that $\\gcd(a_1,a_2,\\ldots ,a_n) = \\gcd(a_1, \\gcd(a_2, \\ldots , a_n))$ (which we can get using `xgcd`, since the right-hand side has only two entries, $a_1$ and $\\gcd(a_2, \\ldots , a_n)$!).\n",
    "\n",
    "So, inside our function we call the function itself with `xea3(v[1:])` (where `v[1:]` just gives the vector `v` minus its first entry, i.e., $(a_2, \\ldots , a_n)$).  This gives some `e` (which is $\\gcd(a_2, \\ldots ,a_n)$) and a vector `w` (that gives the linear combination for this smaller vector), say $w = (t_2, \\ldots, t_n)$.\n",
    "\n",
    "With `e` we can call `xgcd(v[0], e)`, which gives `g, r, s`, where `g` is the GCD of `v[0]` and `e` (so, the GCD of $a_1$ and $\\gcd(a_2, \\ldots, a_n)$, i.e., $\\gcd(a_1, a_2, \\ldots, a_n)$ which we wanted), and `g = r*v[0] + s*e`.  So, we already have our GCD to give (namely, `g` above), and hence we just need the vector that gives the linear combination.  This is simply $(r, s \\cdot t_2, s \\cdot t_3 , \\ldots , s \\cdot t_n)$ (with $r$ and $s$ from this last call of `xgcd` and $t_i$'s from the vector `w` from the recursive call (in the above paragraph))."
   ]
  },
  {
   "cell_type": "code",
   "execution_count": null,
   "metadata": {},
   "outputs": [],
   "source": [
    "def xea3(v):\n",
    "    \"\"\"\n",
    "    Extended Euclidean Algorith for a vector v, but USING RECURSION!\n",
    "\n",
    "    If v = [a1, a2, ... , an], then retruns the GCD d of the ai's and \n",
    "    [r1, r2, ... , rn] such that \n",
    "      d = r1 * a1 + r2 * a2 + ... + rn * an.\n",
    "\n",
    "    INPUT:\n",
    "    v: a list of integers.\n",
    "\n",
    "    OUTPUT:\n",
    "    d: the GCD of the elements of v.\n",
    "    w: a list [r1, r2, ..., rn] that coordinatewise multiplied by v and added\n",
    "       gives d.\n",
    "    \"\"\"\n",
    "    if len(v) == 2:\n",
    "        d, u, v = xgcd(v[0], v[1])\n",
    "        return d, [u, v]\n",
    "    e, w = xea3(v[1:])  # calls itself\n",
    "    d, r, s = xgcd(v[0], e)\n",
    "    return d, [r] + [s * x for x in w]"
   ]
  },
  {
   "cell_type": "markdown",
   "metadata": {},
   "source": [
    "Let's test it:"
   ]
  },
  {
   "cell_type": "code",
   "execution_count": null,
   "metadata": {},
   "outputs": [],
   "source": [
    "number_of_tests = 30\n",
    "max_length = 10  # max length of v\n",
    "max_a = 10000  # max number\n",
    "\n",
    "for _ in range(number_of_tests):\n",
    "    v = [randint(1, max_a) for i in range(randint(2, max_length + 1))]\n",
    "    vv = list(v)  # to make sure the function doesn't mess v up\n",
    "    d_res, w_res = xea3(v)\n",
    "    d_exp = gcd(v)\n",
    "\n",
    "    if v != vv:\n",
    "        print(f\"You've changed the original v.  Original: {vv}.  After the function: {v}.\")\n",
    "        break\n",
    "\n",
    "    if len(w_res) != len(v):\n",
    "        print(f\"Your w has length {len(w_res)}, but it should have the same length {len(vv)}, the same as v.\")\n",
    "        print(f\"{w_res = }\")\n",
    "        print(f\"{v = }\")\n",
    "        break\n",
    "\n",
    "    if d_res != d_exp:\n",
    "        print(f\"It gives GCD {d_res} when it should be {d_exp}.\")\n",
    "        print(f\"{w_res = }\")\n",
    "        break\n",
    "\n",
    "    res_sum = sum([vv[i] * w_res[i] for i in range(len(vv))])\n",
    "    if res_sum != d_res:\n",
    "        print(f\"It adds to {res_sum}, not to the GCD {d_res}.\")\n",
    "        print(f\"{w_res = }\")\n",
    "        print(f\"{v = }\")\n",
    "        break\n",
    "else:\n",
    "    print(\"It works!\")"
   ]
  },
  {
   "cell_type": "markdown",
   "metadata": {},
   "source": [
    "But let's test it and compare with some long list:"
   ]
  },
  {
   "cell_type": "code",
   "execution_count": null,
   "metadata": {},
   "outputs": [],
   "source": [
    "length = 965\n",
    "max_a = 100000000\n",
    "v = [randint(max_a // 2, max_a) for i in range(length)]"
   ]
  },
  {
   "cell_type": "code",
   "execution_count": null,
   "metadata": {},
   "outputs": [],
   "source": [
    "%%time\n",
    "res1 = xea2(v)"
   ]
  },
  {
   "cell_type": "code",
   "execution_count": null,
   "metadata": {},
   "outputs": [],
   "source": [
    "%%time\n",
    "res2 = xea3(v)"
   ]
  },
  {
   "cell_type": "code",
   "execution_count": null,
   "metadata": {},
   "outputs": [],
   "source": [
    "res1 == res2"
   ]
  },
  {
   "cell_type": "markdown",
   "metadata": {},
   "source": [
    "So, the times are pretty similar!  But see what happens for even longer lists:"
   ]
  },
  {
   "cell_type": "code",
   "execution_count": null,
   "metadata": {},
   "outputs": [],
   "source": [
    "length = 20000\n",
    "max_a = 10000000\n",
    "v = [randint(max_a // 2, max_a) for i in range(length)]"
   ]
  },
  {
   "cell_type": "code",
   "execution_count": null,
   "metadata": {},
   "outputs": [],
   "source": [
    "%%time\n",
    "res1 = xea2(v)"
   ]
  },
  {
   "cell_type": "code",
   "execution_count": null,
   "metadata": {
    "scrolled": true
   },
   "outputs": [],
   "source": [
    "%%time\n",
    "res2 = xea3(v)"
   ]
  },
  {
   "cell_type": "markdown",
   "metadata": {},
   "source": [
    "## Problem 3: Pohlig-Hellman Algorithm\n",
    "\n",
    "Here we will implement the [Pohlig-Hellman algorithm](https://luisfinotti.org/pcimc/09-Improving_DL.html#al-ph) described the book.\n",
    "\n",
    "Given elements $g$ and $h$ in $\\mathbb{F}_p^{\\times}$, we want to solve the discrete log of $h$ base $g$ (i.e., find $x$ such that $g^x = h$), by solving for elements whose order that are a *power of a prime only* (so if $|g| = q^e$ for some prime $q$ and positive integer $e$).\n",
    "\n",
    "To solve these, you call Sage's own `discrete_log(h, g)` function.  (Note that $h$ comes first!)  **But, you can only use it if $g$ has order power of prime!**\n",
    "\n",
    "We will assume that there is a solution here!  (No need to check for that in your code.)\n",
    "\n",
    "You will also need to use the Chinese Remainder Theorem.  Instead of using your own (above), use Sage's built in `crt(a, m)` (with `a` and `m` as in the previous problem, so it's the same syntax!).  On the other hand, its output is an *integer*.\n",
    "\n",
    "To factor $N$, the order of the given $g$, use Sage's `factor(N)`.  Although `factor(N)` prints \"nicely\", it is actually a vector of the form `[[p1, e1], [p2, e2], ... ,[pk, ek]]`, where $N = p_1^{e_1} p_2^{e_2} \\cdots p_k^{e_k}$:"
   ]
  },
  {
   "cell_type": "code",
   "execution_count": null,
   "metadata": {
    "collapsed": false,
    "jupyter": {
     "outputs_hidden": false
    }
   },
   "outputs": [],
   "source": [
    "N = 2^4 * 3^7 * 5^11\n",
    "N_factorization = factor(N)\n",
    "print(N_factorization)"
   ]
  },
  {
   "cell_type": "markdown",
   "metadata": {},
   "source": [
    "It prints it nicely, but we can *loop through the factorization*:"
   ]
  },
  {
   "cell_type": "code",
   "execution_count": null,
   "metadata": {},
   "outputs": [],
   "source": [
    "for q, e in N_factorization:\n",
    "    print(f\"prime = {q}, power = {e}\")"
   ]
  },
  {
   "cell_type": "markdown",
   "metadata": {},
   "source": [
    "Note that your output, namely the $x$ that is a solution of $g^x = h$, must be an *integer* in $\\{0, 1, \\ldots, N-1 \\}$  (where $N = |g|$)."
   ]
  },
  {
   "cell_type": "code",
   "execution_count": null,
   "metadata": {
    "collapsed": false,
    "jupyter": {
     "outputs_hidden": false
    }
   },
   "outputs": [],
   "source": [
    "def pha(h, g):\n",
    "    \"\"\"\n",
    "    Use the Pohlig-Hellman algorithm to compute the discrete log by reducing\n",
    "    to the case when g has order power of a prime.\n",
    "\n",
    "    INPUTS:\n",
    "    h, g: units of Zmod(p), where h is some power of g.\n",
    "\n",
    "    OUTPUT:\n",
    "    The discrete log base g of h, i.e., the power x such that g^x = h (an integer\n",
    "    between 0 and the order of g minus one).\n",
    "    \"\"\"\n",
    "    ..."
   ]
  },
  {
   "cell_type": "markdown",
   "metadata": {},
   "source": [
    "Test it:"
   ]
  },
  {
   "cell_type": "code",
   "execution_count": null,
   "metadata": {
    "collapsed": false,
    "jupyter": {
     "outputs_hidden": false
    }
   },
   "outputs": [],
   "source": [
    "number_of_tests = 30\n",
    "minp = 100\n",
    "maxp = 10000\n",
    "\n",
    "for _ in range(number_of_tests):\n",
    "    p = random_prime(maxp, lbound=minp)\n",
    "    F = FiniteField(p)\n",
    "    g = F.primitive_element()\n",
    "    k = randint(2, p - 2)\n",
    "    h = g^k\n",
    "    result = pha(h, g)\n",
    "    if result != k:\n",
    "        print(f\"Fails for {p = }, with {g = } and {h = }.  The result should be {k}, not {result}.\")\n",
    "        break\n",
    "else:\n",
    "    print(\"It works!\")"
   ]
  },
  {
   "cell_type": "markdown",
   "metadata": {},
   "source": [
    "## Problem 4:  Reduce DLP to Order Prime Only\n",
    "\n",
    "Now, we will solve the discrete log $\\log_g(h)$ in the case when $|g|=q^e$, for some $q$ prime and positive integer $e$, by reducing to the case when $|g|$ is prime, using the [algorithm described in the book](https://luisfinotti.org/pcimc/09-Improving_DL.html#al-dl-power).\n",
    "\n",
    "So, similar to the above, you will call Sage's `discrete_log(h, g)`, but now **only for $g$ of *prime order* (and not power of prime order).**\n",
    "\n",
    "Hence, we will *assume* here that the given $g$ has order power of prime.  You do not need to check it in your code.\n",
    "\n",
    "**Hint:** \n",
    "\n",
    "1) There is also an [example in the book](https://luisfinotti.org/pcimc/09-Improving_DL.html#example) that might also help.\n",
    "2) Since we know that $|g| = q^e$, we can get $q$ and $e$ with `q, e = factor(g.multiplicative_order())[0]`."
   ]
  },
  {
   "cell_type": "code",
   "execution_count": null,
   "metadata": {},
   "outputs": [],
   "source": [
    "def pha2(h, g):\n",
    "    \"\"\"\n",
    "    Given g of order power of a prime, compute the discrete log of h base g by\n",
    "    reducing to computations of discrete logs with bases of prime order.\n",
    "\n",
    "    INPUTS:\n",
    "    h, g: units of Zmod(p), where g has order power of some prime and h is some \n",
    "          power of g.\n",
    "\n",
    "    OUTPUT:\n",
    "    The discrete log base g of h, i.e., the power x such that g^x = h (an integer\n",
    "    between 0 and the order of g minus one).\n",
    "    \"\"\"\n",
    "    ..."
   ]
  },
  {
   "cell_type": "markdown",
   "metadata": {},
   "source": [
    "Test it:"
   ]
  },
  {
   "cell_type": "code",
   "execution_count": null,
   "metadata": {
    "collapsed": false,
    "jupyter": {
     "outputs_hidden": false
    }
   },
   "outputs": [],
   "source": [
    "number_of_tests = 30\n",
    "minp = 100\n",
    "maxp = 100000\n",
    "\n",
    "for _ in range(number_of_tests):\n",
    "    while True:\n",
    "        p = random_prime(maxp, lbound=minp)\n",
    "        f = [v for v in factor(p - 1)]\n",
    "        f = f[1:]  # let's remove powers of 2\n",
    "        if f != []:\n",
    "            exponents = [v[1] for v in f]\n",
    "            e = max(exponents)\n",
    "            if e >= 4:\n",
    "                i = exponents.index(e)\n",
    "                q = f[i][0]\n",
    "                break\n",
    "    F = FiniteField(p)\n",
    "    g = F.primitive_element()^((p - 1) / q^e)\n",
    "    k = randint(2, q^e - 1)\n",
    "    h = g^k\n",
    "    result = pha2(h, g)\n",
    "    if result != k:\n",
    "        print(\n",
    "            f\"Faild for {p = }, {g = }, and {h = }.  The result should be {k}, not {result}.\"\n",
    "        )\n",
    "        break\n",
    "else:\n",
    "    print(\"It works!\")"
   ]
  },
  {
   "cell_type": "markdown",
   "metadata": {},
   "source": [
    "## Reading: Optimizing the DLP\n",
    "\n",
    "(You don't have to do any work in this section, but you should read it!)\n",
    "\n",
    "So, one can put the previous two problems together with Shank's *Babystep-Giantstep* algorithm (from the previous HW) to compute discrete logs (without using Sage at all) efficiently, as long as we factor $|g|$ (which might actually be hard).\n",
    "\n",
    "It would go something like this (to find $x$ such that $g^x = h$):\n",
    "\n",
    "1. Factor $N=|g|$, say $N = q_1^{e_1} \\cdots q_k^{e_k}$.\n",
    "2. Use the Pohlig-Hellman algorithm (your function `pha`) to reduce this computation to computations of discrete logs for $g$ of order power of a prime.\n",
    "3. Instead of calling Sage's `discrete_log` inside `pha`, you call `pha2`, to break this computation into computations of discrete logs only for $g$ of prime order.\n",
    "4. Instead of calling Sage's `discrete_log` inside `pha2`, you use the Babystep-Giantstep algorithm (`bsgs` from the previous HW.)"
   ]
  },
  {
   "cell_type": "markdown",
   "metadata": {},
   "source": [
    "I've run a test comparing using the Babystep-Giantstep algorithm directly, for $|g| = 61119897840 = 2^4 \\cdot 3^4 \\cdot 5 \\cdot 389 \\cdot 24247$, and this method described above to compare the two.  The former took 1 minutes and 41 seconds, while the latter took 3 *milisconds*!\n",
    "\n",
    "If your functions were implemented correctly, you can try this out.  (I can't show it here since it would give away solutions.)"
   ]
  }
 ],
 "metadata": {
  "kernelspec": {
   "display_name": "SageMath 10.5",
   "language": "sage",
   "name": "sage-10.5"
  },
  "language_info": {
   "codemirror_mode": {
    "name": "ipython",
    "version": 3
   },
   "file_extension": ".py",
   "mimetype": "text/x-python",
   "name": "python",
   "nbconvert_exporter": "python",
   "pygments_lexer": "ipython3",
   "version": "3.12.5"
  }
 },
 "nbformat": 4,
 "nbformat_minor": 4
}
